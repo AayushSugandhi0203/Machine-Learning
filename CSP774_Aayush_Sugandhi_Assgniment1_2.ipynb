{
  "nbformat": 4,
  "nbformat_minor": 0,
  "metadata": {
    "colab": {
      "name": "ML_CSP774_Aayush_Sugandhi_Assgniment1_2.ipynb",
      "provenance": [],
      "toc_visible": true
    },
    "kernelspec": {
      "name": "python3",
      "display_name": "Python 3"
    }
  },
  "cells": [
    {
      "cell_type": "markdown",
      "metadata": {
        "id": "h2IYqCQHVP6s"
      },
      "source": [
        "# ***Assignment 1 Part 1***\n"
      ]
    },
    {
      "cell_type": "markdown",
      "metadata": {
        "id": "Z7Rsx80BVa9K"
      },
      "source": [
        "## Import the Libraries  & Visualize the Data"
      ]
    },
    {
      "cell_type": "code",
      "metadata": {
        "id": "PjlfO-GPTbmC"
      },
      "source": [
        "import pandas as pd\n",
        "import numpy as np\n",
        "\n",
        "import matplotlib.pyplot as plt\n",
        "%matplotlib inline"
      ],
      "execution_count": null,
      "outputs": []
    },
    {
      "cell_type": "code",
      "metadata": {
        "id": "Si07K8u7UJGZ"
      },
      "source": [
        "df = pd.read_csv('complaint.csv')"
      ],
      "execution_count": null,
      "outputs": []
    },
    {
      "cell_type": "code",
      "metadata": {
        "id": "iLlOBTOWVkhj",
        "colab": {
          "base_uri": "https://localhost:8080/",
          "height": 406
        },
        "outputId": "2004ab71-14bb-4ac4-be61-182353d62032"
      },
      "source": [
        "df.head(7)\n"
      ],
      "execution_count": null,
      "outputs": [
        {
          "output_type": "execute_result",
          "data": {
            "text/html": [
              "<div>\n",
              "<style scoped>\n",
              "    .dataframe tbody tr th:only-of-type {\n",
              "        vertical-align: middle;\n",
              "    }\n",
              "\n",
              "    .dataframe tbody tr th {\n",
              "        vertical-align: top;\n",
              "    }\n",
              "\n",
              "    .dataframe thead th {\n",
              "        text-align: right;\n",
              "    }\n",
              "</style>\n",
              "<table border=\"1\" class=\"dataframe\">\n",
              "  <thead>\n",
              "    <tr style=\"text-align: right;\">\n",
              "      <th></th>\n",
              "      <th>Ticket #</th>\n",
              "      <th>Customer Complaint</th>\n",
              "      <th>Date</th>\n",
              "      <th>Date_month_year</th>\n",
              "      <th>Time</th>\n",
              "      <th>Received Via</th>\n",
              "      <th>City</th>\n",
              "      <th>State</th>\n",
              "      <th>Zip code</th>\n",
              "      <th>Status</th>\n",
              "      <th>Filing on Behalf of Someone</th>\n",
              "    </tr>\n",
              "  </thead>\n",
              "  <tbody>\n",
              "    <tr>\n",
              "      <th>0</th>\n",
              "      <td>250635</td>\n",
              "      <td>Cable Internet Speeds</td>\n",
              "      <td>22-04-2015</td>\n",
              "      <td>22-Apr-15</td>\n",
              "      <td>3:53:50 PM</td>\n",
              "      <td>Customer Care Call</td>\n",
              "      <td>Abingdon</td>\n",
              "      <td>Maryland</td>\n",
              "      <td>21009</td>\n",
              "      <td>Closed</td>\n",
              "      <td>No</td>\n",
              "    </tr>\n",
              "    <tr>\n",
              "      <th>1</th>\n",
              "      <td>223441</td>\n",
              "      <td>Payment disappear - service got disconnected</td>\n",
              "      <td>04-08-2015</td>\n",
              "      <td>04-Aug-15</td>\n",
              "      <td>10:22:56 AM</td>\n",
              "      <td>Internet</td>\n",
              "      <td>Acworth</td>\n",
              "      <td>Georgia</td>\n",
              "      <td>30102</td>\n",
              "      <td>Closed</td>\n",
              "      <td>No</td>\n",
              "    </tr>\n",
              "    <tr>\n",
              "      <th>2</th>\n",
              "      <td>242732</td>\n",
              "      <td>Speed and Service</td>\n",
              "      <td>18-04-2015</td>\n",
              "      <td>18-Apr-15</td>\n",
              "      <td>9:55:47 AM</td>\n",
              "      <td>Internet</td>\n",
              "      <td>Acworth</td>\n",
              "      <td>Georgia</td>\n",
              "      <td>30101</td>\n",
              "      <td>Closed</td>\n",
              "      <td>Yes</td>\n",
              "    </tr>\n",
              "    <tr>\n",
              "      <th>3</th>\n",
              "      <td>277946</td>\n",
              "      <td>Imposed a New Usage Cap of 300GB that punishe...</td>\n",
              "      <td>05-07-2015</td>\n",
              "      <td>05-Jul-15</td>\n",
              "      <td>11:59:35 AM</td>\n",
              "      <td>Internet</td>\n",
              "      <td>Acworth</td>\n",
              "      <td>Georgia</td>\n",
              "      <td>30101</td>\n",
              "      <td>Open</td>\n",
              "      <td>Yes</td>\n",
              "    </tr>\n",
              "    <tr>\n",
              "      <th>4</th>\n",
              "      <td>307175</td>\n",
              "      <td>not working and no service to boot</td>\n",
              "      <td>26-05-2015</td>\n",
              "      <td>26-May-15</td>\n",
              "      <td>1:25:26 PM</td>\n",
              "      <td>Internet</td>\n",
              "      <td>Acworth</td>\n",
              "      <td>Georgia</td>\n",
              "      <td>30101</td>\n",
              "      <td>Solved</td>\n",
              "      <td>No</td>\n",
              "    </tr>\n",
              "    <tr>\n",
              "      <th>5</th>\n",
              "      <td>338519</td>\n",
              "      <td>ISP Charging for arbitrary data limits with ov...</td>\n",
              "      <td>06-12-2015</td>\n",
              "      <td>06-Dec-15</td>\n",
              "      <td>9:59:40 PM</td>\n",
              "      <td>Internet</td>\n",
              "      <td>Acworth</td>\n",
              "      <td>Georgia</td>\n",
              "      <td>30101</td>\n",
              "      <td>Solved</td>\n",
              "      <td>No</td>\n",
              "    </tr>\n",
              "    <tr>\n",
              "      <th>6</th>\n",
              "      <td>361148</td>\n",
              "      <td>Throttling service and unreasonable data caps</td>\n",
              "      <td>24-06-2015</td>\n",
              "      <td>24-Jun-15</td>\n",
              "      <td>10:13:55 AM</td>\n",
              "      <td>Customer Care Call</td>\n",
              "      <td>Acworth</td>\n",
              "      <td>Georgia</td>\n",
              "      <td>30101</td>\n",
              "      <td>Pending</td>\n",
              "      <td>No</td>\n",
              "    </tr>\n",
              "  </tbody>\n",
              "</table>\n",
              "</div>"
            ],
            "text/plain": [
              "  Ticket #  ... Filing on Behalf of Someone\n",
              "0   250635  ...                          No\n",
              "1   223441  ...                          No\n",
              "2   242732  ...                         Yes\n",
              "3   277946  ...                         Yes\n",
              "4   307175  ...                          No\n",
              "5   338519  ...                          No\n",
              "6   361148  ...                          No\n",
              "\n",
              "[7 rows x 11 columns]"
            ]
          },
          "metadata": {
            "tags": []
          },
          "execution_count": 3
        }
      ]
    },
    {
      "cell_type": "code",
      "metadata": {
        "id": "BdYksc0FVmLN",
        "colab": {
          "base_uri": "https://localhost:8080/",
          "height": 336
        },
        "outputId": "65129da5-68cd-4614-d79d-d050b56b7177"
      },
      "source": [
        "df.info()\n",
        "df.shape"
      ],
      "execution_count": null,
      "outputs": [
        {
          "output_type": "stream",
          "text": [
            "<class 'pandas.core.frame.DataFrame'>\n",
            "RangeIndex: 2077 entries, 0 to 2076\n",
            "Data columns (total 11 columns):\n",
            " #   Column                       Non-Null Count  Dtype \n",
            "---  ------                       --------------  ----- \n",
            " 0   Ticket #                     2077 non-null   object\n",
            " 1   Customer Complaint           2077 non-null   object\n",
            " 2   Date                         2077 non-null   object\n",
            " 3   Date_month_year              2077 non-null   object\n",
            " 4   Time                         2077 non-null   object\n",
            " 5   Received Via                 2077 non-null   object\n",
            " 6   City                         2077 non-null   object\n",
            " 7   State                        2077 non-null   object\n",
            " 8   Zip code                     2077 non-null   int64 \n",
            " 9   Status                       2077 non-null   object\n",
            " 10  Filing on Behalf of Someone  2077 non-null   object\n",
            "dtypes: int64(1), object(10)\n",
            "memory usage: 178.6+ KB\n"
          ],
          "name": "stdout"
        },
        {
          "output_type": "execute_result",
          "data": {
            "text/plain": [
              "(2077, 11)"
            ]
          },
          "metadata": {
            "tags": []
          },
          "execution_count": 4
        }
      ]
    },
    {
      "cell_type": "code",
      "metadata": {
        "id": "-usdnvG4VqOW",
        "colab": {
          "base_uri": "https://localhost:8080/",
          "height": 284
        },
        "outputId": "7375f017-9cce-4271-9386-add93d41c1aa"
      },
      "source": [
        "df.describe()"
      ],
      "execution_count": null,
      "outputs": [
        {
          "output_type": "execute_result",
          "data": {
            "text/html": [
              "<div>\n",
              "<style scoped>\n",
              "    .dataframe tbody tr th:only-of-type {\n",
              "        vertical-align: middle;\n",
              "    }\n",
              "\n",
              "    .dataframe tbody tr th {\n",
              "        vertical-align: top;\n",
              "    }\n",
              "\n",
              "    .dataframe thead th {\n",
              "        text-align: right;\n",
              "    }\n",
              "</style>\n",
              "<table border=\"1\" class=\"dataframe\">\n",
              "  <thead>\n",
              "    <tr style=\"text-align: right;\">\n",
              "      <th></th>\n",
              "      <th>Zip code</th>\n",
              "    </tr>\n",
              "  </thead>\n",
              "  <tbody>\n",
              "    <tr>\n",
              "      <th>count</th>\n",
              "      <td>2077.000000</td>\n",
              "    </tr>\n",
              "    <tr>\n",
              "      <th>mean</th>\n",
              "      <td>48153.267694</td>\n",
              "    </tr>\n",
              "    <tr>\n",
              "      <th>std</th>\n",
              "      <td>28939.754854</td>\n",
              "    </tr>\n",
              "    <tr>\n",
              "      <th>min</th>\n",
              "      <td>1075.000000</td>\n",
              "    </tr>\n",
              "    <tr>\n",
              "      <th>25%</th>\n",
              "      <td>30062.000000</td>\n",
              "    </tr>\n",
              "    <tr>\n",
              "      <th>50%</th>\n",
              "      <td>37212.000000</td>\n",
              "    </tr>\n",
              "    <tr>\n",
              "      <th>75%</th>\n",
              "      <td>77084.000000</td>\n",
              "    </tr>\n",
              "    <tr>\n",
              "      <th>max</th>\n",
              "      <td>99223.000000</td>\n",
              "    </tr>\n",
              "  </tbody>\n",
              "</table>\n",
              "</div>"
            ],
            "text/plain": [
              "           Zip code\n",
              "count   2077.000000\n",
              "mean   48153.267694\n",
              "std    28939.754854\n",
              "min     1075.000000\n",
              "25%    30062.000000\n",
              "50%    37212.000000\n",
              "75%    77084.000000\n",
              "max    99223.000000"
            ]
          },
          "metadata": {
            "tags": []
          },
          "execution_count": 5
        }
      ]
    },
    {
      "cell_type": "markdown",
      "metadata": {
        "id": "4s-MWiTWbHcw"
      },
      "source": [
        "## Question 1 Produce the trend chart about the monthly registered complaints\n",
        "\n",
        "> \n",
        "\n",
        "1.   First I extracted the Date column from the Dataframe\n",
        "2.   Then I create a list of size 12 to store the count of the complaints month wise. To do this, I iterated over the columns split the Date on **\"-\"** and count individually.\n",
        "3. Finally, I plot a line chart between the months and complaints value(obtained from the Step 2)\n",
        "4. The list **X** is mapped with the **vals** list.\n",
        "\n",
        "\n",
        "\n",
        "\n",
        "\n"
      ]
    },
    {
      "cell_type": "code",
      "metadata": {
        "id": "Tq-Bq_kAVtmY",
        "colab": {
          "base_uri": "https://localhost:8080/",
          "height": 118
        },
        "outputId": "6e1fffd3-ce8f-4107-8364-b9d4bcaf5635"
      },
      "source": [
        "date = df['Date']\n",
        "date.head()"
      ],
      "execution_count": null,
      "outputs": [
        {
          "output_type": "execute_result",
          "data": {
            "text/plain": [
              "0    22-04-2015\n",
              "1    04-08-2015\n",
              "2    18-04-2015\n",
              "3    05-07-2015\n",
              "4    26-05-2015\n",
              "Name: Date, dtype: object"
            ]
          },
          "metadata": {
            "tags": []
          },
          "execution_count": 6
        }
      ]
    },
    {
      "cell_type": "code",
      "metadata": {
        "id": "q97IfvB-Xfh-",
        "colab": {
          "base_uri": "https://localhost:8080/",
          "height": 34
        },
        "outputId": "75c28c7e-560c-446e-dd65-610697a7c5b4"
      },
      "source": [
        "date.shape\n",
        "vals = [0]*13\n",
        "for i in range(0,date.shape[0]):\n",
        "    s = date[i]\n",
        "    x = s.split(\"-\")\n",
        "    v = int(x[1])\n",
        "    \n",
        "    vals[v] = vals[v] + 1\n",
        "    \n",
        "del vals[0]    \n",
        "vals"
      ],
      "execution_count": null,
      "outputs": [
        {
          "output_type": "execute_result",
          "data": {
            "text/plain": [
              "[52, 54, 42, 351, 297, 984, 44, 61, 51, 47, 35, 59]"
            ]
          },
          "metadata": {
            "tags": []
          },
          "execution_count": 7
        }
      ]
    },
    {
      "cell_type": "code",
      "metadata": {
        "id": "5DS9Uc7hYEAk",
        "colab": {
          "base_uri": "https://localhost:8080/",
          "height": 279
        },
        "outputId": "b7065fd0-a9fb-4d66-a225-f90262be4d44"
      },
      "source": [
        "X = [\"Jan\",\"Feb\",\"Mar\",\"Apr\",\"May\",\"Jun\",\"July\",\"Aug\",\"Sept\",\"Oct\",\"Nov\",\"Dec\"]\n",
        "y = vals\n",
        "plt.plot(X,y)\n",
        "plt.xlabel(\"Month\")\n",
        "plt.ylabel(\"Complaints\")\n",
        "plt.show()"
      ],
      "execution_count": null,
      "outputs": [
        {
          "output_type": "display_data",
          "data": {
            "image/png": "[encoded data removed]",
            "text/plain": [
              "<Figure size 432x288 with 1 Axes>"
            ]
          },
          "metadata": {
            "tags": [],
            "needs_background": "light"
          }
        }
      ]
    },
    {
      "cell_type": "markdown",
      "metadata": {
        "id": "VHGzFrONbLYC"
      },
      "source": [
        "## **Question 2** **Generate a tabular output with frequencies of complaints**\n",
        "> \n",
        "\n",
        "1. Here I  used the **value_counts()** method on **Customer Complaint** column.\n",
        "2. I have converted the particular counter to the csv file so that we can visualize data properly and we can use it directly for future purposes.\n",
        "\n",
        "\n"
      ]
    },
    {
      "cell_type": "code",
      "metadata": {
        "id": "tJZ9T9VsaSJ4",
        "colab": {
          "base_uri": "https://localhost:8080/",
          "height": 195
        },
        "outputId": "414472f1-2c0c-4824-ef9d-1a3d583ce0d1"
      },
      "source": [
        "counter = df['Customer Complaint'].value_counts()\n",
        "\n",
        "counter.to_csv('Freq.csv')\n",
        "df1 = pd.read_csv('Freq.csv')\n",
        "df1.head()"
      ],
      "execution_count": null,
      "outputs": [
        {
          "output_type": "execute_result",
          "data": {
            "text/html": [
              "<div>\n",
              "<style scoped>\n",
              "    .dataframe tbody tr th:only-of-type {\n",
              "        vertical-align: middle;\n",
              "    }\n",
              "\n",
              "    .dataframe tbody tr th {\n",
              "        vertical-align: top;\n",
              "    }\n",
              "\n",
              "    .dataframe thead th {\n",
              "        text-align: right;\n",
              "    }\n",
              "</style>\n",
              "<table border=\"1\" class=\"dataframe\">\n",
              "  <thead>\n",
              "    <tr style=\"text-align: right;\">\n",
              "      <th></th>\n",
              "      <th>Unnamed: 0</th>\n",
              "      <th>Customer Complaint</th>\n",
              "    </tr>\n",
              "  </thead>\n",
              "  <tbody>\n",
              "    <tr>\n",
              "      <th>0</th>\n",
              "      <td>Internet</td>\n",
              "      <td>18</td>\n",
              "    </tr>\n",
              "    <tr>\n",
              "      <th>1</th>\n",
              "      <td>Data Cap</td>\n",
              "      <td>17</td>\n",
              "    </tr>\n",
              "    <tr>\n",
              "      <th>2</th>\n",
              "      <td>data cap</td>\n",
              "      <td>12</td>\n",
              "    </tr>\n",
              "    <tr>\n",
              "      <th>3</th>\n",
              "      <td>Data Caps</td>\n",
              "      <td>11</td>\n",
              "    </tr>\n",
              "    <tr>\n",
              "      <th>4</th>\n",
              "      <td>Data Caps</td>\n",
              "      <td>11</td>\n",
              "    </tr>\n",
              "  </tbody>\n",
              "</table>\n",
              "</div>"
            ],
            "text/plain": [
              "   Unnamed: 0  Customer Complaint\n",
              "0    Internet                  18\n",
              "1    Data Cap                  17\n",
              "2    data cap                  12\n",
              "3   Data Caps                  11\n",
              "4   Data Caps                  11"
            ]
          },
          "metadata": {
            "tags": []
          },
          "execution_count": 9
        }
      ]
    },
    {
      "cell_type": "markdown",
      "metadata": {
        "id": "8L_ErU7bd0WI"
      },
      "source": [
        "## **Question 3** **Find which complaint types are maximum i.e., internet, network issues, etc.**\n",
        "\n",
        "> I have taken the csv file and the counter from the prev question to solve this task. Using counter I get the frequencies value. It is also an DataFrame, so I applied head to get top 5 most valued complaints.\n",
        "\n"
      ]
    },
    {
      "cell_type": "code",
      "metadata": {
        "id": "W_Zhy0Oabt2u",
        "colab": {
          "base_uri": "https://localhost:8080/",
          "height": 134
        },
        "outputId": "48064241-fd41-44bc-c55c-d70a9d9c9023"
      },
      "source": [
        "print(\"Top 5 Complaints with their frequencies are as follows\")\n",
        "print(counter.head(5))\n"
      ],
      "execution_count": null,
      "outputs": [
        {
          "output_type": "stream",
          "text": [
            "Top 5 Complaints with their frequencies are as follows\n",
            " Internet     18\n",
            " Data Cap     17\n",
            " data cap     12\n",
            " Data Caps    11\n",
            "Data Caps     11\n",
            "Name: Customer Complaint, dtype: int64\n"
          ],
          "name": "stdout"
        }
      ]
    },
    {
      "cell_type": "markdown",
      "metadata": {
        "id": "ugyVxyMzfyPX"
      },
      "source": [
        "## Question **4** Provide the state wise status of complaint in the form of stacked bar\n",
        "\n",
        "\n",
        "\n",
        "> \n",
        "\n",
        "1.   First I applied GroupBy method on State and Status to make their group and make furthur manipulation easy.\n",
        "2.   The method `size()` will extract those columns from the Datframe and Unstacking this group will show row wise manipulation of the first label regard to the second label.\n",
        "3. There may be some values present which are not matched with the first column shown as \"Nan\". I have changed those Nan to 0\n",
        "4.Finally there are 2 graph, the first one is using the python scripting and second one by the matplotlib/pandas function. Refrred from [here](https://stackoverflow.com/questions/23415500/pandas-plotting-a-stacked-bar-chart)  \n",
        "\n",
        "\n",
        "\n",
        "\n",
        "\n",
        "\n"
      ]
    },
    {
      "cell_type": "code",
      "metadata": {
        "id": "9S0U9hP_ezJf",
        "colab": {
          "base_uri": "https://localhost:8080/",
          "height": 616
        },
        "outputId": "45151d33-66ed-440b-8e62-e66a2186a819"
      },
      "source": [
        "stack = df.groupby(['State','Status'])\n",
        "stack.first()"
      ],
      "execution_count": null,
      "outputs": [
        {
          "output_type": "execute_result",
          "data": {
            "text/html": [
              "<div>\n",
              "<style scoped>\n",
              "    .dataframe tbody tr th:only-of-type {\n",
              "        vertical-align: middle;\n",
              "    }\n",
              "\n",
              "    .dataframe tbody tr th {\n",
              "        vertical-align: top;\n",
              "    }\n",
              "\n",
              "    .dataframe thead th {\n",
              "        text-align: right;\n",
              "    }\n",
              "</style>\n",
              "<table border=\"1\" class=\"dataframe\">\n",
              "  <thead>\n",
              "    <tr style=\"text-align: right;\">\n",
              "      <th></th>\n",
              "      <th></th>\n",
              "      <th>Ticket #</th>\n",
              "      <th>Customer Complaint</th>\n",
              "      <th>Date</th>\n",
              "      <th>Date_month_year</th>\n",
              "      <th>Time</th>\n",
              "      <th>Received Via</th>\n",
              "      <th>City</th>\n",
              "      <th>Zip code</th>\n",
              "      <th>Filing on Behalf of Someone</th>\n",
              "    </tr>\n",
              "    <tr>\n",
              "      <th>State</th>\n",
              "      <th>Status</th>\n",
              "      <th></th>\n",
              "      <th></th>\n",
              "      <th></th>\n",
              "      <th></th>\n",
              "      <th></th>\n",
              "      <th></th>\n",
              "      <th></th>\n",
              "      <th></th>\n",
              "      <th></th>\n",
              "    </tr>\n",
              "  </thead>\n",
              "  <tbody>\n",
              "    <tr>\n",
              "      <th rowspan=\"4\" valign=\"top\">Alabama</th>\n",
              "      <th>Closed</th>\n",
              "      <td>275658</td>\n",
              "      <td>Service</td>\n",
              "      <td>05-06-2015</td>\n",
              "      <td>05-Jun-15</td>\n",
              "      <td>11:37:09 AM</td>\n",
              "      <td>Internet</td>\n",
              "      <td>Dothan</td>\n",
              "      <td>36301</td>\n",
              "      <td>No</td>\n",
              "    </tr>\n",
              "    <tr>\n",
              "      <th>Open</th>\n",
              "      <td>342392</td>\n",
              "      <td>Lack of availability</td>\n",
              "      <td>15-06-2015</td>\n",
              "      <td>15-Jun-15</td>\n",
              "      <td>9:34:28 PM</td>\n",
              "      <td>Internet</td>\n",
              "      <td>Cottonwood</td>\n",
              "      <td>36320</td>\n",
              "      <td>No</td>\n",
              "    </tr>\n",
              "    <tr>\n",
              "      <th>Pending</th>\n",
              "      <td>360281</td>\n",
              "      <td>ISP Data Cap</td>\n",
              "      <td>23-06-2015</td>\n",
              "      <td>23-Jun-15</td>\n",
              "      <td>10:05:49 PM</td>\n",
              "      <td>Internet</td>\n",
              "      <td>Florence</td>\n",
              "      <td>35630</td>\n",
              "      <td>No</td>\n",
              "    </tr>\n",
              "    <tr>\n",
              "      <th>Solved</th>\n",
              "      <td>359224</td>\n",
              "      <td>monopoly</td>\n",
              "      <td>23-06-2015</td>\n",
              "      <td>23-Jun-15</td>\n",
              "      <td>4:22:19 PM</td>\n",
              "      <td>Internet</td>\n",
              "      <td>Attalla</td>\n",
              "      <td>35954</td>\n",
              "      <td>No</td>\n",
              "    </tr>\n",
              "    <tr>\n",
              "      <th>Arizona</th>\n",
              "      <th>Closed</th>\n",
              "      <td>243690</td>\n",
              "      <td>Data capping and lack of options in Tucson AZ</td>\n",
              "      <td>19-04-2015</td>\n",
              "      <td>19-Apr-15</td>\n",
              "      <td>3:14:43 PM</td>\n",
              "      <td>Internet</td>\n",
              "      <td>Tucson</td>\n",
              "      <td>85743</td>\n",
              "      <td>Yes</td>\n",
              "    </tr>\n",
              "    <tr>\n",
              "      <th>...</th>\n",
              "      <th>...</th>\n",
              "      <td>...</td>\n",
              "      <td>...</td>\n",
              "      <td>...</td>\n",
              "      <td>...</td>\n",
              "      <td>...</td>\n",
              "      <td>...</td>\n",
              "      <td>...</td>\n",
              "      <td>...</td>\n",
              "      <td>...</td>\n",
              "    </tr>\n",
              "    <tr>\n",
              "      <th rowspan=\"2\" valign=\"top\">Washington</th>\n",
              "      <th>Pending</th>\n",
              "      <td>373653</td>\n",
              "      <td>HBO Go PS4 app</td>\n",
              "      <td>29-06-2015</td>\n",
              "      <td>29-Jun-15</td>\n",
              "      <td>8:40:56 PM</td>\n",
              "      <td>Customer Care Call</td>\n",
              "      <td>Bainbridge Island</td>\n",
              "      <td>98110</td>\n",
              "      <td>No</td>\n",
              "    </tr>\n",
              "    <tr>\n",
              "      <th>Solved</th>\n",
              "      <td>372769</td>\n",
              "      <td>Internet Throttling</td>\n",
              "      <td>29-06-2015</td>\n",
              "      <td>29-Jun-15</td>\n",
              "      <td>3:47:44 PM</td>\n",
              "      <td>Internet</td>\n",
              "      <td>Auburn</td>\n",
              "      <td>98092</td>\n",
              "      <td>No</td>\n",
              "    </tr>\n",
              "    <tr>\n",
              "      <th rowspan=\"3\" valign=\"top\">West Virginia</th>\n",
              "      <th>Closed</th>\n",
              "      <td>275759</td>\n",
              "      <td>Internet Service</td>\n",
              "      <td>05-06-2015</td>\n",
              "      <td>05-Jun-15</td>\n",
              "      <td>12:14:27 PM</td>\n",
              "      <td>Customer Care Call</td>\n",
              "      <td>Burlington</td>\n",
              "      <td>26710</td>\n",
              "      <td>No</td>\n",
              "    </tr>\n",
              "    <tr>\n",
              "      <th>Open</th>\n",
              "      <td>373879</td>\n",
              "      <td>Service refusal and lower than advertised speeds.</td>\n",
              "      <td>30-06-2015</td>\n",
              "      <td>30-Jun-15</td>\n",
              "      <td>12:40:28 AM</td>\n",
              "      <td>Internet</td>\n",
              "      <td>Berkeley Spring</td>\n",
              "      <td>25411</td>\n",
              "      <td>No</td>\n",
              "    </tr>\n",
              "    <tr>\n",
              "      <th>Solved</th>\n",
              "      <td>337071</td>\n",
              "      <td>cable outage</td>\n",
              "      <td>06-12-2015</td>\n",
              "      <td>06-Dec-15</td>\n",
              "      <td>1:40:52 PM</td>\n",
              "      <td>Customer Care Call</td>\n",
              "      <td>Martinsburg</td>\n",
              "      <td>25405</td>\n",
              "      <td>No</td>\n",
              "    </tr>\n",
              "  </tbody>\n",
              "</table>\n",
              "<p>135 rows × 9 columns</p>\n",
              "</div>"
            ],
            "text/plain": [
              "                      Ticket #  ... Filing on Behalf of Someone\n",
              "State         Status            ...                            \n",
              "Alabama       Closed    275658  ...                          No\n",
              "              Open      342392  ...                          No\n",
              "              Pending   360281  ...                          No\n",
              "              Solved    359224  ...                          No\n",
              "Arizona       Closed    243690  ...                         Yes\n",
              "...                        ...  ...                         ...\n",
              "Washington    Pending   373653  ...                          No\n",
              "              Solved    372769  ...                          No\n",
              "West Virginia Closed    275759  ...                          No\n",
              "              Open      373879  ...                          No\n",
              "              Solved    337071  ...                          No\n",
              "\n",
              "[135 rows x 9 columns]"
            ]
          },
          "metadata": {
            "tags": []
          },
          "execution_count": 11
        }
      ]
    },
    {
      "cell_type": "code",
      "metadata": {
        "id": "QVudQCikf7ee",
        "colab": {
          "base_uri": "https://localhost:8080/",
          "height": 235
        },
        "outputId": "8624e2fa-4bbe-4eee-c205-8977c84a8cc5"
      },
      "source": [
        "stack = stack.size()\n",
        "stack\n"
      ],
      "execution_count": null,
      "outputs": [
        {
          "output_type": "execute_result",
          "data": {
            "text/plain": [
              "State          Status \n",
              "Alabama        Closed      8\n",
              "               Open        4\n",
              "               Pending     5\n",
              "               Solved      9\n",
              "Arizona        Closed      6\n",
              "                          ..\n",
              "Washington     Pending     5\n",
              "               Solved     38\n",
              "West Virginia  Closed      6\n",
              "               Open        2\n",
              "               Solved      2\n",
              "Length: 135, dtype: int64"
            ]
          },
          "metadata": {
            "tags": []
          },
          "execution_count": 12
        }
      ]
    },
    {
      "cell_type": "code",
      "metadata": {
        "id": "HKmW-7BZkfmX",
        "colab": {
          "base_uri": "https://localhost:8080/",
          "height": 1000
        },
        "outputId": "01fcfca7-4af1-46e7-92b0-40b271e4f852"
      },
      "source": [
        "stack = stack.unstack()\n",
        "stack"
      ],
      "execution_count": null,
      "outputs": [
        {
          "output_type": "execute_result",
          "data": {
            "text/html": [
              "<div>\n",
              "<style scoped>\n",
              "    .dataframe tbody tr th:only-of-type {\n",
              "        vertical-align: middle;\n",
              "    }\n",
              "\n",
              "    .dataframe tbody tr th {\n",
              "        vertical-align: top;\n",
              "    }\n",
              "\n",
              "    .dataframe thead th {\n",
              "        text-align: right;\n",
              "    }\n",
              "</style>\n",
              "<table border=\"1\" class=\"dataframe\">\n",
              "  <thead>\n",
              "    <tr style=\"text-align: right;\">\n",
              "      <th>Status</th>\n",
              "      <th>Closed</th>\n",
              "      <th>Open</th>\n",
              "      <th>Pending</th>\n",
              "      <th>Solved</th>\n",
              "    </tr>\n",
              "    <tr>\n",
              "      <th>State</th>\n",
              "      <th></th>\n",
              "      <th></th>\n",
              "      <th></th>\n",
              "      <th></th>\n",
              "    </tr>\n",
              "  </thead>\n",
              "  <tbody>\n",
              "    <tr>\n",
              "      <th>Alabama</th>\n",
              "      <td>8.0</td>\n",
              "      <td>4.0</td>\n",
              "      <td>5.0</td>\n",
              "      <td>9.0</td>\n",
              "    </tr>\n",
              "    <tr>\n",
              "      <th>Arizona</th>\n",
              "      <td>6.0</td>\n",
              "      <td>2.0</td>\n",
              "      <td>4.0</td>\n",
              "      <td>8.0</td>\n",
              "    </tr>\n",
              "    <tr>\n",
              "      <th>Arkansas</th>\n",
              "      <td>1.0</td>\n",
              "      <td>NaN</td>\n",
              "      <td>NaN</td>\n",
              "      <td>4.0</td>\n",
              "    </tr>\n",
              "    <tr>\n",
              "      <th>California</th>\n",
              "      <td>69.0</td>\n",
              "      <td>45.0</td>\n",
              "      <td>14.0</td>\n",
              "      <td>82.0</td>\n",
              "    </tr>\n",
              "    <tr>\n",
              "      <th>Colorado</th>\n",
              "      <td>21.0</td>\n",
              "      <td>12.0</td>\n",
              "      <td>10.0</td>\n",
              "      <td>32.0</td>\n",
              "    </tr>\n",
              "    <tr>\n",
              "      <th>Connecticut</th>\n",
              "      <td>3.0</td>\n",
              "      <td>2.0</td>\n",
              "      <td>1.0</td>\n",
              "      <td>6.0</td>\n",
              "    </tr>\n",
              "    <tr>\n",
              "      <th>Delaware</th>\n",
              "      <td>1.0</td>\n",
              "      <td>3.0</td>\n",
              "      <td>1.0</td>\n",
              "      <td>6.0</td>\n",
              "    </tr>\n",
              "    <tr>\n",
              "      <th>District Of Columbia</th>\n",
              "      <td>5.0</td>\n",
              "      <td>1.0</td>\n",
              "      <td>1.0</td>\n",
              "      <td>9.0</td>\n",
              "    </tr>\n",
              "    <tr>\n",
              "      <th>District of Columbia</th>\n",
              "      <td>NaN</td>\n",
              "      <td>NaN</td>\n",
              "      <td>NaN</td>\n",
              "      <td>1.0</td>\n",
              "    </tr>\n",
              "    <tr>\n",
              "      <th>Florida</th>\n",
              "      <td>95.0</td>\n",
              "      <td>34.0</td>\n",
              "      <td>4.0</td>\n",
              "      <td>93.0</td>\n",
              "    </tr>\n",
              "    <tr>\n",
              "      <th>Georgia</th>\n",
              "      <td>74.0</td>\n",
              "      <td>34.0</td>\n",
              "      <td>43.0</td>\n",
              "      <td>113.0</td>\n",
              "    </tr>\n",
              "    <tr>\n",
              "      <th>Illinois</th>\n",
              "      <td>49.0</td>\n",
              "      <td>21.0</td>\n",
              "      <td>6.0</td>\n",
              "      <td>71.0</td>\n",
              "    </tr>\n",
              "    <tr>\n",
              "      <th>Indiana</th>\n",
              "      <td>14.0</td>\n",
              "      <td>7.0</td>\n",
              "      <td>1.0</td>\n",
              "      <td>33.0</td>\n",
              "    </tr>\n",
              "    <tr>\n",
              "      <th>Iowa</th>\n",
              "      <td>NaN</td>\n",
              "      <td>NaN</td>\n",
              "      <td>NaN</td>\n",
              "      <td>1.0</td>\n",
              "    </tr>\n",
              "    <tr>\n",
              "      <th>Kansas</th>\n",
              "      <td>NaN</td>\n",
              "      <td>NaN</td>\n",
              "      <td>1.0</td>\n",
              "      <td>NaN</td>\n",
              "    </tr>\n",
              "    <tr>\n",
              "      <th>Kentucky</th>\n",
              "      <td>1.0</td>\n",
              "      <td>NaN</td>\n",
              "      <td>3.0</td>\n",
              "      <td>3.0</td>\n",
              "    </tr>\n",
              "    <tr>\n",
              "      <th>Louisiana</th>\n",
              "      <td>5.0</td>\n",
              "      <td>NaN</td>\n",
              "      <td>1.0</td>\n",
              "      <td>7.0</td>\n",
              "    </tr>\n",
              "    <tr>\n",
              "      <th>Maine</th>\n",
              "      <td>1.0</td>\n",
              "      <td>2.0</td>\n",
              "      <td>NaN</td>\n",
              "      <td>2.0</td>\n",
              "    </tr>\n",
              "    <tr>\n",
              "      <th>Maryland</th>\n",
              "      <td>23.0</td>\n",
              "      <td>9.0</td>\n",
              "      <td>2.0</td>\n",
              "      <td>37.0</td>\n",
              "    </tr>\n",
              "    <tr>\n",
              "      <th>Massachusetts</th>\n",
              "      <td>22.0</td>\n",
              "      <td>9.0</td>\n",
              "      <td>1.0</td>\n",
              "      <td>23.0</td>\n",
              "    </tr>\n",
              "    <tr>\n",
              "      <th>Michigan</th>\n",
              "      <td>40.0</td>\n",
              "      <td>16.0</td>\n",
              "      <td>5.0</td>\n",
              "      <td>45.0</td>\n",
              "    </tr>\n",
              "    <tr>\n",
              "      <th>Minnesota</th>\n",
              "      <td>8.0</td>\n",
              "      <td>2.0</td>\n",
              "      <td>2.0</td>\n",
              "      <td>17.0</td>\n",
              "    </tr>\n",
              "    <tr>\n",
              "      <th>Mississippi</th>\n",
              "      <td>8.0</td>\n",
              "      <td>8.0</td>\n",
              "      <td>7.0</td>\n",
              "      <td>15.0</td>\n",
              "    </tr>\n",
              "    <tr>\n",
              "      <th>Missouri</th>\n",
              "      <td>2.0</td>\n",
              "      <td>NaN</td>\n",
              "      <td>NaN</td>\n",
              "      <td>1.0</td>\n",
              "    </tr>\n",
              "    <tr>\n",
              "      <th>Montana</th>\n",
              "      <td>1.0</td>\n",
              "      <td>NaN</td>\n",
              "      <td>NaN</td>\n",
              "      <td>NaN</td>\n",
              "    </tr>\n",
              "    <tr>\n",
              "      <th>Nevada</th>\n",
              "      <td>1.0</td>\n",
              "      <td>NaN</td>\n",
              "      <td>NaN</td>\n",
              "      <td>NaN</td>\n",
              "    </tr>\n",
              "    <tr>\n",
              "      <th>New Hampshire</th>\n",
              "      <td>4.0</td>\n",
              "      <td>2.0</td>\n",
              "      <td>1.0</td>\n",
              "      <td>4.0</td>\n",
              "    </tr>\n",
              "    <tr>\n",
              "      <th>New Jersey</th>\n",
              "      <td>22.0</td>\n",
              "      <td>17.0</td>\n",
              "      <td>2.0</td>\n",
              "      <td>29.0</td>\n",
              "    </tr>\n",
              "    <tr>\n",
              "      <th>New Mexico</th>\n",
              "      <td>5.0</td>\n",
              "      <td>3.0</td>\n",
              "      <td>1.0</td>\n",
              "      <td>6.0</td>\n",
              "    </tr>\n",
              "    <tr>\n",
              "      <th>New York</th>\n",
              "      <td>2.0</td>\n",
              "      <td>NaN</td>\n",
              "      <td>NaN</td>\n",
              "      <td>4.0</td>\n",
              "    </tr>\n",
              "    <tr>\n",
              "      <th>North Carolina</th>\n",
              "      <td>2.0</td>\n",
              "      <td>NaN</td>\n",
              "      <td>NaN</td>\n",
              "      <td>NaN</td>\n",
              "    </tr>\n",
              "    <tr>\n",
              "      <th>Ohio</th>\n",
              "      <td>2.0</td>\n",
              "      <td>NaN</td>\n",
              "      <td>NaN</td>\n",
              "      <td>1.0</td>\n",
              "    </tr>\n",
              "    <tr>\n",
              "      <th>Oregon</th>\n",
              "      <td>9.0</td>\n",
              "      <td>9.0</td>\n",
              "      <td>2.0</td>\n",
              "      <td>25.0</td>\n",
              "    </tr>\n",
              "    <tr>\n",
              "      <th>Pennsylvania</th>\n",
              "      <td>50.0</td>\n",
              "      <td>14.0</td>\n",
              "      <td>5.0</td>\n",
              "      <td>51.0</td>\n",
              "    </tr>\n",
              "    <tr>\n",
              "      <th>South Carolina</th>\n",
              "      <td>7.0</td>\n",
              "      <td>2.0</td>\n",
              "      <td>1.0</td>\n",
              "      <td>8.0</td>\n",
              "    </tr>\n",
              "    <tr>\n",
              "      <th>Tennessee</th>\n",
              "      <td>37.0</td>\n",
              "      <td>32.0</td>\n",
              "      <td>13.0</td>\n",
              "      <td>55.0</td>\n",
              "    </tr>\n",
              "    <tr>\n",
              "      <th>Texas</th>\n",
              "      <td>20.0</td>\n",
              "      <td>17.0</td>\n",
              "      <td>4.0</td>\n",
              "      <td>28.0</td>\n",
              "    </tr>\n",
              "    <tr>\n",
              "      <th>Utah</th>\n",
              "      <td>7.0</td>\n",
              "      <td>6.0</td>\n",
              "      <td>NaN</td>\n",
              "      <td>8.0</td>\n",
              "    </tr>\n",
              "    <tr>\n",
              "      <th>Vermont</th>\n",
              "      <td>NaN</td>\n",
              "      <td>1.0</td>\n",
              "      <td>NaN</td>\n",
              "      <td>2.0</td>\n",
              "    </tr>\n",
              "    <tr>\n",
              "      <th>Virginia</th>\n",
              "      <td>21.0</td>\n",
              "      <td>7.0</td>\n",
              "      <td>3.0</td>\n",
              "      <td>25.0</td>\n",
              "    </tr>\n",
              "    <tr>\n",
              "      <th>Washington</th>\n",
              "      <td>34.0</td>\n",
              "      <td>15.0</td>\n",
              "      <td>5.0</td>\n",
              "      <td>38.0</td>\n",
              "    </tr>\n",
              "    <tr>\n",
              "      <th>West Virginia</th>\n",
              "      <td>6.0</td>\n",
              "      <td>2.0</td>\n",
              "      <td>NaN</td>\n",
              "      <td>2.0</td>\n",
              "    </tr>\n",
              "  </tbody>\n",
              "</table>\n",
              "</div>"
            ],
            "text/plain": [
              "Status                Closed  Open  Pending  Solved\n",
              "State                                              \n",
              "Alabama                  8.0   4.0      5.0     9.0\n",
              "Arizona                  6.0   2.0      4.0     8.0\n",
              "Arkansas                 1.0   NaN      NaN     4.0\n",
              "California              69.0  45.0     14.0    82.0\n",
              "Colorado                21.0  12.0     10.0    32.0\n",
              "Connecticut              3.0   2.0      1.0     6.0\n",
              "Delaware                 1.0   3.0      1.0     6.0\n",
              "District Of Columbia     5.0   1.0      1.0     9.0\n",
              "District of Columbia     NaN   NaN      NaN     1.0\n",
              "Florida                 95.0  34.0      4.0    93.0\n",
              "Georgia                 74.0  34.0     43.0   113.0\n",
              "Illinois                49.0  21.0      6.0    71.0\n",
              "Indiana                 14.0   7.0      1.0    33.0\n",
              "Iowa                     NaN   NaN      NaN     1.0\n",
              "Kansas                   NaN   NaN      1.0     NaN\n",
              "Kentucky                 1.0   NaN      3.0     3.0\n",
              "Louisiana                5.0   NaN      1.0     7.0\n",
              "Maine                    1.0   2.0      NaN     2.0\n",
              "Maryland                23.0   9.0      2.0    37.0\n",
              "Massachusetts           22.0   9.0      1.0    23.0\n",
              "Michigan                40.0  16.0      5.0    45.0\n",
              "Minnesota                8.0   2.0      2.0    17.0\n",
              "Mississippi              8.0   8.0      7.0    15.0\n",
              "Missouri                 2.0   NaN      NaN     1.0\n",
              "Montana                  1.0   NaN      NaN     NaN\n",
              "Nevada                   1.0   NaN      NaN     NaN\n",
              "New Hampshire            4.0   2.0      1.0     4.0\n",
              "New Jersey              22.0  17.0      2.0    29.0\n",
              "New Mexico               5.0   3.0      1.0     6.0\n",
              "New York                 2.0   NaN      NaN     4.0\n",
              "North Carolina           2.0   NaN      NaN     NaN\n",
              "Ohio                     2.0   NaN      NaN     1.0\n",
              "Oregon                   9.0   9.0      2.0    25.0\n",
              "Pennsylvania            50.0  14.0      5.0    51.0\n",
              "South Carolina           7.0   2.0      1.0     8.0\n",
              "Tennessee               37.0  32.0     13.0    55.0\n",
              "Texas                   20.0  17.0      4.0    28.0\n",
              "Utah                     7.0   6.0      NaN     8.0\n",
              "Vermont                  NaN   1.0      NaN     2.0\n",
              "Virginia                21.0   7.0      3.0    25.0\n",
              "Washington              34.0  15.0      5.0    38.0\n",
              "West Virginia            6.0   2.0      NaN     2.0"
            ]
          },
          "metadata": {
            "tags": []
          },
          "execution_count": 13
        }
      ]
    },
    {
      "cell_type": "code",
      "metadata": {
        "id": "2JNXZehDllmx",
        "colab": {
          "base_uri": "https://localhost:8080/",
          "height": 1000
        },
        "outputId": "571d857f-66e5-4179-f3f8-e3facf359b8a"
      },
      "source": [
        "stack = stack.fillna(0)\n",
        "stack"
      ],
      "execution_count": null,
      "outputs": [
        {
          "output_type": "execute_result",
          "data": {
            "text/html": [
              "<div>\n",
              "<style scoped>\n",
              "    .dataframe tbody tr th:only-of-type {\n",
              "        vertical-align: middle;\n",
              "    }\n",
              "\n",
              "    .dataframe tbody tr th {\n",
              "        vertical-align: top;\n",
              "    }\n",
              "\n",
              "    .dataframe thead th {\n",
              "        text-align: right;\n",
              "    }\n",
              "</style>\n",
              "<table border=\"1\" class=\"dataframe\">\n",
              "  <thead>\n",
              "    <tr style=\"text-align: right;\">\n",
              "      <th>Status</th>\n",
              "      <th>Closed</th>\n",
              "      <th>Open</th>\n",
              "      <th>Pending</th>\n",
              "      <th>Solved</th>\n",
              "    </tr>\n",
              "    <tr>\n",
              "      <th>State</th>\n",
              "      <th></th>\n",
              "      <th></th>\n",
              "      <th></th>\n",
              "      <th></th>\n",
              "    </tr>\n",
              "  </thead>\n",
              "  <tbody>\n",
              "    <tr>\n",
              "      <th>Alabama</th>\n",
              "      <td>8.0</td>\n",
              "      <td>4.0</td>\n",
              "      <td>5.0</td>\n",
              "      <td>9.0</td>\n",
              "    </tr>\n",
              "    <tr>\n",
              "      <th>Arizona</th>\n",
              "      <td>6.0</td>\n",
              "      <td>2.0</td>\n",
              "      <td>4.0</td>\n",
              "      <td>8.0</td>\n",
              "    </tr>\n",
              "    <tr>\n",
              "      <th>Arkansas</th>\n",
              "      <td>1.0</td>\n",
              "      <td>0.0</td>\n",
              "      <td>0.0</td>\n",
              "      <td>4.0</td>\n",
              "    </tr>\n",
              "    <tr>\n",
              "      <th>California</th>\n",
              "      <td>69.0</td>\n",
              "      <td>45.0</td>\n",
              "      <td>14.0</td>\n",
              "      <td>82.0</td>\n",
              "    </tr>\n",
              "    <tr>\n",
              "      <th>Colorado</th>\n",
              "      <td>21.0</td>\n",
              "      <td>12.0</td>\n",
              "      <td>10.0</td>\n",
              "      <td>32.0</td>\n",
              "    </tr>\n",
              "    <tr>\n",
              "      <th>Connecticut</th>\n",
              "      <td>3.0</td>\n",
              "      <td>2.0</td>\n",
              "      <td>1.0</td>\n",
              "      <td>6.0</td>\n",
              "    </tr>\n",
              "    <tr>\n",
              "      <th>Delaware</th>\n",
              "      <td>1.0</td>\n",
              "      <td>3.0</td>\n",
              "      <td>1.0</td>\n",
              "      <td>6.0</td>\n",
              "    </tr>\n",
              "    <tr>\n",
              "      <th>District Of Columbia</th>\n",
              "      <td>5.0</td>\n",
              "      <td>1.0</td>\n",
              "      <td>1.0</td>\n",
              "      <td>9.0</td>\n",
              "    </tr>\n",
              "    <tr>\n",
              "      <th>District of Columbia</th>\n",
              "      <td>0.0</td>\n",
              "      <td>0.0</td>\n",
              "      <td>0.0</td>\n",
              "      <td>1.0</td>\n",
              "    </tr>\n",
              "    <tr>\n",
              "      <th>Florida</th>\n",
              "      <td>95.0</td>\n",
              "      <td>34.0</td>\n",
              "      <td>4.0</td>\n",
              "      <td>93.0</td>\n",
              "    </tr>\n",
              "    <tr>\n",
              "      <th>Georgia</th>\n",
              "      <td>74.0</td>\n",
              "      <td>34.0</td>\n",
              "      <td>43.0</td>\n",
              "      <td>113.0</td>\n",
              "    </tr>\n",
              "    <tr>\n",
              "      <th>Illinois</th>\n",
              "      <td>49.0</td>\n",
              "      <td>21.0</td>\n",
              "      <td>6.0</td>\n",
              "      <td>71.0</td>\n",
              "    </tr>\n",
              "    <tr>\n",
              "      <th>Indiana</th>\n",
              "      <td>14.0</td>\n",
              "      <td>7.0</td>\n",
              "      <td>1.0</td>\n",
              "      <td>33.0</td>\n",
              "    </tr>\n",
              "    <tr>\n",
              "      <th>Iowa</th>\n",
              "      <td>0.0</td>\n",
              "      <td>0.0</td>\n",
              "      <td>0.0</td>\n",
              "      <td>1.0</td>\n",
              "    </tr>\n",
              "    <tr>\n",
              "      <th>Kansas</th>\n",
              "      <td>0.0</td>\n",
              "      <td>0.0</td>\n",
              "      <td>1.0</td>\n",
              "      <td>0.0</td>\n",
              "    </tr>\n",
              "    <tr>\n",
              "      <th>Kentucky</th>\n",
              "      <td>1.0</td>\n",
              "      <td>0.0</td>\n",
              "      <td>3.0</td>\n",
              "      <td>3.0</td>\n",
              "    </tr>\n",
              "    <tr>\n",
              "      <th>Louisiana</th>\n",
              "      <td>5.0</td>\n",
              "      <td>0.0</td>\n",
              "      <td>1.0</td>\n",
              "      <td>7.0</td>\n",
              "    </tr>\n",
              "    <tr>\n",
              "      <th>Maine</th>\n",
              "      <td>1.0</td>\n",
              "      <td>2.0</td>\n",
              "      <td>0.0</td>\n",
              "      <td>2.0</td>\n",
              "    </tr>\n",
              "    <tr>\n",
              "      <th>Maryland</th>\n",
              "      <td>23.0</td>\n",
              "      <td>9.0</td>\n",
              "      <td>2.0</td>\n",
              "      <td>37.0</td>\n",
              "    </tr>\n",
              "    <tr>\n",
              "      <th>Massachusetts</th>\n",
              "      <td>22.0</td>\n",
              "      <td>9.0</td>\n",
              "      <td>1.0</td>\n",
              "      <td>23.0</td>\n",
              "    </tr>\n",
              "    <tr>\n",
              "      <th>Michigan</th>\n",
              "      <td>40.0</td>\n",
              "      <td>16.0</td>\n",
              "      <td>5.0</td>\n",
              "      <td>45.0</td>\n",
              "    </tr>\n",
              "    <tr>\n",
              "      <th>Minnesota</th>\n",
              "      <td>8.0</td>\n",
              "      <td>2.0</td>\n",
              "      <td>2.0</td>\n",
              "      <td>17.0</td>\n",
              "    </tr>\n",
              "    <tr>\n",
              "      <th>Mississippi</th>\n",
              "      <td>8.0</td>\n",
              "      <td>8.0</td>\n",
              "      <td>7.0</td>\n",
              "      <td>15.0</td>\n",
              "    </tr>\n",
              "    <tr>\n",
              "      <th>Missouri</th>\n",
              "      <td>2.0</td>\n",
              "      <td>0.0</td>\n",
              "      <td>0.0</td>\n",
              "      <td>1.0</td>\n",
              "    </tr>\n",
              "    <tr>\n",
              "      <th>Montana</th>\n",
              "      <td>1.0</td>\n",
              "      <td>0.0</td>\n",
              "      <td>0.0</td>\n",
              "      <td>0.0</td>\n",
              "    </tr>\n",
              "    <tr>\n",
              "      <th>Nevada</th>\n",
              "      <td>1.0</td>\n",
              "      <td>0.0</td>\n",
              "      <td>0.0</td>\n",
              "      <td>0.0</td>\n",
              "    </tr>\n",
              "    <tr>\n",
              "      <th>New Hampshire</th>\n",
              "      <td>4.0</td>\n",
              "      <td>2.0</td>\n",
              "      <td>1.0</td>\n",
              "      <td>4.0</td>\n",
              "    </tr>\n",
              "    <tr>\n",
              "      <th>New Jersey</th>\n",
              "      <td>22.0</td>\n",
              "      <td>17.0</td>\n",
              "      <td>2.0</td>\n",
              "      <td>29.0</td>\n",
              "    </tr>\n",
              "    <tr>\n",
              "      <th>New Mexico</th>\n",
              "      <td>5.0</td>\n",
              "      <td>3.0</td>\n",
              "      <td>1.0</td>\n",
              "      <td>6.0</td>\n",
              "    </tr>\n",
              "    <tr>\n",
              "      <th>New York</th>\n",
              "      <td>2.0</td>\n",
              "      <td>0.0</td>\n",
              "      <td>0.0</td>\n",
              "      <td>4.0</td>\n",
              "    </tr>\n",
              "    <tr>\n",
              "      <th>North Carolina</th>\n",
              "      <td>2.0</td>\n",
              "      <td>0.0</td>\n",
              "      <td>0.0</td>\n",
              "      <td>0.0</td>\n",
              "    </tr>\n",
              "    <tr>\n",
              "      <th>Ohio</th>\n",
              "      <td>2.0</td>\n",
              "      <td>0.0</td>\n",
              "      <td>0.0</td>\n",
              "      <td>1.0</td>\n",
              "    </tr>\n",
              "    <tr>\n",
              "      <th>Oregon</th>\n",
              "      <td>9.0</td>\n",
              "      <td>9.0</td>\n",
              "      <td>2.0</td>\n",
              "      <td>25.0</td>\n",
              "    </tr>\n",
              "    <tr>\n",
              "      <th>Pennsylvania</th>\n",
              "      <td>50.0</td>\n",
              "      <td>14.0</td>\n",
              "      <td>5.0</td>\n",
              "      <td>51.0</td>\n",
              "    </tr>\n",
              "    <tr>\n",
              "      <th>South Carolina</th>\n",
              "      <td>7.0</td>\n",
              "      <td>2.0</td>\n",
              "      <td>1.0</td>\n",
              "      <td>8.0</td>\n",
              "    </tr>\n",
              "    <tr>\n",
              "      <th>Tennessee</th>\n",
              "      <td>37.0</td>\n",
              "      <td>32.0</td>\n",
              "      <td>13.0</td>\n",
              "      <td>55.0</td>\n",
              "    </tr>\n",
              "    <tr>\n",
              "      <th>Texas</th>\n",
              "      <td>20.0</td>\n",
              "      <td>17.0</td>\n",
              "      <td>4.0</td>\n",
              "      <td>28.0</td>\n",
              "    </tr>\n",
              "    <tr>\n",
              "      <th>Utah</th>\n",
              "      <td>7.0</td>\n",
              "      <td>6.0</td>\n",
              "      <td>0.0</td>\n",
              "      <td>8.0</td>\n",
              "    </tr>\n",
              "    <tr>\n",
              "      <th>Vermont</th>\n",
              "      <td>0.0</td>\n",
              "      <td>1.0</td>\n",
              "      <td>0.0</td>\n",
              "      <td>2.0</td>\n",
              "    </tr>\n",
              "    <tr>\n",
              "      <th>Virginia</th>\n",
              "      <td>21.0</td>\n",
              "      <td>7.0</td>\n",
              "      <td>3.0</td>\n",
              "      <td>25.0</td>\n",
              "    </tr>\n",
              "    <tr>\n",
              "      <th>Washington</th>\n",
              "      <td>34.0</td>\n",
              "      <td>15.0</td>\n",
              "      <td>5.0</td>\n",
              "      <td>38.0</td>\n",
              "    </tr>\n",
              "    <tr>\n",
              "      <th>West Virginia</th>\n",
              "      <td>6.0</td>\n",
              "      <td>2.0</td>\n",
              "      <td>0.0</td>\n",
              "      <td>2.0</td>\n",
              "    </tr>\n",
              "  </tbody>\n",
              "</table>\n",
              "</div>"
            ],
            "text/plain": [
              "Status                Closed  Open  Pending  Solved\n",
              "State                                              \n",
              "Alabama                  8.0   4.0      5.0     9.0\n",
              "Arizona                  6.0   2.0      4.0     8.0\n",
              "Arkansas                 1.0   0.0      0.0     4.0\n",
              "California              69.0  45.0     14.0    82.0\n",
              "Colorado                21.0  12.0     10.0    32.0\n",
              "Connecticut              3.0   2.0      1.0     6.0\n",
              "Delaware                 1.0   3.0      1.0     6.0\n",
              "District Of Columbia     5.0   1.0      1.0     9.0\n",
              "District of Columbia     0.0   0.0      0.0     1.0\n",
              "Florida                 95.0  34.0      4.0    93.0\n",
              "Georgia                 74.0  34.0     43.0   113.0\n",
              "Illinois                49.0  21.0      6.0    71.0\n",
              "Indiana                 14.0   7.0      1.0    33.0\n",
              "Iowa                     0.0   0.0      0.0     1.0\n",
              "Kansas                   0.0   0.0      1.0     0.0\n",
              "Kentucky                 1.0   0.0      3.0     3.0\n",
              "Louisiana                5.0   0.0      1.0     7.0\n",
              "Maine                    1.0   2.0      0.0     2.0\n",
              "Maryland                23.0   9.0      2.0    37.0\n",
              "Massachusetts           22.0   9.0      1.0    23.0\n",
              "Michigan                40.0  16.0      5.0    45.0\n",
              "Minnesota                8.0   2.0      2.0    17.0\n",
              "Mississippi              8.0   8.0      7.0    15.0\n",
              "Missouri                 2.0   0.0      0.0     1.0\n",
              "Montana                  1.0   0.0      0.0     0.0\n",
              "Nevada                   1.0   0.0      0.0     0.0\n",
              "New Hampshire            4.0   2.0      1.0     4.0\n",
              "New Jersey              22.0  17.0      2.0    29.0\n",
              "New Mexico               5.0   3.0      1.0     6.0\n",
              "New York                 2.0   0.0      0.0     4.0\n",
              "North Carolina           2.0   0.0      0.0     0.0\n",
              "Ohio                     2.0   0.0      0.0     1.0\n",
              "Oregon                   9.0   9.0      2.0    25.0\n",
              "Pennsylvania            50.0  14.0      5.0    51.0\n",
              "South Carolina           7.0   2.0      1.0     8.0\n",
              "Tennessee               37.0  32.0     13.0    55.0\n",
              "Texas                   20.0  17.0      4.0    28.0\n",
              "Utah                     7.0   6.0      0.0     8.0\n",
              "Vermont                  0.0   1.0      0.0     2.0\n",
              "Virginia                21.0   7.0      3.0    25.0\n",
              "Washington              34.0  15.0      5.0    38.0\n",
              "West Virginia            6.0   2.0      0.0     2.0"
            ]
          },
          "metadata": {
            "tags": []
          },
          "execution_count": 14
        }
      ]
    },
    {
      "cell_type": "code",
      "metadata": {
        "id": "p5kxwjHFocXg",
        "colab": {
          "base_uri": "https://localhost:8080/",
          "height": 283
        },
        "outputId": "96ce5e67-526f-4b08-ae7e-3137a3f49ed8"
      },
      "source": [
        "import matplotlib.pyplot as plt\n",
        "X = df['State']\n",
        "bars1 = stack['Closed']\n",
        "bars2 = stack['Open']\n",
        "bars3 = stack['Solved']\n",
        "bars4 = stack['Pending']\n",
        "bars = np.add(bars1, bars2).tolist()\n",
        "barss = np.add(bars,bars3).tolist()\n",
        "r = [i for i in range(0,stack['Closed'].shape[0])]\n",
        "barWidth = 1\n",
        " \n",
        "\n",
        "plt.bar(r, bars1, color='#7f6d5f', edgecolor='white', width=barWidth)\n",
        "plt.bar(r, bars2, bottom=bars1, color='#557f2d', edgecolor='white', width=barWidth)\n",
        "plt.bar(r, bars3, bottom=bars, color='#2d7f5e', edgecolor='white', width=barWidth)\n",
        "plt.bar(r,bars4,bottom=bars2,color='#45de50',edgecolor='white',width=barWidth) \n",
        "plt.yticks(range(0,250,15))\n",
        "plt.ylabel('Complaints')\n",
        "plt.xlabel('State')\n",
        "plt.show()\n",
        "\n",
        "\n"
      ],
      "execution_count": null,
      "outputs": [
        {
          "output_type": "display_data",
          "data": {
            "image/png": "[encoded data removed]",
            "text/plain": [
              "<Figure size 432x288 with 1 Axes>"
            ]
          },
          "metadata": {
            "tags": [],
            "needs_background": "light"
          }
        }
      ]
    },
    {
      "cell_type": "code",
      "metadata": {
        "id": "9GqA3fFoteb5",
        "colab": {
          "base_uri": "https://localhost:8080/",
          "height": 404
        },
        "outputId": "55eb4d9b-ca61-4cdc-b0b0-49ae020dedd2"
      },
      "source": [
        "stack.plot(kind='bar',stacked=True, figsize=(20,5)) \n",
        "plt.ylabel('Complaints')\n",
        "plt.xlabel('State')\n",
        "plt.show()"
      ],
      "execution_count": null,
      "outputs": [
        {
          "output_type": "display_data",
          "data": {
            "image/png": "[encoded data removed]",
            "text/plain": [
              "<Figure size 1440x360 with 1 Axes>"
            ]
          },
          "metadata": {
            "tags": [],
            "needs_background": "light"
          }
        }
      ]
    },
    {
      "cell_type": "markdown",
      "metadata": {
        "id": "nDQsqJZP1Qoi"
      },
      "source": [
        "## **Question 5** Report which state has registered maximum and minimum complaint\n",
        "\n",
        "\n",
        "> I created a new column whose values are the sum of the columns Closed Open Solved Pending.\n",
        "\n",
        "\n",
        "> Then I sort the table on the Total Complaints basis in the ascending order. The Top values will be the states with the minimum complaints and vice versa.\n",
        "\n",
        "\n",
        "\n"
      ]
    },
    {
      "cell_type": "code",
      "metadata": {
        "id": "_ZVbsXCmsmmH",
        "colab": {
          "base_uri": "https://localhost:8080/"
        },
        "outputId": "8abc1c3b-3398-47a5-e09a-781874fcaefc"
      },
      "source": [
        "Closed = stack['Closed']\n",
        "Open = stack['Open']\n",
        "Solved = stack['Solved']\n",
        "Pending = stack['Pending']\n",
        "Total = Closed + Open + Solved + Pending\n",
        "stack['Total'] = Total\n",
        "\n",
        "stack.head()\n",
        "\n"
      ],
      "execution_count": null,
      "outputs": [
        {
          "output_type": "execute_result",
          "data": {
            "text/html": [
              "<div>\n",
              "<style scoped>\n",
              "    .dataframe tbody tr th:only-of-type {\n",
              "        vertical-align: middle;\n",
              "    }\n",
              "\n",
              "    .dataframe tbody tr th {\n",
              "        vertical-align: top;\n",
              "    }\n",
              "\n",
              "    .dataframe thead th {\n",
              "        text-align: right;\n",
              "    }\n",
              "</style>\n",
              "<table border=\"1\" class=\"dataframe\">\n",
              "  <thead>\n",
              "    <tr style=\"text-align: right;\">\n",
              "      <th>Status</th>\n",
              "      <th>Closed</th>\n",
              "      <th>Open</th>\n",
              "      <th>Pending</th>\n",
              "      <th>Solved</th>\n",
              "      <th>Total</th>\n",
              "    </tr>\n",
              "    <tr>\n",
              "      <th>State</th>\n",
              "      <th></th>\n",
              "      <th></th>\n",
              "      <th></th>\n",
              "      <th></th>\n",
              "      <th></th>\n",
              "    </tr>\n",
              "  </thead>\n",
              "  <tbody>\n",
              "    <tr>\n",
              "      <th>Alabama</th>\n",
              "      <td>8.0</td>\n",
              "      <td>4.0</td>\n",
              "      <td>5.0</td>\n",
              "      <td>9.0</td>\n",
              "      <td>26.0</td>\n",
              "    </tr>\n",
              "    <tr>\n",
              "      <th>Arizona</th>\n",
              "      <td>6.0</td>\n",
              "      <td>2.0</td>\n",
              "      <td>4.0</td>\n",
              "      <td>8.0</td>\n",
              "      <td>20.0</td>\n",
              "    </tr>\n",
              "    <tr>\n",
              "      <th>Arkansas</th>\n",
              "      <td>1.0</td>\n",
              "      <td>0.0</td>\n",
              "      <td>0.0</td>\n",
              "      <td>4.0</td>\n",
              "      <td>5.0</td>\n",
              "    </tr>\n",
              "    <tr>\n",
              "      <th>California</th>\n",
              "      <td>69.0</td>\n",
              "      <td>45.0</td>\n",
              "      <td>14.0</td>\n",
              "      <td>82.0</td>\n",
              "      <td>210.0</td>\n",
              "    </tr>\n",
              "    <tr>\n",
              "      <th>Colorado</th>\n",
              "      <td>21.0</td>\n",
              "      <td>12.0</td>\n",
              "      <td>10.0</td>\n",
              "      <td>32.0</td>\n",
              "      <td>75.0</td>\n",
              "    </tr>\n",
              "  </tbody>\n",
              "</table>\n",
              "</div>"
            ],
            "text/plain": [
              "Status      Closed  Open  Pending  Solved  Total\n",
              "State                                           \n",
              "Alabama        8.0   4.0      5.0     9.0   26.0\n",
              "Arizona        6.0   2.0      4.0     8.0   20.0\n",
              "Arkansas       1.0   0.0      0.0     4.0    5.0\n",
              "California    69.0  45.0     14.0    82.0  210.0\n",
              "Colorado      21.0  12.0     10.0    32.0   75.0"
            ]
          },
          "metadata": {
            "tags": []
          },
          "execution_count": 17
        }
      ]
    },
    {
      "cell_type": "code",
      "metadata": {
        "id": "wehWoQf4DIUE",
        "colab": {
          "base_uri": "https://localhost:8080/"
        },
        "outputId": "d28eb134-a68c-470f-d3af-16c6742eecdd"
      },
      "source": [
        "stack = stack.sort_values(\"Total\")\n",
        "print(\"States where minimum complaints are registered\")\n",
        "stack[stack['Total'] == stack['Total'].min()]\n",
        "# stack.head()"
      ],
      "execution_count": null,
      "outputs": [
        {
          "output_type": "stream",
          "text": [
            "States where minimum complaints are registered\n"
          ],
          "name": "stdout"
        },
        {
          "output_type": "execute_result",
          "data": {
            "text/html": [
              "<div>\n",
              "<style scoped>\n",
              "    .dataframe tbody tr th:only-of-type {\n",
              "        vertical-align: middle;\n",
              "    }\n",
              "\n",
              "    .dataframe tbody tr th {\n",
              "        vertical-align: top;\n",
              "    }\n",
              "\n",
              "    .dataframe thead th {\n",
              "        text-align: right;\n",
              "    }\n",
              "</style>\n",
              "<table border=\"1\" class=\"dataframe\">\n",
              "  <thead>\n",
              "    <tr style=\"text-align: right;\">\n",
              "      <th>Status</th>\n",
              "      <th>Closed</th>\n",
              "      <th>Open</th>\n",
              "      <th>Pending</th>\n",
              "      <th>Solved</th>\n",
              "      <th>Total</th>\n",
              "    </tr>\n",
              "    <tr>\n",
              "      <th>State</th>\n",
              "      <th></th>\n",
              "      <th></th>\n",
              "      <th></th>\n",
              "      <th></th>\n",
              "      <th></th>\n",
              "    </tr>\n",
              "  </thead>\n",
              "  <tbody>\n",
              "    <tr>\n",
              "      <th>Nevada</th>\n",
              "      <td>1.0</td>\n",
              "      <td>0.0</td>\n",
              "      <td>0.0</td>\n",
              "      <td>0.0</td>\n",
              "      <td>1.0</td>\n",
              "    </tr>\n",
              "    <tr>\n",
              "      <th>Kansas</th>\n",
              "      <td>0.0</td>\n",
              "      <td>0.0</td>\n",
              "      <td>1.0</td>\n",
              "      <td>0.0</td>\n",
              "      <td>1.0</td>\n",
              "    </tr>\n",
              "    <tr>\n",
              "      <th>Iowa</th>\n",
              "      <td>0.0</td>\n",
              "      <td>0.0</td>\n",
              "      <td>0.0</td>\n",
              "      <td>1.0</td>\n",
              "      <td>1.0</td>\n",
              "    </tr>\n",
              "    <tr>\n",
              "      <th>Montana</th>\n",
              "      <td>1.0</td>\n",
              "      <td>0.0</td>\n",
              "      <td>0.0</td>\n",
              "      <td>0.0</td>\n",
              "      <td>1.0</td>\n",
              "    </tr>\n",
              "    <tr>\n",
              "      <th>District of Columbia</th>\n",
              "      <td>0.0</td>\n",
              "      <td>0.0</td>\n",
              "      <td>0.0</td>\n",
              "      <td>1.0</td>\n",
              "      <td>1.0</td>\n",
              "    </tr>\n",
              "  </tbody>\n",
              "</table>\n",
              "</div>"
            ],
            "text/plain": [
              "Status                Closed  Open  Pending  Solved  Total\n",
              "State                                                     \n",
              "Nevada                   1.0   0.0      0.0     0.0    1.0\n",
              "Kansas                   0.0   0.0      1.0     0.0    1.0\n",
              "Iowa                     0.0   0.0      0.0     1.0    1.0\n",
              "Montana                  1.0   0.0      0.0     0.0    1.0\n",
              "District of Columbia     0.0   0.0      0.0     1.0    1.0"
            ]
          },
          "metadata": {
            "tags": []
          },
          "execution_count": 18
        }
      ]
    },
    {
      "cell_type": "code",
      "metadata": {
        "id": "kpNAZd8qvzHk",
        "colab": {
          "base_uri": "https://localhost:8080/"
        },
        "outputId": "5a1c4622-921f-4554-9da7-ac4dee035535"
      },
      "source": [
        "print(\"States where maximum complaints are registered\")\n",
        "stack[stack['Total'] == stack['Total'].max()]\n"
      ],
      "execution_count": null,
      "outputs": [
        {
          "output_type": "stream",
          "text": [
            "States where maximum complaints are registered\n"
          ],
          "name": "stdout"
        },
        {
          "output_type": "execute_result",
          "data": {
            "text/html": [
              "<div>\n",
              "<style scoped>\n",
              "    .dataframe tbody tr th:only-of-type {\n",
              "        vertical-align: middle;\n",
              "    }\n",
              "\n",
              "    .dataframe tbody tr th {\n",
              "        vertical-align: top;\n",
              "    }\n",
              "\n",
              "    .dataframe thead th {\n",
              "        text-align: right;\n",
              "    }\n",
              "</style>\n",
              "<table border=\"1\" class=\"dataframe\">\n",
              "  <thead>\n",
              "    <tr style=\"text-align: right;\">\n",
              "      <th>Status</th>\n",
              "      <th>Closed</th>\n",
              "      <th>Open</th>\n",
              "      <th>Pending</th>\n",
              "      <th>Solved</th>\n",
              "      <th>Total</th>\n",
              "    </tr>\n",
              "    <tr>\n",
              "      <th>State</th>\n",
              "      <th></th>\n",
              "      <th></th>\n",
              "      <th></th>\n",
              "      <th></th>\n",
              "      <th></th>\n",
              "    </tr>\n",
              "  </thead>\n",
              "  <tbody>\n",
              "    <tr>\n",
              "      <th>Georgia</th>\n",
              "      <td>74.0</td>\n",
              "      <td>34.0</td>\n",
              "      <td>43.0</td>\n",
              "      <td>113.0</td>\n",
              "      <td>264.0</td>\n",
              "    </tr>\n",
              "  </tbody>\n",
              "</table>\n",
              "</div>"
            ],
            "text/plain": [
              "Status   Closed  Open  Pending  Solved  Total\n",
              "State                                        \n",
              "Georgia    74.0  34.0     43.0   113.0  264.0"
            ]
          },
          "metadata": {
            "tags": []
          },
          "execution_count": 19
        }
      ]
    },
    {
      "cell_type": "markdown",
      "metadata": {
        "id": "j7_E6_jkHCBF"
      },
      "source": [
        "## Question **6**Which state has the highest and lowest percentage of unresolved complaints\n",
        "\n",
        "\n",
        "> Total Resolved Complaints will be the Sum of Closed and Solved. Creating a new column with these values.\n",
        "\n",
        "> Total UnResolved Complaints will be the Sum of Open and Pending. Creating a new column with these values.\n",
        "\n",
        "\n",
        "> To get the percentage divide the sum of the columns values divide by the particular value.\n",
        "\n",
        "\n"
      ]
    },
    {
      "cell_type": "code",
      "metadata": {
        "id": "8TNUhczDHF99"
      },
      "source": [
        "stack['resolved'] = stack['Closed'] + stack['Solved']\n",
        "stack['unresolved'] = stack['Pending'] + stack['Open']\n",
        "stack['resolved'] = (stack['resolved']/(stack['resolved'].sum()))*100\n",
        "stack['unresolved'] = (stack['unresolved']/(stack['unresolved'].sum()))*100"
      ],
      "execution_count": null,
      "outputs": []
    },
    {
      "cell_type": "code",
      "metadata": {
        "id": "jbZkXSb0H_hE",
        "colab": {
          "base_uri": "https://localhost:8080/"
        },
        "outputId": "afcfe11d-6cc6-4040-e337-df2e70a496a1"
      },
      "source": [
        "stack['unresolved']"
      ],
      "execution_count": null,
      "outputs": [
        {
          "output_type": "execute_result",
          "data": {
            "text/plain": [
              "State\n",
              "Nevada                   0.000000\n",
              "Kansas                   0.205339\n",
              "Iowa                     0.000000\n",
              "Montana                  0.000000\n",
              "District of Columbia     0.000000\n",
              "North Carolina           0.000000\n",
              "Ohio                     0.000000\n",
              "Missouri                 0.000000\n",
              "Vermont                  0.205339\n",
              "Arkansas                 0.000000\n",
              "Maine                    0.410678\n",
              "New York                 0.000000\n",
              "Kentucky                 0.616016\n",
              "West Virginia            0.410678\n",
              "Delaware                 0.821355\n",
              "New Hampshire            0.616016\n",
              "Connecticut              0.616016\n",
              "Louisiana                0.205339\n",
              "New Mexico               0.821355\n",
              "District Of Columbia     0.410678\n",
              "South Carolina           0.616016\n",
              "Arizona                  1.232033\n",
              "Utah                     1.232033\n",
              "Alabama                  1.848049\n",
              "Minnesota                0.821355\n",
              "Mississippi              3.080082\n",
              "Oregon                   2.258727\n",
              "Indiana                  1.642710\n",
              "Massachusetts            2.053388\n",
              "Virginia                 2.053388\n",
              "Texas                    4.312115\n",
              "New Jersey               3.901437\n",
              "Maryland                 2.258727\n",
              "Colorado                 4.517454\n",
              "Washington               4.106776\n",
              "Michigan                 4.312115\n",
              "Pennsylvania             3.901437\n",
              "Tennessee                9.240246\n",
              "Illinois                 5.544148\n",
              "California              12.114990\n",
              "Florida                  7.802875\n",
              "Georgia                 15.811088\n",
              "Name: unresolved, dtype: float64"
            ]
          },
          "metadata": {
            "tags": []
          },
          "execution_count": 21
        }
      ]
    },
    {
      "cell_type": "code",
      "metadata": {
        "id": "2jbD7QqZIBkC"
      },
      "source": [
        "stack = stack.sort_values(\"unresolved\")\n"
      ],
      "execution_count": null,
      "outputs": []
    },
    {
      "cell_type": "code",
      "metadata": {
        "id": "rCnmXC4bJMDE",
        "colab": {
          "base_uri": "https://localhost:8080/"
        },
        "outputId": "c6d0b19e-dc77-41a7-badf-b1f20cf5e7dc"
      },
      "source": [
        "print(\"States where minimum unresolved complaints are registered\")\n",
        "stack[stack['unresolved'] == stack['unresolved'].min()]"
      ],
      "execution_count": null,
      "outputs": [
        {
          "output_type": "stream",
          "text": [
            "States where minimum unresolved complaints are registered\n"
          ],
          "name": "stdout"
        },
        {
          "output_type": "execute_result",
          "data": {
            "text/html": [
              "<div>\n",
              "<style scoped>\n",
              "    .dataframe tbody tr th:only-of-type {\n",
              "        vertical-align: middle;\n",
              "    }\n",
              "\n",
              "    .dataframe tbody tr th {\n",
              "        vertical-align: top;\n",
              "    }\n",
              "\n",
              "    .dataframe thead th {\n",
              "        text-align: right;\n",
              "    }\n",
              "</style>\n",
              "<table border=\"1\" class=\"dataframe\">\n",
              "  <thead>\n",
              "    <tr style=\"text-align: right;\">\n",
              "      <th>Status</th>\n",
              "      <th>Closed</th>\n",
              "      <th>Open</th>\n",
              "      <th>Pending</th>\n",
              "      <th>Solved</th>\n",
              "      <th>Total</th>\n",
              "      <th>resolved</th>\n",
              "      <th>unresolved</th>\n",
              "    </tr>\n",
              "    <tr>\n",
              "      <th>State</th>\n",
              "      <th></th>\n",
              "      <th></th>\n",
              "      <th></th>\n",
              "      <th></th>\n",
              "      <th></th>\n",
              "      <th></th>\n",
              "      <th></th>\n",
              "    </tr>\n",
              "  </thead>\n",
              "  <tbody>\n",
              "    <tr>\n",
              "      <th>Nevada</th>\n",
              "      <td>1.0</td>\n",
              "      <td>0.0</td>\n",
              "      <td>0.0</td>\n",
              "      <td>0.0</td>\n",
              "      <td>1.0</td>\n",
              "      <td>0.062893</td>\n",
              "      <td>0.0</td>\n",
              "    </tr>\n",
              "    <tr>\n",
              "      <th>Iowa</th>\n",
              "      <td>0.0</td>\n",
              "      <td>0.0</td>\n",
              "      <td>0.0</td>\n",
              "      <td>1.0</td>\n",
              "      <td>1.0</td>\n",
              "      <td>0.062893</td>\n",
              "      <td>0.0</td>\n",
              "    </tr>\n",
              "    <tr>\n",
              "      <th>Montana</th>\n",
              "      <td>1.0</td>\n",
              "      <td>0.0</td>\n",
              "      <td>0.0</td>\n",
              "      <td>0.0</td>\n",
              "      <td>1.0</td>\n",
              "      <td>0.062893</td>\n",
              "      <td>0.0</td>\n",
              "    </tr>\n",
              "    <tr>\n",
              "      <th>District of Columbia</th>\n",
              "      <td>0.0</td>\n",
              "      <td>0.0</td>\n",
              "      <td>0.0</td>\n",
              "      <td>1.0</td>\n",
              "      <td>1.0</td>\n",
              "      <td>0.062893</td>\n",
              "      <td>0.0</td>\n",
              "    </tr>\n",
              "    <tr>\n",
              "      <th>North Carolina</th>\n",
              "      <td>2.0</td>\n",
              "      <td>0.0</td>\n",
              "      <td>0.0</td>\n",
              "      <td>0.0</td>\n",
              "      <td>2.0</td>\n",
              "      <td>0.125786</td>\n",
              "      <td>0.0</td>\n",
              "    </tr>\n",
              "    <tr>\n",
              "      <th>Ohio</th>\n",
              "      <td>2.0</td>\n",
              "      <td>0.0</td>\n",
              "      <td>0.0</td>\n",
              "      <td>1.0</td>\n",
              "      <td>3.0</td>\n",
              "      <td>0.188679</td>\n",
              "      <td>0.0</td>\n",
              "    </tr>\n",
              "    <tr>\n",
              "      <th>Missouri</th>\n",
              "      <td>2.0</td>\n",
              "      <td>0.0</td>\n",
              "      <td>0.0</td>\n",
              "      <td>1.0</td>\n",
              "      <td>3.0</td>\n",
              "      <td>0.188679</td>\n",
              "      <td>0.0</td>\n",
              "    </tr>\n",
              "    <tr>\n",
              "      <th>Arkansas</th>\n",
              "      <td>1.0</td>\n",
              "      <td>0.0</td>\n",
              "      <td>0.0</td>\n",
              "      <td>4.0</td>\n",
              "      <td>5.0</td>\n",
              "      <td>0.314465</td>\n",
              "      <td>0.0</td>\n",
              "    </tr>\n",
              "    <tr>\n",
              "      <th>New York</th>\n",
              "      <td>2.0</td>\n",
              "      <td>0.0</td>\n",
              "      <td>0.0</td>\n",
              "      <td>4.0</td>\n",
              "      <td>6.0</td>\n",
              "      <td>0.377358</td>\n",
              "      <td>0.0</td>\n",
              "    </tr>\n",
              "  </tbody>\n",
              "</table>\n",
              "</div>"
            ],
            "text/plain": [
              "Status                Closed  Open  Pending  ...  Total  resolved  unresolved\n",
              "State                                        ...                             \n",
              "Nevada                   1.0   0.0      0.0  ...    1.0  0.062893         0.0\n",
              "Iowa                     0.0   0.0      0.0  ...    1.0  0.062893         0.0\n",
              "Montana                  1.0   0.0      0.0  ...    1.0  0.062893         0.0\n",
              "District of Columbia     0.0   0.0      0.0  ...    1.0  0.062893         0.0\n",
              "North Carolina           2.0   0.0      0.0  ...    2.0  0.125786         0.0\n",
              "Ohio                     2.0   0.0      0.0  ...    3.0  0.188679         0.0\n",
              "Missouri                 2.0   0.0      0.0  ...    3.0  0.188679         0.0\n",
              "Arkansas                 1.0   0.0      0.0  ...    5.0  0.314465         0.0\n",
              "New York                 2.0   0.0      0.0  ...    6.0  0.377358         0.0\n",
              "\n",
              "[9 rows x 7 columns]"
            ]
          },
          "metadata": {
            "tags": []
          },
          "execution_count": 23
        }
      ]
    },
    {
      "cell_type": "code",
      "metadata": {
        "id": "pKm6n5Mrx_fr",
        "colab": {
          "base_uri": "https://localhost:8080/"
        },
        "outputId": "58e42d1c-02ff-4caa-9f33-3370b0091f75"
      },
      "source": [
        "print(\"States where maximum unresolved complaints are registered\")\n",
        "stack[stack['unresolved'] == stack['unresolved'].max()]"
      ],
      "execution_count": null,
      "outputs": [
        {
          "output_type": "stream",
          "text": [
            "States where maximum unresolved complaints are registered\n"
          ],
          "name": "stdout"
        },
        {
          "output_type": "execute_result",
          "data": {
            "text/html": [
              "<div>\n",
              "<style scoped>\n",
              "    .dataframe tbody tr th:only-of-type {\n",
              "        vertical-align: middle;\n",
              "    }\n",
              "\n",
              "    .dataframe tbody tr th {\n",
              "        vertical-align: top;\n",
              "    }\n",
              "\n",
              "    .dataframe thead th {\n",
              "        text-align: right;\n",
              "    }\n",
              "</style>\n",
              "<table border=\"1\" class=\"dataframe\">\n",
              "  <thead>\n",
              "    <tr style=\"text-align: right;\">\n",
              "      <th>Status</th>\n",
              "      <th>Closed</th>\n",
              "      <th>Open</th>\n",
              "      <th>Pending</th>\n",
              "      <th>Solved</th>\n",
              "      <th>Total</th>\n",
              "      <th>resolved</th>\n",
              "      <th>unresolved</th>\n",
              "    </tr>\n",
              "    <tr>\n",
              "      <th>State</th>\n",
              "      <th></th>\n",
              "      <th></th>\n",
              "      <th></th>\n",
              "      <th></th>\n",
              "      <th></th>\n",
              "      <th></th>\n",
              "      <th></th>\n",
              "    </tr>\n",
              "  </thead>\n",
              "  <tbody>\n",
              "    <tr>\n",
              "      <th>Georgia</th>\n",
              "      <td>74.0</td>\n",
              "      <td>34.0</td>\n",
              "      <td>43.0</td>\n",
              "      <td>113.0</td>\n",
              "      <td>264.0</td>\n",
              "      <td>11.761006</td>\n",
              "      <td>15.811088</td>\n",
              "    </tr>\n",
              "  </tbody>\n",
              "</table>\n",
              "</div>"
            ],
            "text/plain": [
              "Status   Closed  Open  Pending  Solved  Total   resolved  unresolved\n",
              "State                                                               \n",
              "Georgia    74.0  34.0     43.0   113.0  264.0  11.761006   15.811088"
            ]
          },
          "metadata": {
            "tags": []
          },
          "execution_count": 24
        }
      ]
    },
    {
      "cell_type": "markdown",
      "metadata": {
        "id": "_67LtLX_yqhY"
      },
      "source": [
        "# ***Assignment 2***"
      ]
    },
    {
      "cell_type": "markdown",
      "metadata": {
        "id": "s5za0M-SzWhX"
      },
      "source": [
        "## **Import the Libraries  & Visualize the Data**"
      ]
    },
    {
      "cell_type": "code",
      "metadata": {
        "id": "dJuQTQuozNs2"
      },
      "source": [
        "import pandas as pd\n",
        "import numpy as np\n",
        "\n",
        "import matplotlib.pyplot as plt\n",
        "%matplotlib inline"
      ],
      "execution_count": null,
      "outputs": []
    },
    {
      "cell_type": "code",
      "metadata": {
        "id": "kLk2gMUkzdAU"
      },
      "source": [
        "df = pd.read_csv('Mart.csv')"
      ],
      "execution_count": null,
      "outputs": []
    },
    {
      "cell_type": "code",
      "metadata": {
        "id": "oCqFSNptzeeh",
        "colab": {
          "base_uri": "https://localhost:8080/",
          "height": 254
        },
        "outputId": "cfd9a9c1-8088-4d65-c7d5-dfdb8d3483c6"
      },
      "source": [
        "df.head(7)"
      ],
      "execution_count": null,
      "outputs": [
        {
          "output_type": "execute_result",
          "data": {
            "text/html": [
              "<div>\n",
              "<style scoped>\n",
              "    .dataframe tbody tr th:only-of-type {\n",
              "        vertical-align: middle;\n",
              "    }\n",
              "\n",
              "    .dataframe tbody tr th {\n",
              "        vertical-align: top;\n",
              "    }\n",
              "\n",
              "    .dataframe thead th {\n",
              "        text-align: right;\n",
              "    }\n",
              "</style>\n",
              "<table border=\"1\" class=\"dataframe\">\n",
              "  <thead>\n",
              "    <tr style=\"text-align: right;\">\n",
              "      <th></th>\n",
              "      <th>Store</th>\n",
              "      <th>Date</th>\n",
              "      <th>Weekly_Sales</th>\n",
              "      <th>Holiday_Flag</th>\n",
              "      <th>Temperature</th>\n",
              "      <th>Fuel_Price</th>\n",
              "      <th>CPI</th>\n",
              "      <th>Unemployment</th>\n",
              "    </tr>\n",
              "  </thead>\n",
              "  <tbody>\n",
              "    <tr>\n",
              "      <th>0</th>\n",
              "      <td>1</td>\n",
              "      <td>05-02-2010</td>\n",
              "      <td>1643690.90</td>\n",
              "      <td>0</td>\n",
              "      <td>42.31</td>\n",
              "      <td>2.572</td>\n",
              "      <td>211.096358</td>\n",
              "      <td>8.106</td>\n",
              "    </tr>\n",
              "    <tr>\n",
              "      <th>1</th>\n",
              "      <td>1</td>\n",
              "      <td>12-02-2010</td>\n",
              "      <td>1641957.44</td>\n",
              "      <td>1</td>\n",
              "      <td>38.51</td>\n",
              "      <td>2.548</td>\n",
              "      <td>211.242170</td>\n",
              "      <td>8.106</td>\n",
              "    </tr>\n",
              "    <tr>\n",
              "      <th>2</th>\n",
              "      <td>1</td>\n",
              "      <td>19-02-2010</td>\n",
              "      <td>1611968.17</td>\n",
              "      <td>0</td>\n",
              "      <td>39.93</td>\n",
              "      <td>2.514</td>\n",
              "      <td>211.289143</td>\n",
              "      <td>8.106</td>\n",
              "    </tr>\n",
              "    <tr>\n",
              "      <th>3</th>\n",
              "      <td>1</td>\n",
              "      <td>26-02-2010</td>\n",
              "      <td>1409727.59</td>\n",
              "      <td>0</td>\n",
              "      <td>46.63</td>\n",
              "      <td>2.561</td>\n",
              "      <td>211.319643</td>\n",
              "      <td>8.106</td>\n",
              "    </tr>\n",
              "    <tr>\n",
              "      <th>4</th>\n",
              "      <td>1</td>\n",
              "      <td>05-03-2010</td>\n",
              "      <td>1554806.68</td>\n",
              "      <td>0</td>\n",
              "      <td>46.50</td>\n",
              "      <td>2.625</td>\n",
              "      <td>211.350143</td>\n",
              "      <td>8.106</td>\n",
              "    </tr>\n",
              "    <tr>\n",
              "      <th>5</th>\n",
              "      <td>1</td>\n",
              "      <td>12-03-2010</td>\n",
              "      <td>1439541.59</td>\n",
              "      <td>0</td>\n",
              "      <td>57.79</td>\n",
              "      <td>2.667</td>\n",
              "      <td>211.380643</td>\n",
              "      <td>8.106</td>\n",
              "    </tr>\n",
              "    <tr>\n",
              "      <th>6</th>\n",
              "      <td>1</td>\n",
              "      <td>19-03-2010</td>\n",
              "      <td>1472515.79</td>\n",
              "      <td>0</td>\n",
              "      <td>54.58</td>\n",
              "      <td>2.720</td>\n",
              "      <td>211.215635</td>\n",
              "      <td>8.106</td>\n",
              "    </tr>\n",
              "  </tbody>\n",
              "</table>\n",
              "</div>"
            ],
            "text/plain": [
              "   Store        Date  Weekly_Sales  ...  Fuel_Price         CPI  Unemployment\n",
              "0      1  05-02-2010    1643690.90  ...       2.572  211.096358         8.106\n",
              "1      1  12-02-2010    1641957.44  ...       2.548  211.242170         8.106\n",
              "2      1  19-02-2010    1611968.17  ...       2.514  211.289143         8.106\n",
              "3      1  26-02-2010    1409727.59  ...       2.561  211.319643         8.106\n",
              "4      1  05-03-2010    1554806.68  ...       2.625  211.350143         8.106\n",
              "5      1  12-03-2010    1439541.59  ...       2.667  211.380643         8.106\n",
              "6      1  19-03-2010    1472515.79  ...       2.720  211.215635         8.106\n",
              "\n",
              "[7 rows x 8 columns]"
            ]
          },
          "metadata": {
            "tags": []
          },
          "execution_count": 135
        }
      ]
    },
    {
      "cell_type": "code",
      "metadata": {
        "id": "grjgr5eEzvSM",
        "colab": {
          "base_uri": "https://localhost:8080/",
          "height": 286
        },
        "outputId": "d1466952-ec9c-4712-9545-b003a6ee14b1"
      },
      "source": [
        "df.info()\n",
        "df.shape"
      ],
      "execution_count": null,
      "outputs": [
        {
          "output_type": "stream",
          "text": [
            "<class 'pandas.core.frame.DataFrame'>\n",
            "RangeIndex: 6435 entries, 0 to 6434\n",
            "Data columns (total 8 columns):\n",
            " #   Column        Non-Null Count  Dtype  \n",
            "---  ------        --------------  -----  \n",
            " 0   Store         6435 non-null   int64  \n",
            " 1   Date          6435 non-null   object \n",
            " 2   Weekly_Sales  6435 non-null   float64\n",
            " 3   Holiday_Flag  6435 non-null   int64  \n",
            " 4   Temperature   6435 non-null   float64\n",
            " 5   Fuel_Price    6435 non-null   float64\n",
            " 6   CPI           6435 non-null   float64\n",
            " 7   Unemployment  6435 non-null   float64\n",
            "dtypes: float64(5), int64(2), object(1)\n",
            "memory usage: 402.3+ KB\n"
          ],
          "name": "stdout"
        },
        {
          "output_type": "execute_result",
          "data": {
            "text/plain": [
              "(6435, 8)"
            ]
          },
          "metadata": {
            "tags": []
          },
          "execution_count": 136
        }
      ]
    },
    {
      "cell_type": "code",
      "metadata": {
        "id": "oe81uMzZzxKG",
        "colab": {
          "base_uri": "https://localhost:8080/",
          "height": 284
        },
        "outputId": "fbe5b7fc-3c1b-45c2-e65d-6b628fc804b6"
      },
      "source": [
        "df.describe()"
      ],
      "execution_count": null,
      "outputs": [
        {
          "output_type": "execute_result",
          "data": {
            "text/html": [
              "<div>\n",
              "<style scoped>\n",
              "    .dataframe tbody tr th:only-of-type {\n",
              "        vertical-align: middle;\n",
              "    }\n",
              "\n",
              "    .dataframe tbody tr th {\n",
              "        vertical-align: top;\n",
              "    }\n",
              "\n",
              "    .dataframe thead th {\n",
              "        text-align: right;\n",
              "    }\n",
              "</style>\n",
              "<table border=\"1\" class=\"dataframe\">\n",
              "  <thead>\n",
              "    <tr style=\"text-align: right;\">\n",
              "      <th></th>\n",
              "      <th>Store</th>\n",
              "      <th>Weekly_Sales</th>\n",
              "      <th>Holiday_Flag</th>\n",
              "      <th>Temperature</th>\n",
              "      <th>Fuel_Price</th>\n",
              "      <th>CPI</th>\n",
              "      <th>Unemployment</th>\n",
              "    </tr>\n",
              "  </thead>\n",
              "  <tbody>\n",
              "    <tr>\n",
              "      <th>count</th>\n",
              "      <td>6435.000000</td>\n",
              "      <td>6.435000e+03</td>\n",
              "      <td>6435.000000</td>\n",
              "      <td>6435.000000</td>\n",
              "      <td>6435.000000</td>\n",
              "      <td>6435.000000</td>\n",
              "      <td>6435.000000</td>\n",
              "    </tr>\n",
              "    <tr>\n",
              "      <th>mean</th>\n",
              "      <td>23.000000</td>\n",
              "      <td>1.046965e+06</td>\n",
              "      <td>0.069930</td>\n",
              "      <td>60.663782</td>\n",
              "      <td>3.358607</td>\n",
              "      <td>171.578394</td>\n",
              "      <td>7.999151</td>\n",
              "    </tr>\n",
              "    <tr>\n",
              "      <th>std</th>\n",
              "      <td>12.988182</td>\n",
              "      <td>5.643666e+05</td>\n",
              "      <td>0.255049</td>\n",
              "      <td>18.444933</td>\n",
              "      <td>0.459020</td>\n",
              "      <td>39.356712</td>\n",
              "      <td>1.875885</td>\n",
              "    </tr>\n",
              "    <tr>\n",
              "      <th>min</th>\n",
              "      <td>1.000000</td>\n",
              "      <td>2.099862e+05</td>\n",
              "      <td>0.000000</td>\n",
              "      <td>-2.060000</td>\n",
              "      <td>2.472000</td>\n",
              "      <td>126.064000</td>\n",
              "      <td>3.879000</td>\n",
              "    </tr>\n",
              "    <tr>\n",
              "      <th>25%</th>\n",
              "      <td>12.000000</td>\n",
              "      <td>5.533501e+05</td>\n",
              "      <td>0.000000</td>\n",
              "      <td>47.460000</td>\n",
              "      <td>2.933000</td>\n",
              "      <td>131.735000</td>\n",
              "      <td>6.891000</td>\n",
              "    </tr>\n",
              "    <tr>\n",
              "      <th>50%</th>\n",
              "      <td>23.000000</td>\n",
              "      <td>9.607460e+05</td>\n",
              "      <td>0.000000</td>\n",
              "      <td>62.670000</td>\n",
              "      <td>3.445000</td>\n",
              "      <td>182.616521</td>\n",
              "      <td>7.874000</td>\n",
              "    </tr>\n",
              "    <tr>\n",
              "      <th>75%</th>\n",
              "      <td>34.000000</td>\n",
              "      <td>1.420159e+06</td>\n",
              "      <td>0.000000</td>\n",
              "      <td>74.940000</td>\n",
              "      <td>3.735000</td>\n",
              "      <td>212.743293</td>\n",
              "      <td>8.622000</td>\n",
              "    </tr>\n",
              "    <tr>\n",
              "      <th>max</th>\n",
              "      <td>45.000000</td>\n",
              "      <td>3.818686e+06</td>\n",
              "      <td>1.000000</td>\n",
              "      <td>100.140000</td>\n",
              "      <td>4.468000</td>\n",
              "      <td>227.232807</td>\n",
              "      <td>14.313000</td>\n",
              "    </tr>\n",
              "  </tbody>\n",
              "</table>\n",
              "</div>"
            ],
            "text/plain": [
              "             Store  Weekly_Sales  ...          CPI  Unemployment\n",
              "count  6435.000000  6.435000e+03  ...  6435.000000   6435.000000\n",
              "mean     23.000000  1.046965e+06  ...   171.578394      7.999151\n",
              "std      12.988182  5.643666e+05  ...    39.356712      1.875885\n",
              "min       1.000000  2.099862e+05  ...   126.064000      3.879000\n",
              "25%      12.000000  5.533501e+05  ...   131.735000      6.891000\n",
              "50%      23.000000  9.607460e+05  ...   182.616521      7.874000\n",
              "75%      34.000000  1.420159e+06  ...   212.743293      8.622000\n",
              "max      45.000000  3.818686e+06  ...   227.232807     14.313000\n",
              "\n",
              "[8 rows x 7 columns]"
            ]
          },
          "metadata": {
            "tags": []
          },
          "execution_count": 137
        }
      ]
    },
    {
      "cell_type": "markdown",
      "metadata": {
        "id": "_eBebH2Yz0sD"
      },
      "source": [
        "## **Question 1 Which store has maximum sales**\n",
        "\n",
        "\n",
        "> First We groupby the DataFrame according the Store a and then I sort the table according to the Weekly Sales Column in the descending order and then extract the first value from the column\n",
        "\n"
      ]
    },
    {
      "cell_type": "code",
      "metadata": {
        "id": "MpUw4eT2zzCr",
        "colab": {
          "base_uri": "https://localhost:8080/",
          "height": 123
        },
        "outputId": "9bb6b8ff-13e0-4f61-cbed-3af1fcf18ce7"
      },
      "source": [
        "sales = df[['Store','Weekly_Sales']].groupby(['Store']).sum()\n",
        "print(\"Maximum sales comes from\")\n",
        "df = sales.sort_values(\"Weekly_Sales\",ascending = False)\n",
        "df.head(1)"
      ],
      "execution_count": null,
      "outputs": [
        {
          "output_type": "stream",
          "text": [
            "Maximum sales comes from\n"
          ],
          "name": "stdout"
        },
        {
          "output_type": "execute_result",
          "data": {
            "text/html": [
              "<div>\n",
              "<style scoped>\n",
              "    .dataframe tbody tr th:only-of-type {\n",
              "        vertical-align: middle;\n",
              "    }\n",
              "\n",
              "    .dataframe tbody tr th {\n",
              "        vertical-align: top;\n",
              "    }\n",
              "\n",
              "    .dataframe thead th {\n",
              "        text-align: right;\n",
              "    }\n",
              "</style>\n",
              "<table border=\"1\" class=\"dataframe\">\n",
              "  <thead>\n",
              "    <tr style=\"text-align: right;\">\n",
              "      <th></th>\n",
              "      <th>Weekly_Sales</th>\n",
              "    </tr>\n",
              "    <tr>\n",
              "      <th>Store</th>\n",
              "      <th></th>\n",
              "    </tr>\n",
              "  </thead>\n",
              "  <tbody>\n",
              "    <tr>\n",
              "      <th>20</th>\n",
              "      <td>3.013978e+08</td>\n",
              "    </tr>\n",
              "  </tbody>\n",
              "</table>\n",
              "</div>"
            ],
            "text/plain": [
              "       Weekly_Sales\n",
              "Store              \n",
              "20     3.013978e+08"
            ]
          },
          "metadata": {
            "tags": []
          },
          "execution_count": 138
        }
      ]
    },
    {
      "cell_type": "markdown",
      "metadata": {
        "id": "ql-qObW60Vb-"
      },
      "source": [
        "##Question 2 Which store has maximum standard deviation i.e., the sales vary a lot. Also, find out the coefficient of mean to standard deviation\n",
        "\n",
        " \n",
        "\n",
        "1.   First I calculated the Standard Deviation using the std method from Dataframe\n",
        "2.   Then Similarly I calculated the mean using the mean method from Dataframe\n",
        "3. Divided them in the last to get the ratio.\n",
        "\n",
        "\n",
        "\n",
        "\n"
      ]
    },
    {
      "cell_type": "code",
      "metadata": {
        "id": "Z-mr7EMu0SVY",
        "colab": {
          "base_uri": "https://localhost:8080/"
        },
        "outputId": "cdfccd2e-5f55-4502-995a-b5cec36afce2"
      },
      "source": [
        "stack_std = df.groupby('Store').std()\n",
        "\n",
        "stack_std.head()"
      ],
      "execution_count": null,
      "outputs": [
        {
          "output_type": "execute_result",
          "data": {
            "text/html": [
              "<div>\n",
              "<style scoped>\n",
              "    .dataframe tbody tr th:only-of-type {\n",
              "        vertical-align: middle;\n",
              "    }\n",
              "\n",
              "    .dataframe tbody tr th {\n",
              "        vertical-align: top;\n",
              "    }\n",
              "\n",
              "    .dataframe thead th {\n",
              "        text-align: right;\n",
              "    }\n",
              "</style>\n",
              "<table border=\"1\" class=\"dataframe\">\n",
              "  <thead>\n",
              "    <tr style=\"text-align: right;\">\n",
              "      <th></th>\n",
              "      <th>Weekly_Sales</th>\n",
              "      <th>Holiday_Flag</th>\n",
              "      <th>Temperature</th>\n",
              "      <th>Fuel_Price</th>\n",
              "      <th>CPI</th>\n",
              "      <th>Unemployment</th>\n",
              "    </tr>\n",
              "    <tr>\n",
              "      <th>Store</th>\n",
              "      <th></th>\n",
              "      <th></th>\n",
              "      <th></th>\n",
              "      <th></th>\n",
              "      <th></th>\n",
              "      <th></th>\n",
              "    </tr>\n",
              "  </thead>\n",
              "  <tbody>\n",
              "    <tr>\n",
              "      <th>1</th>\n",
              "      <td>155980.767761</td>\n",
              "      <td>0.255926</td>\n",
              "      <td>14.250486</td>\n",
              "      <td>0.427313</td>\n",
              "      <td>4.350890</td>\n",
              "      <td>0.383749</td>\n",
              "    </tr>\n",
              "    <tr>\n",
              "      <th>2</th>\n",
              "      <td>237683.694682</td>\n",
              "      <td>0.255926</td>\n",
              "      <td>15.492766</td>\n",
              "      <td>0.427313</td>\n",
              "      <td>4.342286</td>\n",
              "      <td>0.615414</td>\n",
              "    </tr>\n",
              "    <tr>\n",
              "      <th>3</th>\n",
              "      <td>46319.631557</td>\n",
              "      <td>0.255926</td>\n",
              "      <td>12.645851</td>\n",
              "      <td>0.427313</td>\n",
              "      <td>4.434232</td>\n",
              "      <td>0.447245</td>\n",
              "    </tr>\n",
              "    <tr>\n",
              "      <th>4</th>\n",
              "      <td>266201.442297</td>\n",
              "      <td>0.255926</td>\n",
              "      <td>16.180023</td>\n",
              "      <td>0.416967</td>\n",
              "      <td>1.858300</td>\n",
              "      <td>1.421267</td>\n",
              "    </tr>\n",
              "    <tr>\n",
              "      <th>5</th>\n",
              "      <td>37737.965745</td>\n",
              "      <td>0.255926</td>\n",
              "      <td>14.225352</td>\n",
              "      <td>0.427313</td>\n",
              "      <td>4.364848</td>\n",
              "      <td>0.387415</td>\n",
              "    </tr>\n",
              "  </tbody>\n",
              "</table>\n",
              "</div>"
            ],
            "text/plain": [
              "        Weekly_Sales  Holiday_Flag  ...       CPI  Unemployment\n",
              "Store                               ...                        \n",
              "1      155980.767761      0.255926  ...  4.350890      0.383749\n",
              "2      237683.694682      0.255926  ...  4.342286      0.615414\n",
              "3       46319.631557      0.255926  ...  4.434232      0.447245\n",
              "4      266201.442297      0.255926  ...  1.858300      1.421267\n",
              "5       37737.965745      0.255926  ...  4.364848      0.387415\n",
              "\n",
              "[5 rows x 6 columns]"
            ]
          },
          "metadata": {
            "tags": []
          },
          "execution_count": 31
        }
      ]
    },
    {
      "cell_type": "code",
      "metadata": {
        "id": "mTPNebMf0nkp",
        "colab": {
          "base_uri": "https://localhost:8080/"
        },
        "outputId": "beafee3e-7fa6-418b-b753-43dd83eaed4e"
      },
      "source": [
        "stack_std = stack_std.sort_values(\"Weekly_Sales\",ascending=False)\n",
        "stack_std.head(1)"
      ],
      "execution_count": null,
      "outputs": [
        {
          "output_type": "execute_result",
          "data": {
            "text/html": [
              "<div>\n",
              "<style scoped>\n",
              "    .dataframe tbody tr th:only-of-type {\n",
              "        vertical-align: middle;\n",
              "    }\n",
              "\n",
              "    .dataframe tbody tr th {\n",
              "        vertical-align: top;\n",
              "    }\n",
              "\n",
              "    .dataframe thead th {\n",
              "        text-align: right;\n",
              "    }\n",
              "</style>\n",
              "<table border=\"1\" class=\"dataframe\">\n",
              "  <thead>\n",
              "    <tr style=\"text-align: right;\">\n",
              "      <th></th>\n",
              "      <th>Weekly_Sales</th>\n",
              "      <th>Holiday_Flag</th>\n",
              "      <th>Temperature</th>\n",
              "      <th>Fuel_Price</th>\n",
              "      <th>CPI</th>\n",
              "      <th>Unemployment</th>\n",
              "    </tr>\n",
              "    <tr>\n",
              "      <th>Store</th>\n",
              "      <th></th>\n",
              "      <th></th>\n",
              "      <th></th>\n",
              "      <th></th>\n",
              "      <th></th>\n",
              "      <th></th>\n",
              "    </tr>\n",
              "  </thead>\n",
              "  <tbody>\n",
              "    <tr>\n",
              "      <th>14</th>\n",
              "      <td>317569.949476</td>\n",
              "      <td>0.255926</td>\n",
              "      <td>16.271612</td>\n",
              "      <td>0.443029</td>\n",
              "      <td>3.59482</td>\n",
              "      <td>0.15146</td>\n",
              "    </tr>\n",
              "  </tbody>\n",
              "</table>\n",
              "</div>"
            ],
            "text/plain": [
              "        Weekly_Sales  Holiday_Flag  ...      CPI  Unemployment\n",
              "Store                               ...                       \n",
              "14     317569.949476      0.255926  ...  3.59482       0.15146\n",
              "\n",
              "[1 rows x 6 columns]"
            ]
          },
          "metadata": {
            "tags": []
          },
          "execution_count": 32
        }
      ]
    },
    {
      "cell_type": "code",
      "metadata": {
        "id": "UXzATHn90q7x",
        "colab": {
          "base_uri": "https://localhost:8080/"
        },
        "outputId": "b2313635-58ce-4dd3-81d5-350a6b7664e7"
      },
      "source": [
        "stack_mean = df.groupby('Store').mean()\n",
        "stack_mean.head()"
      ],
      "execution_count": null,
      "outputs": [
        {
          "output_type": "execute_result",
          "data": {
            "text/html": [
              "<div>\n",
              "<style scoped>\n",
              "    .dataframe tbody tr th:only-of-type {\n",
              "        vertical-align: middle;\n",
              "    }\n",
              "\n",
              "    .dataframe tbody tr th {\n",
              "        vertical-align: top;\n",
              "    }\n",
              "\n",
              "    .dataframe thead th {\n",
              "        text-align: right;\n",
              "    }\n",
              "</style>\n",
              "<table border=\"1\" class=\"dataframe\">\n",
              "  <thead>\n",
              "    <tr style=\"text-align: right;\">\n",
              "      <th></th>\n",
              "      <th>Weekly_Sales</th>\n",
              "      <th>Holiday_Flag</th>\n",
              "      <th>Temperature</th>\n",
              "      <th>Fuel_Price</th>\n",
              "      <th>CPI</th>\n",
              "      <th>Unemployment</th>\n",
              "    </tr>\n",
              "    <tr>\n",
              "      <th>Store</th>\n",
              "      <th></th>\n",
              "      <th></th>\n",
              "      <th></th>\n",
              "      <th></th>\n",
              "      <th></th>\n",
              "      <th></th>\n",
              "    </tr>\n",
              "  </thead>\n",
              "  <tbody>\n",
              "    <tr>\n",
              "      <th>1</th>\n",
              "      <td>1.555264e+06</td>\n",
              "      <td>0.06993</td>\n",
              "      <td>68.306783</td>\n",
              "      <td>3.219699</td>\n",
              "      <td>215.996892</td>\n",
              "      <td>7.610420</td>\n",
              "    </tr>\n",
              "    <tr>\n",
              "      <th>2</th>\n",
              "      <td>1.925751e+06</td>\n",
              "      <td>0.06993</td>\n",
              "      <td>68.216364</td>\n",
              "      <td>3.219699</td>\n",
              "      <td>215.646311</td>\n",
              "      <td>7.623846</td>\n",
              "    </tr>\n",
              "    <tr>\n",
              "      <th>3</th>\n",
              "      <td>4.027044e+05</td>\n",
              "      <td>0.06993</td>\n",
              "      <td>71.434196</td>\n",
              "      <td>3.219699</td>\n",
              "      <td>219.391531</td>\n",
              "      <td>7.176986</td>\n",
              "    </tr>\n",
              "    <tr>\n",
              "      <th>4</th>\n",
              "      <td>2.094713e+06</td>\n",
              "      <td>0.06993</td>\n",
              "      <td>62.253357</td>\n",
              "      <td>3.216972</td>\n",
              "      <td>128.679669</td>\n",
              "      <td>5.964692</td>\n",
              "    </tr>\n",
              "    <tr>\n",
              "      <th>5</th>\n",
              "      <td>3.180118e+05</td>\n",
              "      <td>0.06993</td>\n",
              "      <td>69.410140</td>\n",
              "      <td>3.219699</td>\n",
              "      <td>216.565581</td>\n",
              "      <td>6.295406</td>\n",
              "    </tr>\n",
              "  </tbody>\n",
              "</table>\n",
              "</div>"
            ],
            "text/plain": [
              "       Weekly_Sales  Holiday_Flag  ...         CPI  Unemployment\n",
              "Store                              ...                          \n",
              "1      1.555264e+06       0.06993  ...  215.996892      7.610420\n",
              "2      1.925751e+06       0.06993  ...  215.646311      7.623846\n",
              "3      4.027044e+05       0.06993  ...  219.391531      7.176986\n",
              "4      2.094713e+06       0.06993  ...  128.679669      5.964692\n",
              "5      3.180118e+05       0.06993  ...  216.565581      6.295406\n",
              "\n",
              "[5 rows x 6 columns]"
            ]
          },
          "metadata": {
            "tags": []
          },
          "execution_count": 33
        }
      ]
    },
    {
      "cell_type": "code",
      "metadata": {
        "id": "SOn6osz50soe",
        "colab": {
          "base_uri": "https://localhost:8080/"
        },
        "outputId": "8ecfc2e2-9301-4eb8-e27e-15c3f47c0857"
      },
      "source": [
        "stack_mean = stack_mean.sort_values(\"Weekly_Sales\",ascending=False)\n",
        "stack_mean.head(1)"
      ],
      "execution_count": null,
      "outputs": [
        {
          "output_type": "execute_result",
          "data": {
            "text/html": [
              "<div>\n",
              "<style scoped>\n",
              "    .dataframe tbody tr th:only-of-type {\n",
              "        vertical-align: middle;\n",
              "    }\n",
              "\n",
              "    .dataframe tbody tr th {\n",
              "        vertical-align: top;\n",
              "    }\n",
              "\n",
              "    .dataframe thead th {\n",
              "        text-align: right;\n",
              "    }\n",
              "</style>\n",
              "<table border=\"1\" class=\"dataframe\">\n",
              "  <thead>\n",
              "    <tr style=\"text-align: right;\">\n",
              "      <th></th>\n",
              "      <th>Weekly_Sales</th>\n",
              "      <th>Holiday_Flag</th>\n",
              "      <th>Temperature</th>\n",
              "      <th>Fuel_Price</th>\n",
              "      <th>CPI</th>\n",
              "      <th>Unemployment</th>\n",
              "    </tr>\n",
              "    <tr>\n",
              "      <th>Store</th>\n",
              "      <th></th>\n",
              "      <th></th>\n",
              "      <th></th>\n",
              "      <th></th>\n",
              "      <th></th>\n",
              "      <th></th>\n",
              "    </tr>\n",
              "  </thead>\n",
              "  <tbody>\n",
              "    <tr>\n",
              "      <th>20</th>\n",
              "      <td>2.107677e+06</td>\n",
              "      <td>0.06993</td>\n",
              "      <td>55.451399</td>\n",
              "      <td>3.417608</td>\n",
              "      <td>209.038131</td>\n",
              "      <td>7.371413</td>\n",
              "    </tr>\n",
              "  </tbody>\n",
              "</table>\n",
              "</div>"
            ],
            "text/plain": [
              "       Weekly_Sales  Holiday_Flag  ...         CPI  Unemployment\n",
              "Store                              ...                          \n",
              "20     2.107677e+06       0.06993  ...  209.038131      7.371413\n",
              "\n",
              "[1 rows x 6 columns]"
            ]
          },
          "metadata": {
            "tags": []
          },
          "execution_count": 34
        }
      ]
    },
    {
      "cell_type": "code",
      "metadata": {
        "id": "Omy-uNCT0wA6",
        "colab": {
          "base_uri": "https://localhost:8080/"
        },
        "outputId": "157a5f9d-ebbc-4570-a95b-aeaa338c67cd"
      },
      "source": [
        "ratio_cov = (stack_std.iloc[0]['Weekly_Sales'])/stack_mean.iloc[0]['Weekly_Sales']\n",
        "print(ratio_cov)"
      ],
      "execution_count": null,
      "outputs": [
        {
          "output_type": "stream",
          "text": [
            "0.1506729774108235\n"
          ],
          "name": "stdout"
        }
      ]
    },
    {
      "cell_type": "markdown",
      "metadata": {
        "id": "sdhm3vUm08jD"
      },
      "source": [
        "## Question 3 Some holidays have a negative impact on sales. Find out holidays which have higher sales than the mean sales in non-holiday season for all stores together\n",
        "\n",
        "1.   Extract those rows from the DataFrame which has Holiday flag =0. Named it df_noholi.\n",
        "2. Calculate the mean of the Weekly_Sales from this dataframe.\n",
        "2.   Extract those rows from the DataFrame which has Holiday flag =1. Named it df_holi.\n",
        "4. Created a new Dataframe df_higher which extract those rows which have higher sales than the mean sales in non holiday season of all the stores.\n",
        "\n"
      ]
    },
    {
      "cell_type": "code",
      "metadata": {
        "id": "mlInmsFj04gM",
        "colab": {
          "base_uri": "https://localhost:8080/"
        },
        "outputId": "9e85b6cc-84ed-4dbf-85d6-7f0c6836a705"
      },
      "source": [
        "df_noholi = df[df['Holiday_Flag']==0] \n",
        "df_noholi.head() "
      ],
      "execution_count": null,
      "outputs": [
        {
          "output_type": "execute_result",
          "data": {
            "text/html": [
              "<div>\n",
              "<style scoped>\n",
              "    .dataframe tbody tr th:only-of-type {\n",
              "        vertical-align: middle;\n",
              "    }\n",
              "\n",
              "    .dataframe tbody tr th {\n",
              "        vertical-align: top;\n",
              "    }\n",
              "\n",
              "    .dataframe thead th {\n",
              "        text-align: right;\n",
              "    }\n",
              "</style>\n",
              "<table border=\"1\" class=\"dataframe\">\n",
              "  <thead>\n",
              "    <tr style=\"text-align: right;\">\n",
              "      <th></th>\n",
              "      <th>Store</th>\n",
              "      <th>Date</th>\n",
              "      <th>Weekly_Sales</th>\n",
              "      <th>Holiday_Flag</th>\n",
              "      <th>Temperature</th>\n",
              "      <th>Fuel_Price</th>\n",
              "      <th>CPI</th>\n",
              "      <th>Unemployment</th>\n",
              "    </tr>\n",
              "  </thead>\n",
              "  <tbody>\n",
              "    <tr>\n",
              "      <th>1905</th>\n",
              "      <td>14</td>\n",
              "      <td>24-12-2010</td>\n",
              "      <td>3818686.45</td>\n",
              "      <td>0</td>\n",
              "      <td>30.59</td>\n",
              "      <td>3.141</td>\n",
              "      <td>182.544590</td>\n",
              "      <td>8.724</td>\n",
              "    </tr>\n",
              "    <tr>\n",
              "      <th>2763</th>\n",
              "      <td>20</td>\n",
              "      <td>24-12-2010</td>\n",
              "      <td>3766687.43</td>\n",
              "      <td>0</td>\n",
              "      <td>25.17</td>\n",
              "      <td>3.141</td>\n",
              "      <td>204.637673</td>\n",
              "      <td>7.484</td>\n",
              "    </tr>\n",
              "    <tr>\n",
              "      <th>1333</th>\n",
              "      <td>10</td>\n",
              "      <td>24-12-2010</td>\n",
              "      <td>3749057.69</td>\n",
              "      <td>0</td>\n",
              "      <td>57.06</td>\n",
              "      <td>3.236</td>\n",
              "      <td>126.983581</td>\n",
              "      <td>9.003</td>\n",
              "    </tr>\n",
              "    <tr>\n",
              "      <th>527</th>\n",
              "      <td>4</td>\n",
              "      <td>23-12-2011</td>\n",
              "      <td>3676388.98</td>\n",
              "      <td>0</td>\n",
              "      <td>35.92</td>\n",
              "      <td>3.103</td>\n",
              "      <td>129.984548</td>\n",
              "      <td>5.143</td>\n",
              "    </tr>\n",
              "    <tr>\n",
              "      <th>1762</th>\n",
              "      <td>13</td>\n",
              "      <td>24-12-2010</td>\n",
              "      <td>3595903.20</td>\n",
              "      <td>0</td>\n",
              "      <td>34.90</td>\n",
              "      <td>2.846</td>\n",
              "      <td>126.983581</td>\n",
              "      <td>7.795</td>\n",
              "    </tr>\n",
              "  </tbody>\n",
              "</table>\n",
              "</div>"
            ],
            "text/plain": [
              "      Store        Date  Weekly_Sales  ...  Fuel_Price         CPI  Unemployment\n",
              "1905     14  24-12-2010    3818686.45  ...       3.141  182.544590         8.724\n",
              "2763     20  24-12-2010    3766687.43  ...       3.141  204.637673         7.484\n",
              "1333     10  24-12-2010    3749057.69  ...       3.236  126.983581         9.003\n",
              "527       4  23-12-2011    3676388.98  ...       3.103  129.984548         5.143\n",
              "1762     13  24-12-2010    3595903.20  ...       2.846  126.983581         7.795\n",
              "\n",
              "[5 rows x 8 columns]"
            ]
          },
          "metadata": {
            "tags": []
          },
          "execution_count": 36
        }
      ]
    },
    {
      "cell_type": "code",
      "metadata": {
        "id": "ybsMgoSp1JuG",
        "colab": {
          "base_uri": "https://localhost:8080/"
        },
        "outputId": "9ae69f03-22ee-4e22-b094-41b9f7784cef"
      },
      "source": [
        "avg = df_noholi[['Weekly_Sales']].mean()\n",
        "print(avg['Weekly_Sales'])\n",
        "avg_weekly_sales = avg['Weekly_Sales']"
      ],
      "execution_count": null,
      "outputs": [
        {
          "output_type": "stream",
          "text": [
            "1041256.3802088547\n"
          ],
          "name": "stdout"
        }
      ]
    },
    {
      "cell_type": "code",
      "metadata": {
        "id": "BomeemZv1L4x",
        "colab": {
          "base_uri": "https://localhost:8080/"
        },
        "outputId": "0a695d1e-90af-4926-afce-1134f8febd34"
      },
      "source": [
        "df_holi = df[df['Holiday_Flag']==1]\n",
        "df_holi.head()"
      ],
      "execution_count": null,
      "outputs": [
        {
          "output_type": "execute_result",
          "data": {
            "text/html": [
              "<div>\n",
              "<style scoped>\n",
              "    .dataframe tbody tr th:only-of-type {\n",
              "        vertical-align: middle;\n",
              "    }\n",
              "\n",
              "    .dataframe tbody tr th {\n",
              "        vertical-align: top;\n",
              "    }\n",
              "\n",
              "    .dataframe thead th {\n",
              "        text-align: right;\n",
              "    }\n",
              "</style>\n",
              "<table border=\"1\" class=\"dataframe\">\n",
              "  <thead>\n",
              "    <tr style=\"text-align: right;\">\n",
              "      <th></th>\n",
              "      <th>Store</th>\n",
              "      <th>Date</th>\n",
              "      <th>Weekly_Sales</th>\n",
              "      <th>Holiday_Flag</th>\n",
              "      <th>Temperature</th>\n",
              "      <th>Fuel_Price</th>\n",
              "      <th>CPI</th>\n",
              "      <th>Unemployment</th>\n",
              "    </tr>\n",
              "  </thead>\n",
              "  <tbody>\n",
              "    <tr>\n",
              "      <th>523</th>\n",
              "      <td>4</td>\n",
              "      <td>25-11-2011</td>\n",
              "      <td>3004702.33</td>\n",
              "      <td>1</td>\n",
              "      <td>47.96</td>\n",
              "      <td>3.225</td>\n",
              "      <td>129.836400</td>\n",
              "      <td>5.143</td>\n",
              "    </tr>\n",
              "    <tr>\n",
              "      <th>1381</th>\n",
              "      <td>10</td>\n",
              "      <td>25-11-2011</td>\n",
              "      <td>2950198.64</td>\n",
              "      <td>1</td>\n",
              "      <td>60.68</td>\n",
              "      <td>3.760</td>\n",
              "      <td>129.836400</td>\n",
              "      <td>7.874</td>\n",
              "    </tr>\n",
              "    <tr>\n",
              "      <th>1329</th>\n",
              "      <td>10</td>\n",
              "      <td>26-11-2010</td>\n",
              "      <td>2939946.38</td>\n",
              "      <td>1</td>\n",
              "      <td>55.33</td>\n",
              "      <td>3.162</td>\n",
              "      <td>126.669267</td>\n",
              "      <td>9.003</td>\n",
              "    </tr>\n",
              "    <tr>\n",
              "      <th>1901</th>\n",
              "      <td>14</td>\n",
              "      <td>26-11-2010</td>\n",
              "      <td>2921709.71</td>\n",
              "      <td>1</td>\n",
              "      <td>46.15</td>\n",
              "      <td>3.039</td>\n",
              "      <td>182.783277</td>\n",
              "      <td>8.724</td>\n",
              "    </tr>\n",
              "    <tr>\n",
              "      <th>2811</th>\n",
              "      <td>20</td>\n",
              "      <td>25-11-2011</td>\n",
              "      <td>2906233.25</td>\n",
              "      <td>1</td>\n",
              "      <td>46.38</td>\n",
              "      <td>3.492</td>\n",
              "      <td>211.412076</td>\n",
              "      <td>7.082</td>\n",
              "    </tr>\n",
              "  </tbody>\n",
              "</table>\n",
              "</div>"
            ],
            "text/plain": [
              "      Store        Date  Weekly_Sales  ...  Fuel_Price         CPI  Unemployment\n",
              "523       4  25-11-2011    3004702.33  ...       3.225  129.836400         5.143\n",
              "1381     10  25-11-2011    2950198.64  ...       3.760  129.836400         7.874\n",
              "1329     10  26-11-2010    2939946.38  ...       3.162  126.669267         9.003\n",
              "1901     14  26-11-2010    2921709.71  ...       3.039  182.783277         8.724\n",
              "2811     20  25-11-2011    2906233.25  ...       3.492  211.412076         7.082\n",
              "\n",
              "[5 rows x 8 columns]"
            ]
          },
          "metadata": {
            "tags": []
          },
          "execution_count": 38
        }
      ]
    },
    {
      "cell_type": "code",
      "metadata": {
        "id": "vBQCFRTB1OCB",
        "colab": {
          "base_uri": "https://localhost:8080/"
        },
        "outputId": "b21e931c-291b-4cf0-93fe-8cfa77c275d5"
      },
      "source": [
        "df_higher = df_holi[df_holi['Weekly_Sales']>avg_weekly_sales ]\n",
        "df_higher.head()"
      ],
      "execution_count": null,
      "outputs": [
        {
          "output_type": "execute_result",
          "data": {
            "text/html": [
              "<div>\n",
              "<style scoped>\n",
              "    .dataframe tbody tr th:only-of-type {\n",
              "        vertical-align: middle;\n",
              "    }\n",
              "\n",
              "    .dataframe tbody tr th {\n",
              "        vertical-align: top;\n",
              "    }\n",
              "\n",
              "    .dataframe thead th {\n",
              "        text-align: right;\n",
              "    }\n",
              "</style>\n",
              "<table border=\"1\" class=\"dataframe\">\n",
              "  <thead>\n",
              "    <tr style=\"text-align: right;\">\n",
              "      <th></th>\n",
              "      <th>Store</th>\n",
              "      <th>Date</th>\n",
              "      <th>Weekly_Sales</th>\n",
              "      <th>Holiday_Flag</th>\n",
              "      <th>Temperature</th>\n",
              "      <th>Fuel_Price</th>\n",
              "      <th>CPI</th>\n",
              "      <th>Unemployment</th>\n",
              "    </tr>\n",
              "  </thead>\n",
              "  <tbody>\n",
              "    <tr>\n",
              "      <th>523</th>\n",
              "      <td>4</td>\n",
              "      <td>25-11-2011</td>\n",
              "      <td>3004702.33</td>\n",
              "      <td>1</td>\n",
              "      <td>47.96</td>\n",
              "      <td>3.225</td>\n",
              "      <td>129.836400</td>\n",
              "      <td>5.143</td>\n",
              "    </tr>\n",
              "    <tr>\n",
              "      <th>1381</th>\n",
              "      <td>10</td>\n",
              "      <td>25-11-2011</td>\n",
              "      <td>2950198.64</td>\n",
              "      <td>1</td>\n",
              "      <td>60.68</td>\n",
              "      <td>3.760</td>\n",
              "      <td>129.836400</td>\n",
              "      <td>7.874</td>\n",
              "    </tr>\n",
              "    <tr>\n",
              "      <th>1329</th>\n",
              "      <td>10</td>\n",
              "      <td>26-11-2010</td>\n",
              "      <td>2939946.38</td>\n",
              "      <td>1</td>\n",
              "      <td>55.33</td>\n",
              "      <td>3.162</td>\n",
              "      <td>126.669267</td>\n",
              "      <td>9.003</td>\n",
              "    </tr>\n",
              "    <tr>\n",
              "      <th>1901</th>\n",
              "      <td>14</td>\n",
              "      <td>26-11-2010</td>\n",
              "      <td>2921709.71</td>\n",
              "      <td>1</td>\n",
              "      <td>46.15</td>\n",
              "      <td>3.039</td>\n",
              "      <td>182.783277</td>\n",
              "      <td>8.724</td>\n",
              "    </tr>\n",
              "    <tr>\n",
              "      <th>2811</th>\n",
              "      <td>20</td>\n",
              "      <td>25-11-2011</td>\n",
              "      <td>2906233.25</td>\n",
              "      <td>1</td>\n",
              "      <td>46.38</td>\n",
              "      <td>3.492</td>\n",
              "      <td>211.412076</td>\n",
              "      <td>7.082</td>\n",
              "    </tr>\n",
              "  </tbody>\n",
              "</table>\n",
              "</div>"
            ],
            "text/plain": [
              "      Store        Date  Weekly_Sales  ...  Fuel_Price         CPI  Unemployment\n",
              "523       4  25-11-2011    3004702.33  ...       3.225  129.836400         5.143\n",
              "1381     10  25-11-2011    2950198.64  ...       3.760  129.836400         7.874\n",
              "1329     10  26-11-2010    2939946.38  ...       3.162  126.669267         9.003\n",
              "1901     14  26-11-2010    2921709.71  ...       3.039  182.783277         8.724\n",
              "2811     20  25-11-2011    2906233.25  ...       3.492  211.412076         7.082\n",
              "\n",
              "[5 rows x 8 columns]"
            ]
          },
          "metadata": {
            "tags": []
          },
          "execution_count": 39
        }
      ]
    },
    {
      "cell_type": "code",
      "metadata": {
        "id": "UnPXMcoR1VAS",
        "colab": {
          "base_uri": "https://localhost:8080/"
        },
        "outputId": "90dc24ca-8030-4800-97e9-2920274f3f9c"
      },
      "source": [
        "df_higher['Date']\n"
      ],
      "execution_count": null,
      "outputs": [
        {
          "output_type": "execute_result",
          "data": {
            "text/plain": [
              "523     25-11-2011\n",
              "1381    25-11-2011\n",
              "1329    26-11-2010\n",
              "1901    26-11-2010\n",
              "2811    25-11-2011\n",
              "           ...    \n",
              "5721    12-02-2010\n",
              "3658    09-09-2011\n",
              "2096    25-11-2011\n",
              "4824    10-02-2012\n",
              "3606    10-09-2010\n",
              "Name: Date, Length: 220, dtype: object"
            ]
          },
          "metadata": {
            "tags": []
          },
          "execution_count": 40
        }
      ]
    },
    {
      "cell_type": "markdown",
      "metadata": {
        "id": "ti4kdIIE16-_"
      },
      "source": [
        "## Question 4 Provide a monthly and 6 month view of sales in units and give insights\n",
        "\n",
        "\n",
        ">\n",
        "\n",
        "1.   First I extract the month from the dates using python scripting, I gave a new column to it month_break.\n",
        "2.   Extract the 2 important features from the Dataframe(Weekly Sales & Month Break) and put them in a seperate Dataframe.\n",
        "3. Grouped the data according to the month wise and then plot the Stacked bar graph for the respective years.\n",
        "\n",
        "\n",
        "\n"
      ]
    },
    {
      "cell_type": "code",
      "metadata": {
        "id": "GwQl3MWi1W3O",
        "colab": {
          "base_uri": "https://localhost:8080/",
          "height": 1000
        },
        "outputId": "3e36b214-18de-448c-a3c0-73326fb0d0a5"
      },
      "source": [
        "df = pd.read_csv('Mart.csv')\n",
        "df['month_break'] = 0\n",
        "for i in range(0,df.shape[0]):\n",
        "    df['month_break'][i] = df['Date'][i][3:]\n",
        "df.head(30) "
      ],
      "execution_count": null,
      "outputs": [
        {
          "output_type": "stream",
          "text": [
            "/usr/local/lib/python3.6/dist-packages/ipykernel_launcher.py:4: SettingWithCopyWarning: \n",
            "A value is trying to be set on a copy of a slice from a DataFrame\n",
            "\n",
            "See the caveats in the documentation: https://pandas.pydata.org/pandas-docs/stable/user_guide/indexing.html#returning-a-view-versus-a-copy\n",
            "  after removing the cwd from sys.path.\n",
            "/usr/local/lib/python3.6/dist-packages/pandas/core/indexing.py:671: SettingWithCopyWarning: \n",
            "A value is trying to be set on a copy of a slice from a DataFrame\n",
            "\n",
            "See the caveats in the documentation: https://pandas.pydata.org/pandas-docs/stable/user_guide/indexing.html#returning-a-view-versus-a-copy\n",
            "  self._setitem_with_indexer(indexer, value)\n"
          ],
          "name": "stderr"
        },
        {
          "output_type": "execute_result",
          "data": {
            "text/html": [
              "<div>\n",
              "<style scoped>\n",
              "    .dataframe tbody tr th:only-of-type {\n",
              "        vertical-align: middle;\n",
              "    }\n",
              "\n",
              "    .dataframe tbody tr th {\n",
              "        vertical-align: top;\n",
              "    }\n",
              "\n",
              "    .dataframe thead th {\n",
              "        text-align: right;\n",
              "    }\n",
              "</style>\n",
              "<table border=\"1\" class=\"dataframe\">\n",
              "  <thead>\n",
              "    <tr style=\"text-align: right;\">\n",
              "      <th></th>\n",
              "      <th>Store</th>\n",
              "      <th>Date</th>\n",
              "      <th>Weekly_Sales</th>\n",
              "      <th>Holiday_Flag</th>\n",
              "      <th>Temperature</th>\n",
              "      <th>Fuel_Price</th>\n",
              "      <th>CPI</th>\n",
              "      <th>Unemployment</th>\n",
              "      <th>month_break</th>\n",
              "    </tr>\n",
              "  </thead>\n",
              "  <tbody>\n",
              "    <tr>\n",
              "      <th>0</th>\n",
              "      <td>1</td>\n",
              "      <td>05-02-2010</td>\n",
              "      <td>1643690.90</td>\n",
              "      <td>0</td>\n",
              "      <td>42.31</td>\n",
              "      <td>2.572</td>\n",
              "      <td>211.096358</td>\n",
              "      <td>8.106</td>\n",
              "      <td>02-2010</td>\n",
              "    </tr>\n",
              "    <tr>\n",
              "      <th>1</th>\n",
              "      <td>1</td>\n",
              "      <td>12-02-2010</td>\n",
              "      <td>1641957.44</td>\n",
              "      <td>1</td>\n",
              "      <td>38.51</td>\n",
              "      <td>2.548</td>\n",
              "      <td>211.242170</td>\n",
              "      <td>8.106</td>\n",
              "      <td>02-2010</td>\n",
              "    </tr>\n",
              "    <tr>\n",
              "      <th>2</th>\n",
              "      <td>1</td>\n",
              "      <td>19-02-2010</td>\n",
              "      <td>1611968.17</td>\n",
              "      <td>0</td>\n",
              "      <td>39.93</td>\n",
              "      <td>2.514</td>\n",
              "      <td>211.289143</td>\n",
              "      <td>8.106</td>\n",
              "      <td>02-2010</td>\n",
              "    </tr>\n",
              "    <tr>\n",
              "      <th>3</th>\n",
              "      <td>1</td>\n",
              "      <td>26-02-2010</td>\n",
              "      <td>1409727.59</td>\n",
              "      <td>0</td>\n",
              "      <td>46.63</td>\n",
              "      <td>2.561</td>\n",
              "      <td>211.319643</td>\n",
              "      <td>8.106</td>\n",
              "      <td>02-2010</td>\n",
              "    </tr>\n",
              "    <tr>\n",
              "      <th>4</th>\n",
              "      <td>1</td>\n",
              "      <td>05-03-2010</td>\n",
              "      <td>1554806.68</td>\n",
              "      <td>0</td>\n",
              "      <td>46.50</td>\n",
              "      <td>2.625</td>\n",
              "      <td>211.350143</td>\n",
              "      <td>8.106</td>\n",
              "      <td>03-2010</td>\n",
              "    </tr>\n",
              "    <tr>\n",
              "      <th>5</th>\n",
              "      <td>1</td>\n",
              "      <td>12-03-2010</td>\n",
              "      <td>1439541.59</td>\n",
              "      <td>0</td>\n",
              "      <td>57.79</td>\n",
              "      <td>2.667</td>\n",
              "      <td>211.380643</td>\n",
              "      <td>8.106</td>\n",
              "      <td>03-2010</td>\n",
              "    </tr>\n",
              "    <tr>\n",
              "      <th>6</th>\n",
              "      <td>1</td>\n",
              "      <td>19-03-2010</td>\n",
              "      <td>1472515.79</td>\n",
              "      <td>0</td>\n",
              "      <td>54.58</td>\n",
              "      <td>2.720</td>\n",
              "      <td>211.215635</td>\n",
              "      <td>8.106</td>\n",
              "      <td>03-2010</td>\n",
              "    </tr>\n",
              "    <tr>\n",
              "      <th>7</th>\n",
              "      <td>1</td>\n",
              "      <td>26-03-2010</td>\n",
              "      <td>1404429.92</td>\n",
              "      <td>0</td>\n",
              "      <td>51.45</td>\n",
              "      <td>2.732</td>\n",
              "      <td>211.018042</td>\n",
              "      <td>8.106</td>\n",
              "      <td>03-2010</td>\n",
              "    </tr>\n",
              "    <tr>\n",
              "      <th>8</th>\n",
              "      <td>1</td>\n",
              "      <td>02-04-2010</td>\n",
              "      <td>1594968.28</td>\n",
              "      <td>0</td>\n",
              "      <td>62.27</td>\n",
              "      <td>2.719</td>\n",
              "      <td>210.820450</td>\n",
              "      <td>7.808</td>\n",
              "      <td>04-2010</td>\n",
              "    </tr>\n",
              "    <tr>\n",
              "      <th>9</th>\n",
              "      <td>1</td>\n",
              "      <td>09-04-2010</td>\n",
              "      <td>1545418.53</td>\n",
              "      <td>0</td>\n",
              "      <td>65.86</td>\n",
              "      <td>2.770</td>\n",
              "      <td>210.622857</td>\n",
              "      <td>7.808</td>\n",
              "      <td>04-2010</td>\n",
              "    </tr>\n",
              "    <tr>\n",
              "      <th>10</th>\n",
              "      <td>1</td>\n",
              "      <td>16-04-2010</td>\n",
              "      <td>1466058.28</td>\n",
              "      <td>0</td>\n",
              "      <td>66.32</td>\n",
              "      <td>2.808</td>\n",
              "      <td>210.488700</td>\n",
              "      <td>7.808</td>\n",
              "      <td>04-2010</td>\n",
              "    </tr>\n",
              "    <tr>\n",
              "      <th>11</th>\n",
              "      <td>1</td>\n",
              "      <td>23-04-2010</td>\n",
              "      <td>1391256.12</td>\n",
              "      <td>0</td>\n",
              "      <td>64.84</td>\n",
              "      <td>2.795</td>\n",
              "      <td>210.439123</td>\n",
              "      <td>7.808</td>\n",
              "      <td>04-2010</td>\n",
              "    </tr>\n",
              "    <tr>\n",
              "      <th>12</th>\n",
              "      <td>1</td>\n",
              "      <td>30-04-2010</td>\n",
              "      <td>1425100.71</td>\n",
              "      <td>0</td>\n",
              "      <td>67.41</td>\n",
              "      <td>2.780</td>\n",
              "      <td>210.389546</td>\n",
              "      <td>7.808</td>\n",
              "      <td>04-2010</td>\n",
              "    </tr>\n",
              "    <tr>\n",
              "      <th>13</th>\n",
              "      <td>1</td>\n",
              "      <td>07-05-2010</td>\n",
              "      <td>1603955.12</td>\n",
              "      <td>0</td>\n",
              "      <td>72.55</td>\n",
              "      <td>2.835</td>\n",
              "      <td>210.339968</td>\n",
              "      <td>7.808</td>\n",
              "      <td>05-2010</td>\n",
              "    </tr>\n",
              "    <tr>\n",
              "      <th>14</th>\n",
              "      <td>1</td>\n",
              "      <td>14-05-2010</td>\n",
              "      <td>1494251.50</td>\n",
              "      <td>0</td>\n",
              "      <td>74.78</td>\n",
              "      <td>2.854</td>\n",
              "      <td>210.337426</td>\n",
              "      <td>7.808</td>\n",
              "      <td>05-2010</td>\n",
              "    </tr>\n",
              "    <tr>\n",
              "      <th>15</th>\n",
              "      <td>1</td>\n",
              "      <td>21-05-2010</td>\n",
              "      <td>1399662.07</td>\n",
              "      <td>0</td>\n",
              "      <td>76.44</td>\n",
              "      <td>2.826</td>\n",
              "      <td>210.617093</td>\n",
              "      <td>7.808</td>\n",
              "      <td>05-2010</td>\n",
              "    </tr>\n",
              "    <tr>\n",
              "      <th>16</th>\n",
              "      <td>1</td>\n",
              "      <td>28-05-2010</td>\n",
              "      <td>1432069.95</td>\n",
              "      <td>0</td>\n",
              "      <td>80.44</td>\n",
              "      <td>2.759</td>\n",
              "      <td>210.896761</td>\n",
              "      <td>7.808</td>\n",
              "      <td>05-2010</td>\n",
              "    </tr>\n",
              "    <tr>\n",
              "      <th>17</th>\n",
              "      <td>1</td>\n",
              "      <td>04-06-2010</td>\n",
              "      <td>1615524.71</td>\n",
              "      <td>0</td>\n",
              "      <td>80.69</td>\n",
              "      <td>2.705</td>\n",
              "      <td>211.176428</td>\n",
              "      <td>7.808</td>\n",
              "      <td>06-2010</td>\n",
              "    </tr>\n",
              "    <tr>\n",
              "      <th>18</th>\n",
              "      <td>1</td>\n",
              "      <td>11-06-2010</td>\n",
              "      <td>1542561.09</td>\n",
              "      <td>0</td>\n",
              "      <td>80.43</td>\n",
              "      <td>2.668</td>\n",
              "      <td>211.456095</td>\n",
              "      <td>7.808</td>\n",
              "      <td>06-2010</td>\n",
              "    </tr>\n",
              "    <tr>\n",
              "      <th>19</th>\n",
              "      <td>1</td>\n",
              "      <td>18-06-2010</td>\n",
              "      <td>1503284.06</td>\n",
              "      <td>0</td>\n",
              "      <td>84.11</td>\n",
              "      <td>2.637</td>\n",
              "      <td>211.453772</td>\n",
              "      <td>7.808</td>\n",
              "      <td>06-2010</td>\n",
              "    </tr>\n",
              "    <tr>\n",
              "      <th>20</th>\n",
              "      <td>1</td>\n",
              "      <td>25-06-2010</td>\n",
              "      <td>1422711.60</td>\n",
              "      <td>0</td>\n",
              "      <td>84.34</td>\n",
              "      <td>2.653</td>\n",
              "      <td>211.338653</td>\n",
              "      <td>7.808</td>\n",
              "      <td>06-2010</td>\n",
              "    </tr>\n",
              "    <tr>\n",
              "      <th>21</th>\n",
              "      <td>1</td>\n",
              "      <td>02-07-2010</td>\n",
              "      <td>1492418.14</td>\n",
              "      <td>0</td>\n",
              "      <td>80.91</td>\n",
              "      <td>2.669</td>\n",
              "      <td>211.223533</td>\n",
              "      <td>7.787</td>\n",
              "      <td>07-2010</td>\n",
              "    </tr>\n",
              "    <tr>\n",
              "      <th>22</th>\n",
              "      <td>1</td>\n",
              "      <td>09-07-2010</td>\n",
              "      <td>1546074.18</td>\n",
              "      <td>0</td>\n",
              "      <td>80.48</td>\n",
              "      <td>2.642</td>\n",
              "      <td>211.108414</td>\n",
              "      <td>7.787</td>\n",
              "      <td>07-2010</td>\n",
              "    </tr>\n",
              "    <tr>\n",
              "      <th>23</th>\n",
              "      <td>1</td>\n",
              "      <td>16-07-2010</td>\n",
              "      <td>1448938.92</td>\n",
              "      <td>0</td>\n",
              "      <td>83.15</td>\n",
              "      <td>2.623</td>\n",
              "      <td>211.100385</td>\n",
              "      <td>7.787</td>\n",
              "      <td>07-2010</td>\n",
              "    </tr>\n",
              "    <tr>\n",
              "      <th>24</th>\n",
              "      <td>1</td>\n",
              "      <td>23-07-2010</td>\n",
              "      <td>1385065.20</td>\n",
              "      <td>0</td>\n",
              "      <td>83.36</td>\n",
              "      <td>2.608</td>\n",
              "      <td>211.235144</td>\n",
              "      <td>7.787</td>\n",
              "      <td>07-2010</td>\n",
              "    </tr>\n",
              "    <tr>\n",
              "      <th>25</th>\n",
              "      <td>1</td>\n",
              "      <td>30-07-2010</td>\n",
              "      <td>1371986.60</td>\n",
              "      <td>0</td>\n",
              "      <td>81.84</td>\n",
              "      <td>2.640</td>\n",
              "      <td>211.369903</td>\n",
              "      <td>7.787</td>\n",
              "      <td>07-2010</td>\n",
              "    </tr>\n",
              "    <tr>\n",
              "      <th>26</th>\n",
              "      <td>1</td>\n",
              "      <td>06-08-2010</td>\n",
              "      <td>1605491.78</td>\n",
              "      <td>0</td>\n",
              "      <td>87.16</td>\n",
              "      <td>2.627</td>\n",
              "      <td>211.504662</td>\n",
              "      <td>7.787</td>\n",
              "      <td>08-2010</td>\n",
              "    </tr>\n",
              "    <tr>\n",
              "      <th>27</th>\n",
              "      <td>1</td>\n",
              "      <td>13-08-2010</td>\n",
              "      <td>1508237.76</td>\n",
              "      <td>0</td>\n",
              "      <td>87.00</td>\n",
              "      <td>2.692</td>\n",
              "      <td>211.639421</td>\n",
              "      <td>7.787</td>\n",
              "      <td>08-2010</td>\n",
              "    </tr>\n",
              "    <tr>\n",
              "      <th>28</th>\n",
              "      <td>1</td>\n",
              "      <td>20-08-2010</td>\n",
              "      <td>1513080.49</td>\n",
              "      <td>0</td>\n",
              "      <td>86.65</td>\n",
              "      <td>2.664</td>\n",
              "      <td>211.603363</td>\n",
              "      <td>7.787</td>\n",
              "      <td>08-2010</td>\n",
              "    </tr>\n",
              "    <tr>\n",
              "      <th>29</th>\n",
              "      <td>1</td>\n",
              "      <td>27-08-2010</td>\n",
              "      <td>1449142.92</td>\n",
              "      <td>0</td>\n",
              "      <td>85.22</td>\n",
              "      <td>2.619</td>\n",
              "      <td>211.567306</td>\n",
              "      <td>7.787</td>\n",
              "      <td>08-2010</td>\n",
              "    </tr>\n",
              "  </tbody>\n",
              "</table>\n",
              "</div>"
            ],
            "text/plain": [
              "    Store        Date  Weekly_Sales  ...         CPI  Unemployment  month_break\n",
              "0       1  05-02-2010    1643690.90  ...  211.096358         8.106      02-2010\n",
              "1       1  12-02-2010    1641957.44  ...  211.242170         8.106      02-2010\n",
              "2       1  19-02-2010    1611968.17  ...  211.289143         8.106      02-2010\n",
              "3       1  26-02-2010    1409727.59  ...  211.319643         8.106      02-2010\n",
              "4       1  05-03-2010    1554806.68  ...  211.350143         8.106      03-2010\n",
              "5       1  12-03-2010    1439541.59  ...  211.380643         8.106      03-2010\n",
              "6       1  19-03-2010    1472515.79  ...  211.215635         8.106      03-2010\n",
              "7       1  26-03-2010    1404429.92  ...  211.018042         8.106      03-2010\n",
              "8       1  02-04-2010    1594968.28  ...  210.820450         7.808      04-2010\n",
              "9       1  09-04-2010    1545418.53  ...  210.622857         7.808      04-2010\n",
              "10      1  16-04-2010    1466058.28  ...  210.488700         7.808      04-2010\n",
              "11      1  23-04-2010    1391256.12  ...  210.439123         7.808      04-2010\n",
              "12      1  30-04-2010    1425100.71  ...  210.389546         7.808      04-2010\n",
              "13      1  07-05-2010    1603955.12  ...  210.339968         7.808      05-2010\n",
              "14      1  14-05-2010    1494251.50  ...  210.337426         7.808      05-2010\n",
              "15      1  21-05-2010    1399662.07  ...  210.617093         7.808      05-2010\n",
              "16      1  28-05-2010    1432069.95  ...  210.896761         7.808      05-2010\n",
              "17      1  04-06-2010    1615524.71  ...  211.176428         7.808      06-2010\n",
              "18      1  11-06-2010    1542561.09  ...  211.456095         7.808      06-2010\n",
              "19      1  18-06-2010    1503284.06  ...  211.453772         7.808      06-2010\n",
              "20      1  25-06-2010    1422711.60  ...  211.338653         7.808      06-2010\n",
              "21      1  02-07-2010    1492418.14  ...  211.223533         7.787      07-2010\n",
              "22      1  09-07-2010    1546074.18  ...  211.108414         7.787      07-2010\n",
              "23      1  16-07-2010    1448938.92  ...  211.100385         7.787      07-2010\n",
              "24      1  23-07-2010    1385065.20  ...  211.235144         7.787      07-2010\n",
              "25      1  30-07-2010    1371986.60  ...  211.369903         7.787      07-2010\n",
              "26      1  06-08-2010    1605491.78  ...  211.504662         7.787      08-2010\n",
              "27      1  13-08-2010    1508237.76  ...  211.639421         7.787      08-2010\n",
              "28      1  20-08-2010    1513080.49  ...  211.603363         7.787      08-2010\n",
              "29      1  27-08-2010    1449142.92  ...  211.567306         7.787      08-2010\n",
              "\n",
              "[30 rows x 9 columns]"
            ]
          },
          "metadata": {
            "tags": []
          },
          "execution_count": 41
        }
      ]
    },
    {
      "cell_type": "code",
      "metadata": {
        "id": "i-8SevQv2Htm",
        "colab": {
          "base_uri": "https://localhost:8080/",
          "height": 195
        },
        "outputId": "f931be92-9bd0-40d4-b644-2a93038147bf"
      },
      "source": [
        "df_new = df[['month_break','Weekly_Sales']]\n",
        "df_new.head()"
      ],
      "execution_count": null,
      "outputs": [
        {
          "output_type": "execute_result",
          "data": {
            "text/html": [
              "<div>\n",
              "<style scoped>\n",
              "    .dataframe tbody tr th:only-of-type {\n",
              "        vertical-align: middle;\n",
              "    }\n",
              "\n",
              "    .dataframe tbody tr th {\n",
              "        vertical-align: top;\n",
              "    }\n",
              "\n",
              "    .dataframe thead th {\n",
              "        text-align: right;\n",
              "    }\n",
              "</style>\n",
              "<table border=\"1\" class=\"dataframe\">\n",
              "  <thead>\n",
              "    <tr style=\"text-align: right;\">\n",
              "      <th></th>\n",
              "      <th>month_break</th>\n",
              "      <th>Weekly_Sales</th>\n",
              "    </tr>\n",
              "  </thead>\n",
              "  <tbody>\n",
              "    <tr>\n",
              "      <th>0</th>\n",
              "      <td>02-2010</td>\n",
              "      <td>1643690.90</td>\n",
              "    </tr>\n",
              "    <tr>\n",
              "      <th>1</th>\n",
              "      <td>02-2010</td>\n",
              "      <td>1641957.44</td>\n",
              "    </tr>\n",
              "    <tr>\n",
              "      <th>2</th>\n",
              "      <td>02-2010</td>\n",
              "      <td>1611968.17</td>\n",
              "    </tr>\n",
              "    <tr>\n",
              "      <th>3</th>\n",
              "      <td>02-2010</td>\n",
              "      <td>1409727.59</td>\n",
              "    </tr>\n",
              "    <tr>\n",
              "      <th>4</th>\n",
              "      <td>03-2010</td>\n",
              "      <td>1554806.68</td>\n",
              "    </tr>\n",
              "  </tbody>\n",
              "</table>\n",
              "</div>"
            ],
            "text/plain": [
              "  month_break  Weekly_Sales\n",
              "0     02-2010    1643690.90\n",
              "1     02-2010    1641957.44\n",
              "2     02-2010    1611968.17\n",
              "3     02-2010    1409727.59\n",
              "4     03-2010    1554806.68"
            ]
          },
          "metadata": {
            "tags": []
          },
          "execution_count": 42
        }
      ]
    },
    {
      "cell_type": "code",
      "metadata": {
        "id": "IrNbDYqP2M2G",
        "colab": {
          "base_uri": "https://localhost:8080/",
          "height": 373
        },
        "outputId": "daa4af1a-40da-48de-8efc-78d62471e171"
      },
      "source": [
        "stack_date = df_new.groupby('month_break').sum()\n",
        "stack_date = stack_date.sort_values(\"month_break\")\n",
        "stack_date.head(10)"
      ],
      "execution_count": null,
      "outputs": [
        {
          "output_type": "execute_result",
          "data": {
            "text/html": [
              "<div>\n",
              "<style scoped>\n",
              "    .dataframe tbody tr th:only-of-type {\n",
              "        vertical-align: middle;\n",
              "    }\n",
              "\n",
              "    .dataframe tbody tr th {\n",
              "        vertical-align: top;\n",
              "    }\n",
              "\n",
              "    .dataframe thead th {\n",
              "        text-align: right;\n",
              "    }\n",
              "</style>\n",
              "<table border=\"1\" class=\"dataframe\">\n",
              "  <thead>\n",
              "    <tr style=\"text-align: right;\">\n",
              "      <th></th>\n",
              "      <th>Weekly_Sales</th>\n",
              "    </tr>\n",
              "    <tr>\n",
              "      <th>month_break</th>\n",
              "      <th></th>\n",
              "    </tr>\n",
              "  </thead>\n",
              "  <tbody>\n",
              "    <tr>\n",
              "      <th>01-2011</th>\n",
              "      <td>1.637040e+08</td>\n",
              "    </tr>\n",
              "    <tr>\n",
              "      <th>01-2012</th>\n",
              "      <td>1.688945e+08</td>\n",
              "    </tr>\n",
              "    <tr>\n",
              "      <th>02-2010</th>\n",
              "      <td>1.903330e+08</td>\n",
              "    </tr>\n",
              "    <tr>\n",
              "      <th>02-2011</th>\n",
              "      <td>1.863313e+08</td>\n",
              "    </tr>\n",
              "    <tr>\n",
              "      <th>02-2012</th>\n",
              "      <td>1.920636e+08</td>\n",
              "    </tr>\n",
              "    <tr>\n",
              "      <th>03-2010</th>\n",
              "      <td>1.819198e+08</td>\n",
              "    </tr>\n",
              "    <tr>\n",
              "      <th>03-2011</th>\n",
              "      <td>1.793564e+08</td>\n",
              "    </tr>\n",
              "    <tr>\n",
              "      <th>03-2012</th>\n",
              "      <td>2.315097e+08</td>\n",
              "    </tr>\n",
              "    <tr>\n",
              "      <th>04-2010</th>\n",
              "      <td>2.314124e+08</td>\n",
              "    </tr>\n",
              "    <tr>\n",
              "      <th>04-2011</th>\n",
              "      <td>2.265265e+08</td>\n",
              "    </tr>\n",
              "  </tbody>\n",
              "</table>\n",
              "</div>"
            ],
            "text/plain": [
              "             Weekly_Sales\n",
              "month_break              \n",
              "01-2011      1.637040e+08\n",
              "01-2012      1.688945e+08\n",
              "02-2010      1.903330e+08\n",
              "02-2011      1.863313e+08\n",
              "02-2012      1.920636e+08\n",
              "03-2010      1.819198e+08\n",
              "03-2011      1.793564e+08\n",
              "03-2012      2.315097e+08\n",
              "04-2010      2.314124e+08\n",
              "04-2011      2.265265e+08"
            ]
          },
          "metadata": {
            "tags": []
          },
          "execution_count": 43
        }
      ]
    },
    {
      "cell_type": "code",
      "metadata": {
        "id": "O3fg8I5x2Pm7",
        "colab": {
          "base_uri": "https://localhost:8080/",
          "height": 605
        },
        "outputId": "5b212ea4-7798-4c80-8e5e-e55ccffafd9f"
      },
      "source": [
        "print(stack_date.to_string())"
      ],
      "execution_count": null,
      "outputs": [
        {
          "output_type": "stream",
          "text": [
            "             Weekly_Sales\n",
            "month_break              \n",
            "01-2011      1.637040e+08\n",
            "01-2012      1.688945e+08\n",
            "02-2010      1.903330e+08\n",
            "02-2011      1.863313e+08\n",
            "02-2012      1.920636e+08\n",
            "03-2010      1.819198e+08\n",
            "03-2011      1.793564e+08\n",
            "03-2012      2.315097e+08\n",
            "04-2010      2.314124e+08\n",
            "04-2011      2.265265e+08\n",
            "04-2012      1.889209e+08\n",
            "05-2010      1.867109e+08\n",
            "05-2011      1.816482e+08\n",
            "05-2012      1.887665e+08\n",
            "06-2010      1.922462e+08\n",
            "06-2011      1.897734e+08\n",
            "06-2012      2.406103e+08\n",
            "07-2010      2.325801e+08\n",
            "07-2011      2.299114e+08\n",
            "07-2012      1.875095e+08\n",
            "08-2010      1.876401e+08\n",
            "08-2011      1.885993e+08\n",
            "08-2012      2.368508e+08\n",
            "09-2010      1.772679e+08\n",
            "09-2011      2.208477e+08\n",
            "09-2012      1.806455e+08\n",
            "10-2010      2.171618e+08\n",
            "10-2011      1.832613e+08\n",
            "10-2012      1.843617e+08\n",
            "11-2010      2.028534e+08\n",
            "11-2011      2.101624e+08\n",
            "12-2010      2.887605e+08\n",
            "12-2011      2.880781e+08\n"
          ],
          "name": "stdout"
        }
      ]
    },
    {
      "cell_type": "code",
      "metadata": {
        "id": "_9DlUTL82Tac",
        "colab": {
          "base_uri": "https://localhost:8080/",
          "height": 588
        },
        "outputId": "91907ed1-0da2-47d0-961c-9b5c6872e015"
      },
      "source": [
        "t = df_new['month_break']\n",
        "t = t.drop_duplicates()\n",
        "t = t.sort_values()\n",
        "(t)"
      ],
      "execution_count": null,
      "outputs": [
        {
          "output_type": "execute_result",
          "data": {
            "text/plain": [
              "48     01-2011\n",
              "100    01-2012\n",
              "0      02-2010\n",
              "52     02-2011\n",
              "104    02-2012\n",
              "4      03-2010\n",
              "56     03-2011\n",
              "108    03-2012\n",
              "8      04-2010\n",
              "60     04-2011\n",
              "113    04-2012\n",
              "13     05-2010\n",
              "65     05-2011\n",
              "117    05-2012\n",
              "17     06-2010\n",
              "69     06-2011\n",
              "121    06-2012\n",
              "21     07-2010\n",
              "73     07-2011\n",
              "126    07-2012\n",
              "26     08-2010\n",
              "78     08-2011\n",
              "130    08-2012\n",
              "30     09-2010\n",
              "82     09-2011\n",
              "135    09-2012\n",
              "34     10-2010\n",
              "87     10-2011\n",
              "139    10-2012\n",
              "39     11-2010\n",
              "91     11-2011\n",
              "43     12-2010\n",
              "95     12-2011\n",
              "Name: month_break, dtype: object"
            ]
          },
          "metadata": {
            "tags": []
          },
          "execution_count": 45
        }
      ]
    },
    {
      "cell_type": "code",
      "metadata": {
        "id": "eFVEQ12Z2XaR"
      },
      "source": [
        "df['Month'] = pd.DatetimeIndex(df['Date']).month\n",
        "df['Year'] = pd.DatetimeIndex(df['Date']).year\n",
        "monthly = df.groupby(['Month','Year'])['Weekly_Sales'].sum().unstack().fillna(0)\n"
      ],
      "execution_count": null,
      "outputs": []
    },
    {
      "cell_type": "code",
      "metadata": {
        "id": "LDMgRkyd2aDP",
        "colab": {
          "base_uri": "https://localhost:8080/",
          "height": 402
        },
        "outputId": "743fdf74-5ae5-431a-bb39-85311f7a5674"
      },
      "source": [
        "monthly.plot(kind='bar',stacked=True,figsize=(12,6))\n",
        "plt.xlabel('Month from year 2010 2011 2012')\n",
        "plt.ylabel('Sales')\n",
        "plt.show()"
      ],
      "execution_count": null,
      "outputs": [
        {
          "output_type": "display_data",
          "data": {
            "image/png": "[encoded data removed]",
            "text/plain": [
              "<Figure size 864x432 with 1 Axes>"
            ]
          },
          "metadata": {
            "tags": [],
            "needs_background": "light"
          }
        }
      ]
    },
    {
      "cell_type": "markdown",
      "metadata": {
        "id": "dv8ENZMjsZlk"
      },
      "source": [
        "# *Model* \n",
        "\n",
        "\n",
        "> \n",
        "\n",
        "1.   We have to develop a Linear Regression Model for the Store 2.\n",
        "2.   First I extract the rows of the Store 2 from the dataframe Mart.csv. We have converted the Date to the Index. Starting from 5-Feb-2010 as 0. \n",
        "3. When we draw scatter plot between the Fuel Price and Sales as well between CPI and Sales, We found that yes there is correlation between them.\n",
        "4. Now I have developed 2 models i) Bivariable Linear Regression Model Comprises of Dates and Weekly Sales Value ii) Multivariable Linear Reg Model to because we find correlation with other data also.\n",
        "\n",
        "5. For both models first we have calculated X,y split the data using train_test_split and then gave it names X_train,y_train to the training data, X_test,y_test for testing data.\n",
        "6. Finally I use sklearn linear regression classifier to develop the model and finally test the model on the test data X_test.\n",
        "\n",
        "\n",
        "\n",
        "\n"
      ]
    },
    {
      "cell_type": "code",
      "metadata": {
        "id": "nvjwDLwC9APC",
        "colab": {
          "base_uri": "https://localhost:8080/",
          "height": 195
        },
        "outputId": "b16fa426-0461-44c6-b00b-ddf8f0c472ec"
      },
      "source": [
        "df = pd.read_csv('Mart.csv')\n",
        "df.head()\n"
      ],
      "execution_count": null,
      "outputs": [
        {
          "output_type": "execute_result",
          "data": {
            "text/html": [
              "<div>\n",
              "<style scoped>\n",
              "    .dataframe tbody tr th:only-of-type {\n",
              "        vertical-align: middle;\n",
              "    }\n",
              "\n",
              "    .dataframe tbody tr th {\n",
              "        vertical-align: top;\n",
              "    }\n",
              "\n",
              "    .dataframe thead th {\n",
              "        text-align: right;\n",
              "    }\n",
              "</style>\n",
              "<table border=\"1\" class=\"dataframe\">\n",
              "  <thead>\n",
              "    <tr style=\"text-align: right;\">\n",
              "      <th></th>\n",
              "      <th>Store</th>\n",
              "      <th>Date</th>\n",
              "      <th>Weekly_Sales</th>\n",
              "      <th>Holiday_Flag</th>\n",
              "      <th>Temperature</th>\n",
              "      <th>Fuel_Price</th>\n",
              "      <th>CPI</th>\n",
              "      <th>Unemployment</th>\n",
              "    </tr>\n",
              "  </thead>\n",
              "  <tbody>\n",
              "    <tr>\n",
              "      <th>0</th>\n",
              "      <td>1</td>\n",
              "      <td>05-02-2010</td>\n",
              "      <td>1643690.90</td>\n",
              "      <td>0</td>\n",
              "      <td>42.31</td>\n",
              "      <td>2.572</td>\n",
              "      <td>211.096358</td>\n",
              "      <td>8.106</td>\n",
              "    </tr>\n",
              "    <tr>\n",
              "      <th>1</th>\n",
              "      <td>1</td>\n",
              "      <td>12-02-2010</td>\n",
              "      <td>1641957.44</td>\n",
              "      <td>1</td>\n",
              "      <td>38.51</td>\n",
              "      <td>2.548</td>\n",
              "      <td>211.242170</td>\n",
              "      <td>8.106</td>\n",
              "    </tr>\n",
              "    <tr>\n",
              "      <th>2</th>\n",
              "      <td>1</td>\n",
              "      <td>19-02-2010</td>\n",
              "      <td>1611968.17</td>\n",
              "      <td>0</td>\n",
              "      <td>39.93</td>\n",
              "      <td>2.514</td>\n",
              "      <td>211.289143</td>\n",
              "      <td>8.106</td>\n",
              "    </tr>\n",
              "    <tr>\n",
              "      <th>3</th>\n",
              "      <td>1</td>\n",
              "      <td>26-02-2010</td>\n",
              "      <td>1409727.59</td>\n",
              "      <td>0</td>\n",
              "      <td>46.63</td>\n",
              "      <td>2.561</td>\n",
              "      <td>211.319643</td>\n",
              "      <td>8.106</td>\n",
              "    </tr>\n",
              "    <tr>\n",
              "      <th>4</th>\n",
              "      <td>1</td>\n",
              "      <td>05-03-2010</td>\n",
              "      <td>1554806.68</td>\n",
              "      <td>0</td>\n",
              "      <td>46.50</td>\n",
              "      <td>2.625</td>\n",
              "      <td>211.350143</td>\n",
              "      <td>8.106</td>\n",
              "    </tr>\n",
              "  </tbody>\n",
              "</table>\n",
              "</div>"
            ],
            "text/plain": [
              "   Store        Date  Weekly_Sales  ...  Fuel_Price         CPI  Unemployment\n",
              "0      1  05-02-2010    1643690.90  ...       2.572  211.096358         8.106\n",
              "1      1  12-02-2010    1641957.44  ...       2.548  211.242170         8.106\n",
              "2      1  19-02-2010    1611968.17  ...       2.514  211.289143         8.106\n",
              "3      1  26-02-2010    1409727.59  ...       2.561  211.319643         8.106\n",
              "4      1  05-03-2010    1554806.68  ...       2.625  211.350143         8.106\n",
              "\n",
              "[5 rows x 8 columns]"
            ]
          },
          "metadata": {
            "tags": []
          },
          "execution_count": 156
        }
      ]
    },
    {
      "cell_type": "code",
      "metadata": {
        "id": "AhNtexP7szac",
        "colab": {
          "base_uri": "https://localhost:8080/",
          "height": 195
        },
        "outputId": "fdf9f636-a4d2-484f-9e9f-ade1b2a40af3"
      },
      "source": [
        "df_store2 = df[df['Store']==2]\n",
        "df['Date'] =pd.to_datetime(df.Date)\n",
        "df_store2 = df_store2.sort_values(\"Date\", axis = 0, ascending = True)\n",
        "df_store2.head()"
      ],
      "execution_count": null,
      "outputs": [
        {
          "output_type": "execute_result",
          "data": {
            "text/html": [
              "<div>\n",
              "<style scoped>\n",
              "    .dataframe tbody tr th:only-of-type {\n",
              "        vertical-align: middle;\n",
              "    }\n",
              "\n",
              "    .dataframe tbody tr th {\n",
              "        vertical-align: top;\n",
              "    }\n",
              "\n",
              "    .dataframe thead th {\n",
              "        text-align: right;\n",
              "    }\n",
              "</style>\n",
              "<table border=\"1\" class=\"dataframe\">\n",
              "  <thead>\n",
              "    <tr style=\"text-align: right;\">\n",
              "      <th></th>\n",
              "      <th>Store</th>\n",
              "      <th>Date</th>\n",
              "      <th>Weekly_Sales</th>\n",
              "      <th>Holiday_Flag</th>\n",
              "      <th>Temperature</th>\n",
              "      <th>Fuel_Price</th>\n",
              "      <th>CPI</th>\n",
              "      <th>Unemployment</th>\n",
              "    </tr>\n",
              "  </thead>\n",
              "  <tbody>\n",
              "    <tr>\n",
              "      <th>203</th>\n",
              "      <td>2</td>\n",
              "      <td>01-04-2011</td>\n",
              "      <td>1800171.36</td>\n",
              "      <td>0</td>\n",
              "      <td>55.43</td>\n",
              "      <td>3.524</td>\n",
              "      <td>214.488691</td>\n",
              "      <td>7.931</td>\n",
              "    </tr>\n",
              "    <tr>\n",
              "      <th>264</th>\n",
              "      <td>2</td>\n",
              "      <td>01-06-2012</td>\n",
              "      <td>1910092.37</td>\n",
              "      <td>0</td>\n",
              "      <td>78.38</td>\n",
              "      <td>3.501</td>\n",
              "      <td>221.385275</td>\n",
              "      <td>6.891</td>\n",
              "    </tr>\n",
              "    <tr>\n",
              "      <th>216</th>\n",
              "      <td>2</td>\n",
              "      <td>01-07-2011</td>\n",
              "      <td>1866243.00</td>\n",
              "      <td>0</td>\n",
              "      <td>85.69</td>\n",
              "      <td>3.524</td>\n",
              "      <td>214.836868</td>\n",
              "      <td>7.852</td>\n",
              "    </tr>\n",
              "    <tr>\n",
              "      <th>177</th>\n",
              "      <td>2</td>\n",
              "      <td>01-10-2010</td>\n",
              "      <td>1827440.43</td>\n",
              "      <td>0</td>\n",
              "      <td>69.24</td>\n",
              "      <td>2.603</td>\n",
              "      <td>211.329874</td>\n",
              "      <td>8.163</td>\n",
              "    </tr>\n",
              "    <tr>\n",
              "      <th>251</th>\n",
              "      <td>2</td>\n",
              "      <td>02-03-2012</td>\n",
              "      <td>1952555.66</td>\n",
              "      <td>0</td>\n",
              "      <td>58.79</td>\n",
              "      <td>3.630</td>\n",
              "      <td>220.486689</td>\n",
              "      <td>7.057</td>\n",
              "    </tr>\n",
              "  </tbody>\n",
              "</table>\n",
              "</div>"
            ],
            "text/plain": [
              "     Store        Date  Weekly_Sales  ...  Fuel_Price         CPI  Unemployment\n",
              "203      2  01-04-2011    1800171.36  ...       3.524  214.488691         7.931\n",
              "264      2  01-06-2012    1910092.37  ...       3.501  221.385275         6.891\n",
              "216      2  01-07-2011    1866243.00  ...       3.524  214.836868         7.852\n",
              "177      2  01-10-2010    1827440.43  ...       2.603  211.329874         8.163\n",
              "251      2  02-03-2012    1952555.66  ...       3.630  220.486689         7.057\n",
              "\n",
              "[5 rows x 8 columns]"
            ]
          },
          "metadata": {
            "tags": []
          },
          "execution_count": 157
        }
      ]
    },
    {
      "cell_type": "code",
      "metadata": {
        "id": "nPsv_ck1s4cw",
        "colab": {
          "base_uri": "https://localhost:8080/",
          "height": 195
        },
        "outputId": "21ee5ed6-846d-4bee-c006-658f8e722c63"
      },
      "source": [
        "df_store2 = df_store2.drop(['Store','Holiday_Flag','Fuel_Price','CPI','Unemployment','Temperature'],axis=1)\n",
        "df_store2.head()"
      ],
      "execution_count": null,
      "outputs": [
        {
          "output_type": "execute_result",
          "data": {
            "text/html": [
              "<div>\n",
              "<style scoped>\n",
              "    .dataframe tbody tr th:only-of-type {\n",
              "        vertical-align: middle;\n",
              "    }\n",
              "\n",
              "    .dataframe tbody tr th {\n",
              "        vertical-align: top;\n",
              "    }\n",
              "\n",
              "    .dataframe thead th {\n",
              "        text-align: right;\n",
              "    }\n",
              "</style>\n",
              "<table border=\"1\" class=\"dataframe\">\n",
              "  <thead>\n",
              "    <tr style=\"text-align: right;\">\n",
              "      <th></th>\n",
              "      <th>Date</th>\n",
              "      <th>Weekly_Sales</th>\n",
              "    </tr>\n",
              "  </thead>\n",
              "  <tbody>\n",
              "    <tr>\n",
              "      <th>203</th>\n",
              "      <td>01-04-2011</td>\n",
              "      <td>1800171.36</td>\n",
              "    </tr>\n",
              "    <tr>\n",
              "      <th>264</th>\n",
              "      <td>01-06-2012</td>\n",
              "      <td>1910092.37</td>\n",
              "    </tr>\n",
              "    <tr>\n",
              "      <th>216</th>\n",
              "      <td>01-07-2011</td>\n",
              "      <td>1866243.00</td>\n",
              "    </tr>\n",
              "    <tr>\n",
              "      <th>177</th>\n",
              "      <td>01-10-2010</td>\n",
              "      <td>1827440.43</td>\n",
              "    </tr>\n",
              "    <tr>\n",
              "      <th>251</th>\n",
              "      <td>02-03-2012</td>\n",
              "      <td>1952555.66</td>\n",
              "    </tr>\n",
              "  </tbody>\n",
              "</table>\n",
              "</div>"
            ],
            "text/plain": [
              "           Date  Weekly_Sales\n",
              "203  01-04-2011    1800171.36\n",
              "264  01-06-2012    1910092.37\n",
              "216  01-07-2011    1866243.00\n",
              "177  01-10-2010    1827440.43\n",
              "251  02-03-2012    1952555.66"
            ]
          },
          "metadata": {
            "tags": []
          },
          "execution_count": 159
        }
      ]
    },
    {
      "cell_type": "code",
      "metadata": {
        "id": "QUd-PwbCs670",
        "colab": {
          "base_uri": "https://localhost:8080/",
          "height": 34
        },
        "outputId": "f0cf7ee1-a5c4-4bb7-841f-8d3e4efbc076"
      },
      "source": [
        "print(df_store2.shape)"
      ],
      "execution_count": null,
      "outputs": [
        {
          "output_type": "stream",
          "text": [
            "(143, 2)\n"
          ],
          "name": "stdout"
        }
      ]
    },
    {
      "cell_type": "code",
      "metadata": {
        "id": "zV6TBEB7s8uI",
        "colab": {
          "base_uri": "https://localhost:8080/",
          "height": 101
        },
        "outputId": "e64f0b80-15a4-4c6a-a5bb-317129ee2460"
      },
      "source": [
        "X = []\n",
        "for i in range(df_store2.shape[0]):\n",
        "    t = [i]\n",
        "    X.append(t)\n",
        "y = df_store2[['Weekly_Sales']]\n",
        "print(y[0:4])"
      ],
      "execution_count": null,
      "outputs": [
        {
          "output_type": "stream",
          "text": [
            "     Weekly_Sales\n",
            "203    1800171.36\n",
            "264    1910092.37\n",
            "216    1866243.00\n",
            "177    1827440.43\n"
          ],
          "name": "stdout"
        }
      ]
    },
    {
      "cell_type": "markdown",
      "metadata": {
        "id": "IVY3_89C-aeC"
      },
      "source": [
        "## Model-1 Linear Regression using 2 Features"
      ]
    },
    {
      "cell_type": "code",
      "metadata": {
        "id": "MksxMd4ls_un"
      },
      "source": [
        "from sklearn.model_selection import train_test_split\n",
        "X_train, X_test,y_train,y_test = train_test_split(X,y,test_size = 0.25,random_state = 42 )"
      ],
      "execution_count": null,
      "outputs": []
    },
    {
      "cell_type": "code",
      "metadata": {
        "id": "Fx7AoaNGtCxS",
        "colab": {
          "base_uri": "https://localhost:8080/",
          "height": 50
        },
        "outputId": "b39958cd-c9c1-4f85-cce3-f8512105537f"
      },
      "source": [
        "from sklearn import linear_model\n",
        "regr = linear_model.LinearRegression()\n",
        "\n",
        "regr.fit(X_train,y_train)\n",
        "print ('Coefficients: ', regr.coef_)\n",
        "print ('Intercept: ',regr.intercept_)"
      ],
      "execution_count": null,
      "outputs": [
        {
          "output_type": "stream",
          "text": [
            "Coefficients:  [[-493.59094306]]\n",
            "Intercept:  [1973268.44966515]\n"
          ],
          "name": "stdout"
        }
      ]
    },
    {
      "cell_type": "code",
      "metadata": {
        "id": "PybNF1uotFUh",
        "colab": {
          "base_uri": "https://localhost:8080/",
          "height": 622
        },
        "outputId": "cfcd3efc-c032-4586-b6ee-6e905f325e03"
      },
      "source": [
        "y_pred = regr.predict(X_test)\n",
        "print(y_pred)\n",
        "\n"
      ],
      "execution_count": null,
      "outputs": [
        {
          "output_type": "stream",
          "text": [
            "[[1915518.30932723]\n",
            " [1963890.22174702]\n",
            " [1932793.9923343 ]\n",
            " [1925390.12818841]\n",
            " [1945627.35685384]\n",
            " [1967345.35834844]\n",
            " [1908608.0361244 ]\n",
            " [1941185.0383663 ]\n",
            " [1940691.44742325]\n",
            " [1964383.81269008]\n",
            " [1948095.31156913]\n",
            " [1934768.35610654]\n",
            " [1926870.90101759]\n",
            " [1908114.44518134]\n",
            " [1923909.35535924]\n",
            " [1941678.62930936]\n",
            " [1959941.49420255]\n",
            " [1939210.67459407]\n",
            " [1911569.58178276]\n",
            " [1937236.31082183]\n",
            " [1967838.9492915 ]\n",
            " [1914531.12744111]\n",
            " [1918973.44592864]\n",
            " [1917492.67309947]\n",
            " [1946120.9477969 ]\n",
            " [1951056.85722749]\n",
            " [1968826.13117761]\n",
            " [1971294.08589291]\n",
            " [1960435.08514561]\n",
            " [1912063.17272582]\n",
            " [1957967.13043031]\n",
            " [1924896.53724535]\n",
            " [1955499.17571502]\n",
            " [1965370.9945762 ]\n",
            " [1968332.54023456]\n",
            " [1927364.49196065]]\n"
          ],
          "name": "stdout"
        }
      ]
    },
    {
      "cell_type": "code",
      "metadata": {
        "id": "MIe_oIF0tHc8",
        "colab": {
          "base_uri": "https://localhost:8080/",
          "height": 293
        },
        "outputId": "92570730-038b-47a2-aa54-35c6a4ec92e0"
      },
      "source": [
        "plt.scatter(X_test, y_test,  color='black')\n",
        "plt.plot(X_test,y_pred, color='blue', linewidth=3)"
      ],
      "execution_count": null,
      "outputs": [
        {
          "output_type": "execute_result",
          "data": {
            "text/plain": [
              "[<matplotlib.lines.Line2D at 0x7f5703522e10>]"
            ]
          },
          "metadata": {
            "tags": []
          },
          "execution_count": 165
        },
        {
          "output_type": "display_data",
          "data": {
            "image/png": "[encoded data removed]",
            "text/plain": [
              "<Figure size 432x288 with 1 Axes>"
            ]
          },
          "metadata": {
            "tags": [],
            "needs_background": "light"
          }
        }
      ]
    },
    {
      "cell_type": "markdown",
      "metadata": {
        "id": "p1iBBvL_qFGV"
      },
      "source": [
        "###In this section we will look at how different features are affecting the target column Sales. \n",
        "###When we plotted the Scatter PLot graph between Fuel_Price, CPI,Unemployment, Temperature. \n",
        "###I obsereve that the Unemployment is not affecting the data very much but other 3 are playing significant role because the Scatter plot values are almost same for the whole dataset."
      ]
    },
    {
      "cell_type": "code",
      "metadata": {
        "id": "5dQPkOyJs2AT",
        "colab": {
          "base_uri": "https://localhost:8080/",
          "height": 291
        },
        "outputId": "6a25557c-e2ac-43a4-b79f-53be2d012a1f"
      },
      "source": [
        "  \n",
        "df = pd.read_csv('Mart.csv')\n",
        "df.head()\n",
        "df_store2 = df[df['Store']==2]\n",
        "df['Date'] =pd.to_datetime(df.Date)\n",
        "df_store2 = df_store2.sort_values(\"Date\", axis = 0, ascending = True)\n",
        "df_store2.head()\n",
        "\n",
        "X = df_store2['Fuel_Price']\n",
        "y = df_store2['Weekly_Sales']\n",
        "plt.scatter(X, y,  color='blue')\n",
        "plt.xlabel(\"Fuel_Price\")\n",
        "plt.ylabel(\"Sales\")\n",
        "plt.show()\n",
        "\n",
        "\n",
        "\n"
      ],
      "execution_count": null,
      "outputs": [
        {
          "output_type": "display_data",
          "data": {
            "image/png": "[encoded data removed]",
            "text/plain": [
              "<Figure size 432x288 with 1 Axes>"
            ]
          },
          "metadata": {
            "tags": [],
            "needs_background": "light"
          }
        }
      ]
    },
    {
      "cell_type": "code",
      "metadata": {
        "id": "qm5nYMtBt7hy",
        "colab": {
          "base_uri": "https://localhost:8080/",
          "height": 290
        },
        "outputId": "ceb0063f-241f-46e2-f26f-da804a6df8f8"
      },
      "source": [
        "\n",
        "X = df_store2['CPI']\n",
        "y = df_store2['Weekly_Sales']\n",
        "plt.scatter(X, y,  color='blue')\n",
        "plt.xlabel(\"CPI\")\n",
        "plt.ylabel(\"Sales\")\n",
        "plt.show()"
      ],
      "execution_count": null,
      "outputs": [
        {
          "output_type": "display_data",
          "data": {
            "image/png": "[encoded data removed]",
            "text/plain": [
              "<Figure size 432x288 with 1 Axes>"
            ]
          },
          "metadata": {
            "tags": [],
            "needs_background": "light"
          }
        }
      ]
    },
    {
      "cell_type": "code",
      "metadata": {
        "id": "kwvNqckqrkiJ",
        "colab": {
          "base_uri": "https://localhost:8080/",
          "height": 290
        },
        "outputId": "c8fd05f0-d59e-4f7b-8213-bd6a23f4f488"
      },
      "source": [
        "X = df_store2['Unemployment']\n",
        "y = df_store2['Weekly_Sales']\n",
        "plt.scatter(X, y,  color='blue')\n",
        "plt.xlabel(\"Unemployment\")\n",
        "plt.ylabel(\"Sales\")\n",
        "plt.show()\n",
        "\n"
      ],
      "execution_count": null,
      "outputs": [
        {
          "output_type": "display_data",
          "data": {
            "image/png": "[encoded data removed]",
            "text/plain": [
              "<Figure size 432x288 with 1 Axes>"
            ]
          },
          "metadata": {
            "tags": [],
            "needs_background": "light"
          }
        }
      ]
    },
    {
      "cell_type": "code",
      "metadata": {
        "id": "yH7wj1TktytU",
        "colab": {
          "base_uri": "https://localhost:8080/",
          "height": 290
        },
        "outputId": "26238c8c-e976-47be-ddc2-5d10c0ed6a0b"
      },
      "source": [
        "X = df_store2['Temperature']\n",
        "y = df_store2['Weekly_Sales']\n",
        "plt.scatter(X, y,  color='blue')\n",
        "plt.xlabel(\"Temperature\")\n",
        "plt.ylabel(\"Sales\")\n",
        "plt.show()"
      ],
      "execution_count": null,
      "outputs": [
        {
          "output_type": "display_data",
          "data": {
            "image/png": "[encoded data removed]",
            "text/plain": [
              "<Figure size 432x288 with 1 Axes>"
            ]
          },
          "metadata": {
            "tags": [],
            "needs_background": "light"
          }
        }
      ]
    },
    {
      "cell_type": "markdown",
      "metadata": {
        "id": "g6mSrLfB-jbW"
      },
      "source": [
        "##Model 2 Linear Regression using more than 2 Features(MultiVariable Linear Regression)."
      ]
    },
    {
      "cell_type": "code",
      "metadata": {
        "id": "uEck1J1w94HG",
        "colab": {
          "base_uri": "https://localhost:8080/",
          "height": 195
        },
        "outputId": "d520b78c-a271-469c-c0a6-c4c69f427d57"
      },
      "source": [
        "df_store2 = df[df['Store']==2]\n",
        "df['Date'] =pd.to_datetime(df.Date)\n",
        "df_store2 = df_store2.sort_values(\"Date\", axis = 0, ascending = True)\n",
        "df_store2.head()"
      ],
      "execution_count": null,
      "outputs": [
        {
          "output_type": "execute_result",
          "data": {
            "text/html": [
              "<div>\n",
              "<style scoped>\n",
              "    .dataframe tbody tr th:only-of-type {\n",
              "        vertical-align: middle;\n",
              "    }\n",
              "\n",
              "    .dataframe tbody tr th {\n",
              "        vertical-align: top;\n",
              "    }\n",
              "\n",
              "    .dataframe thead th {\n",
              "        text-align: right;\n",
              "    }\n",
              "</style>\n",
              "<table border=\"1\" class=\"dataframe\">\n",
              "  <thead>\n",
              "    <tr style=\"text-align: right;\">\n",
              "      <th></th>\n",
              "      <th>Store</th>\n",
              "      <th>Date</th>\n",
              "      <th>Weekly_Sales</th>\n",
              "      <th>Holiday_Flag</th>\n",
              "      <th>Temperature</th>\n",
              "      <th>Fuel_Price</th>\n",
              "      <th>CPI</th>\n",
              "      <th>Unemployment</th>\n",
              "    </tr>\n",
              "  </thead>\n",
              "  <tbody>\n",
              "    <tr>\n",
              "      <th>177</th>\n",
              "      <td>2</td>\n",
              "      <td>2010-01-10</td>\n",
              "      <td>1827440.43</td>\n",
              "      <td>0</td>\n",
              "      <td>69.24</td>\n",
              "      <td>2.603</td>\n",
              "      <td>211.329874</td>\n",
              "      <td>8.163</td>\n",
              "    </tr>\n",
              "    <tr>\n",
              "      <th>151</th>\n",
              "      <td>2</td>\n",
              "      <td>2010-02-04</td>\n",
              "      <td>2066187.72</td>\n",
              "      <td>0</td>\n",
              "      <td>63.27</td>\n",
              "      <td>2.719</td>\n",
              "      <td>210.479887</td>\n",
              "      <td>8.200</td>\n",
              "    </tr>\n",
              "    <tr>\n",
              "      <th>164</th>\n",
              "      <td>2</td>\n",
              "      <td>2010-02-07</td>\n",
              "      <td>2003940.64</td>\n",
              "      <td>0</td>\n",
              "      <td>82.74</td>\n",
              "      <td>2.669</td>\n",
              "      <td>210.880373</td>\n",
              "      <td>8.099</td>\n",
              "    </tr>\n",
              "    <tr>\n",
              "      <th>145</th>\n",
              "      <td>2</td>\n",
              "      <td>2010-02-19</td>\n",
              "      <td>2124451.54</td>\n",
              "      <td>0</td>\n",
              "      <td>39.69</td>\n",
              "      <td>2.514</td>\n",
              "      <td>210.945160</td>\n",
              "      <td>8.324</td>\n",
              "    </tr>\n",
              "    <tr>\n",
              "      <th>146</th>\n",
              "      <td>2</td>\n",
              "      <td>2010-02-26</td>\n",
              "      <td>1865097.27</td>\n",
              "      <td>0</td>\n",
              "      <td>46.10</td>\n",
              "      <td>2.561</td>\n",
              "      <td>210.975957</td>\n",
              "      <td>8.324</td>\n",
              "    </tr>\n",
              "  </tbody>\n",
              "</table>\n",
              "</div>"
            ],
            "text/plain": [
              "     Store       Date  Weekly_Sales  ...  Fuel_Price         CPI  Unemployment\n",
              "177      2 2010-01-10    1827440.43  ...       2.603  211.329874         8.163\n",
              "151      2 2010-02-04    2066187.72  ...       2.719  210.479887         8.200\n",
              "164      2 2010-02-07    2003940.64  ...       2.669  210.880373         8.099\n",
              "145      2 2010-02-19    2124451.54  ...       2.514  210.945160         8.324\n",
              "146      2 2010-02-26    1865097.27  ...       2.561  210.975957         8.324\n",
              "\n",
              "[5 rows x 8 columns]"
            ]
          },
          "metadata": {
            "tags": []
          },
          "execution_count": 210
        }
      ]
    },
    {
      "cell_type": "code",
      "metadata": {
        "id": "SL0VCBAw_FZs"
      },
      "source": [
        "X = []\n",
        "for i in range(df_store2.shape[0]):\n",
        "    t = i\n",
        "    X.append(t)\n",
        "\n",
        "df_store2['X'] = X\n",
        "df_store2 = df_store2.drop('Date',axis = 1)"
      ],
      "execution_count": null,
      "outputs": []
    },
    {
      "cell_type": "code",
      "metadata": {
        "id": "fDGsthRdiBpf",
        "colab": {
          "base_uri": "https://localhost:8080/",
          "height": 343
        },
        "outputId": "a6621b0c-3ff0-4f31-e1bc-66f3050011dd"
      },
      "source": [
        "from sklearn.preprocessing import MinMaxScaler\n",
        "scaler =MinMaxScaler()\n",
        "scales = scaler.fit_transform(df_store2)\n",
        "df_store2 = pd.DataFrame(scales,columns=[df_store2.columns])\n",
        "df_store2.head(10)"
      ],
      "execution_count": null,
      "outputs": [
        {
          "output_type": "execute_result",
          "data": {
            "text/html": [
              "<div>\n",
              "<style scoped>\n",
              "    .dataframe tbody tr th:only-of-type {\n",
              "        vertical-align: middle;\n",
              "    }\n",
              "\n",
              "    .dataframe tbody tr th {\n",
              "        vertical-align: top;\n",
              "    }\n",
              "\n",
              "    .dataframe thead tr th {\n",
              "        text-align: left;\n",
              "    }\n",
              "</style>\n",
              "<table border=\"1\" class=\"dataframe\">\n",
              "  <thead>\n",
              "    <tr>\n",
              "      <th></th>\n",
              "      <th>Store</th>\n",
              "      <th>Weekly_Sales</th>\n",
              "      <th>Holiday_Flag</th>\n",
              "      <th>Temperature</th>\n",
              "      <th>Fuel_Price</th>\n",
              "      <th>CPI</th>\n",
              "      <th>Unemployment</th>\n",
              "      <th>X</th>\n",
              "    </tr>\n",
              "  </thead>\n",
              "  <tbody>\n",
              "    <tr>\n",
              "      <th>0</th>\n",
              "      <td>0.0</td>\n",
              "      <td>0.099151</td>\n",
              "      <td>0.0</td>\n",
              "      <td>0.600464</td>\n",
              "      <td>0.063891</td>\n",
              "      <td>0.101791</td>\n",
              "      <td>0.925255</td>\n",
              "      <td>0.000000</td>\n",
              "    </tr>\n",
              "    <tr>\n",
              "      <th>1</th>\n",
              "      <td>0.0</td>\n",
              "      <td>0.232857</td>\n",
              "      <td>0.0</td>\n",
              "      <td>0.501492</td>\n",
              "      <td>0.147164</td>\n",
              "      <td>0.036807</td>\n",
              "      <td>0.942433</td>\n",
              "      <td>0.007042</td>\n",
              "    </tr>\n",
              "    <tr>\n",
              "      <th>2</th>\n",
              "      <td>0.0</td>\n",
              "      <td>0.197997</td>\n",
              "      <td>0.0</td>\n",
              "      <td>0.824271</td>\n",
              "      <td>0.111271</td>\n",
              "      <td>0.067425</td>\n",
              "      <td>0.895543</td>\n",
              "      <td>0.014085</td>\n",
              "    </tr>\n",
              "    <tr>\n",
              "      <th>3</th>\n",
              "      <td>0.0</td>\n",
              "      <td>0.265487</td>\n",
              "      <td>0.0</td>\n",
              "      <td>0.110577</td>\n",
              "      <td>0.000000</td>\n",
              "      <td>0.072379</td>\n",
              "      <td>1.000000</td>\n",
              "      <td>0.021127</td>\n",
              "    </tr>\n",
              "    <tr>\n",
              "      <th>4</th>\n",
              "      <td>0.0</td>\n",
              "      <td>0.120240</td>\n",
              "      <td>0.0</td>\n",
              "      <td>0.216844</td>\n",
              "      <td>0.033740</td>\n",
              "      <td>0.074733</td>\n",
              "      <td>1.000000</td>\n",
              "      <td>0.028169</td>\n",
              "    </tr>\n",
              "    <tr>\n",
              "      <th>5</th>\n",
              "      <td>0.0</td>\n",
              "      <td>0.142368</td>\n",
              "      <td>0.0</td>\n",
              "      <td>0.809184</td>\n",
              "      <td>0.045226</td>\n",
              "      <td>0.090997</td>\n",
              "      <td>0.895543</td>\n",
              "      <td>0.035211</td>\n",
              "    </tr>\n",
              "    <tr>\n",
              "      <th>6</th>\n",
              "      <td>0.0</td>\n",
              "      <td>0.204628</td>\n",
              "      <td>0.0</td>\n",
              "      <td>0.270391</td>\n",
              "      <td>0.139268</td>\n",
              "      <td>0.096873</td>\n",
              "      <td>0.925255</td>\n",
              "      <td>0.042254</td>\n",
              "    </tr>\n",
              "    <tr>\n",
              "      <th>7</th>\n",
              "      <td>0.0</td>\n",
              "      <td>0.165588</td>\n",
              "      <td>0.0</td>\n",
              "      <td>0.356432</td>\n",
              "      <td>0.147882</td>\n",
              "      <td>0.066887</td>\n",
              "      <td>1.000000</td>\n",
              "      <td>0.049296</td>\n",
              "    </tr>\n",
              "    <tr>\n",
              "      <th>8</th>\n",
              "      <td>0.0</td>\n",
              "      <td>0.055893</td>\n",
              "      <td>0.0</td>\n",
              "      <td>0.302387</td>\n",
              "      <td>0.156497</td>\n",
              "      <td>0.051847</td>\n",
              "      <td>1.000000</td>\n",
              "      <td>0.056338</td>\n",
              "    </tr>\n",
              "    <tr>\n",
              "      <th>9</th>\n",
              "      <td>0.0</td>\n",
              "      <td>0.253216</td>\n",
              "      <td>0.0</td>\n",
              "      <td>0.808853</td>\n",
              "      <td>0.137114</td>\n",
              "      <td>0.063851</td>\n",
              "      <td>0.942433</td>\n",
              "      <td>0.063380</td>\n",
              "    </tr>\n",
              "  </tbody>\n",
              "</table>\n",
              "</div>"
            ],
            "text/plain": [
              "  Store Weekly_Sales Holiday_Flag  ...       CPI Unemployment         X\n",
              "0   0.0     0.099151          0.0  ...  0.101791     0.925255  0.000000\n",
              "1   0.0     0.232857          0.0  ...  0.036807     0.942433  0.007042\n",
              "2   0.0     0.197997          0.0  ...  0.067425     0.895543  0.014085\n",
              "3   0.0     0.265487          0.0  ...  0.072379     1.000000  0.021127\n",
              "4   0.0     0.120240          0.0  ...  0.074733     1.000000  0.028169\n",
              "5   0.0     0.142368          0.0  ...  0.090997     0.895543  0.035211\n",
              "6   0.0     0.204628          0.0  ...  0.096873     0.925255  0.042254\n",
              "7   0.0     0.165588          0.0  ...  0.066887     1.000000  0.049296\n",
              "8   0.0     0.055893          0.0  ...  0.051847     1.000000  0.056338\n",
              "9   0.0     0.253216          0.0  ...  0.063851     0.942433  0.063380\n",
              "\n",
              "[10 rows x 8 columns]"
            ]
          },
          "metadata": {
            "tags": []
          },
          "execution_count": 212
        }
      ]
    },
    {
      "cell_type": "code",
      "metadata": {
        "id": "KDCdkxg5_R7d",
        "colab": {
          "base_uri": "https://localhost:8080/",
          "height": 455
        },
        "outputId": "adab0e6f-46bb-4a26-cf70-f5727582bd4b"
      },
      "source": [
        "y = df_store2[['Weekly_Sales']]\n",
        "X = df_store2.drop(['Weekly_Sales','Store'],axis =1)\n",
        "X"
      ],
      "execution_count": null,
      "outputs": [
        {
          "output_type": "stream",
          "text": [
            "/usr/local/lib/python3.6/dist-packages/pandas/core/generic.py:3936: PerformanceWarning: dropping on a non-lexsorted multi-index without a level parameter may impact performance.\n",
            "  obj = obj._drop_axis(labels, axis, level=level, errors=errors)\n"
          ],
          "name": "stderr"
        },
        {
          "output_type": "execute_result",
          "data": {
            "text/html": [
              "<div>\n",
              "<style scoped>\n",
              "    .dataframe tbody tr th:only-of-type {\n",
              "        vertical-align: middle;\n",
              "    }\n",
              "\n",
              "    .dataframe tbody tr th {\n",
              "        vertical-align: top;\n",
              "    }\n",
              "\n",
              "    .dataframe thead tr th {\n",
              "        text-align: left;\n",
              "    }\n",
              "</style>\n",
              "<table border=\"1\" class=\"dataframe\">\n",
              "  <thead>\n",
              "    <tr>\n",
              "      <th></th>\n",
              "      <th>Holiday_Flag</th>\n",
              "      <th>Temperature</th>\n",
              "      <th>Fuel_Price</th>\n",
              "      <th>CPI</th>\n",
              "      <th>Unemployment</th>\n",
              "      <th>X</th>\n",
              "    </tr>\n",
              "  </thead>\n",
              "  <tbody>\n",
              "    <tr>\n",
              "      <th>0</th>\n",
              "      <td>0.0</td>\n",
              "      <td>0.600464</td>\n",
              "      <td>0.063891</td>\n",
              "      <td>0.101791</td>\n",
              "      <td>0.925255</td>\n",
              "      <td>0.000000</td>\n",
              "    </tr>\n",
              "    <tr>\n",
              "      <th>1</th>\n",
              "      <td>0.0</td>\n",
              "      <td>0.501492</td>\n",
              "      <td>0.147164</td>\n",
              "      <td>0.036807</td>\n",
              "      <td>0.942433</td>\n",
              "      <td>0.007042</td>\n",
              "    </tr>\n",
              "    <tr>\n",
              "      <th>2</th>\n",
              "      <td>0.0</td>\n",
              "      <td>0.824271</td>\n",
              "      <td>0.111271</td>\n",
              "      <td>0.067425</td>\n",
              "      <td>0.895543</td>\n",
              "      <td>0.014085</td>\n",
              "    </tr>\n",
              "    <tr>\n",
              "      <th>3</th>\n",
              "      <td>0.0</td>\n",
              "      <td>0.110577</td>\n",
              "      <td>0.000000</td>\n",
              "      <td>0.072379</td>\n",
              "      <td>1.000000</td>\n",
              "      <td>0.021127</td>\n",
              "    </tr>\n",
              "    <tr>\n",
              "      <th>4</th>\n",
              "      <td>0.0</td>\n",
              "      <td>0.216844</td>\n",
              "      <td>0.033740</td>\n",
              "      <td>0.074733</td>\n",
              "      <td>1.000000</td>\n",
              "      <td>0.028169</td>\n",
              "    </tr>\n",
              "    <tr>\n",
              "      <th>...</th>\n",
              "      <td>...</td>\n",
              "      <td>...</td>\n",
              "      <td>...</td>\n",
              "      <td>...</td>\n",
              "      <td>...</td>\n",
              "      <td>...</td>\n",
              "    </tr>\n",
              "    <tr>\n",
              "      <th>138</th>\n",
              "      <td>0.0</td>\n",
              "      <td>0.920590</td>\n",
              "      <td>0.703518</td>\n",
              "      <td>0.886626</td>\n",
              "      <td>0.183380</td>\n",
              "      <td>0.971831</td>\n",
              "    </tr>\n",
              "    <tr>\n",
              "      <th>139</th>\n",
              "      <td>0.0</td>\n",
              "      <td>0.581233</td>\n",
              "      <td>0.775305</td>\n",
              "      <td>0.998583</td>\n",
              "      <td>0.000000</td>\n",
              "      <td>0.978873</td>\n",
              "    </tr>\n",
              "    <tr>\n",
              "      <th>140</th>\n",
              "      <td>0.0</td>\n",
              "      <td>0.609582</td>\n",
              "      <td>0.712132</td>\n",
              "      <td>1.000000</td>\n",
              "      <td>0.000000</td>\n",
              "      <td>0.985915</td>\n",
              "    </tr>\n",
              "    <tr>\n",
              "      <th>141</th>\n",
              "      <td>0.0</td>\n",
              "      <td>0.677221</td>\n",
              "      <td>0.842785</td>\n",
              "      <td>0.868874</td>\n",
              "      <td>0.334726</td>\n",
              "      <td>0.992958</td>\n",
              "    </tr>\n",
              "    <tr>\n",
              "      <th>142</th>\n",
              "      <td>0.0</td>\n",
              "      <td>0.463362</td>\n",
              "      <td>0.780330</td>\n",
              "      <td>0.995190</td>\n",
              "      <td>0.000000</td>\n",
              "      <td>1.000000</td>\n",
              "    </tr>\n",
              "  </tbody>\n",
              "</table>\n",
              "<p>143 rows × 6 columns</p>\n",
              "</div>"
            ],
            "text/plain": [
              "    Holiday_Flag Temperature Fuel_Price       CPI Unemployment         X\n",
              "0            0.0    0.600464   0.063891  0.101791     0.925255  0.000000\n",
              "1            0.0    0.501492   0.147164  0.036807     0.942433  0.007042\n",
              "2            0.0    0.824271   0.111271  0.067425     0.895543  0.014085\n",
              "3            0.0    0.110577   0.000000  0.072379     1.000000  0.021127\n",
              "4            0.0    0.216844   0.033740  0.074733     1.000000  0.028169\n",
              "..           ...         ...        ...       ...          ...       ...\n",
              "138          0.0    0.920590   0.703518  0.886626     0.183380  0.971831\n",
              "139          0.0    0.581233   0.775305  0.998583     0.000000  0.978873\n",
              "140          0.0    0.609582   0.712132  1.000000     0.000000  0.985915\n",
              "141          0.0    0.677221   0.842785  0.868874     0.334726  0.992958\n",
              "142          0.0    0.463362   0.780330  0.995190     0.000000  1.000000\n",
              "\n",
              "[143 rows x 6 columns]"
            ]
          },
          "metadata": {
            "tags": []
          },
          "execution_count": 213
        }
      ]
    },
    {
      "cell_type": "code",
      "metadata": {
        "id": "vbU2t68b-xHc"
      },
      "source": [
        "X_train,X_test,y_train,y_test = train_test_split(X,y,test_size=0.25,random_state=101)"
      ],
      "execution_count": null,
      "outputs": []
    },
    {
      "cell_type": "code",
      "metadata": {
        "id": "HZ4lwwzTAI1r",
        "colab": {
          "base_uri": "https://localhost:8080/",
          "height": 402
        },
        "outputId": "3cd87981-c62e-4423-f611-390b89e62f83"
      },
      "source": [
        "X_train\n"
      ],
      "execution_count": null,
      "outputs": [
        {
          "output_type": "execute_result",
          "data": {
            "text/html": [
              "<div>\n",
              "<style scoped>\n",
              "    .dataframe tbody tr th:only-of-type {\n",
              "        vertical-align: middle;\n",
              "    }\n",
              "\n",
              "    .dataframe tbody tr th {\n",
              "        vertical-align: top;\n",
              "    }\n",
              "\n",
              "    .dataframe thead tr th {\n",
              "        text-align: left;\n",
              "    }\n",
              "</style>\n",
              "<table border=\"1\" class=\"dataframe\">\n",
              "  <thead>\n",
              "    <tr>\n",
              "      <th></th>\n",
              "      <th>Holiday_Flag</th>\n",
              "      <th>Temperature</th>\n",
              "      <th>Fuel_Price</th>\n",
              "      <th>CPI</th>\n",
              "      <th>Unemployment</th>\n",
              "      <th>X</th>\n",
              "    </tr>\n",
              "  </thead>\n",
              "  <tbody>\n",
              "    <tr>\n",
              "      <th>13</th>\n",
              "      <td>0.0</td>\n",
              "      <td>0.118866</td>\n",
              "      <td>0.041637</td>\n",
              "      <td>0.057657</td>\n",
              "      <td>1.000000</td>\n",
              "      <td>0.091549</td>\n",
              "    </tr>\n",
              "    <tr>\n",
              "      <th>66</th>\n",
              "      <td>0.0</td>\n",
              "      <td>1.000000</td>\n",
              "      <td>0.839914</td>\n",
              "      <td>0.397511</td>\n",
              "      <td>0.780873</td>\n",
              "      <td>0.464789</td>\n",
              "    </tr>\n",
              "    <tr>\n",
              "      <th>57</th>\n",
              "      <td>0.0</td>\n",
              "      <td>0.829741</td>\n",
              "      <td>0.850682</td>\n",
              "      <td>0.376688</td>\n",
              "      <td>0.817549</td>\n",
              "      <td>0.401408</td>\n",
              "    </tr>\n",
              "    <tr>\n",
              "      <th>119</th>\n",
              "      <td>0.0</td>\n",
              "      <td>0.227619</td>\n",
              "      <td>0.461594</td>\n",
              "      <td>0.715343</td>\n",
              "      <td>0.411792</td>\n",
              "      <td>0.838028</td>\n",
              "    </tr>\n",
              "    <tr>\n",
              "      <th>91</th>\n",
              "      <td>1.0</td>\n",
              "      <td>0.002818</td>\n",
              "      <td>0.364681</td>\n",
              "      <td>0.198351</td>\n",
              "      <td>0.862581</td>\n",
              "      <td>0.640845</td>\n",
              "    </tr>\n",
              "    <tr>\n",
              "      <th>...</th>\n",
              "      <td>...</td>\n",
              "      <td>...</td>\n",
              "      <td>...</td>\n",
              "      <td>...</td>\n",
              "      <td>...</td>\n",
              "      <td>...</td>\n",
              "    </tr>\n",
              "    <tr>\n",
              "      <th>63</th>\n",
              "      <td>0.0</td>\n",
              "      <td>0.604443</td>\n",
              "      <td>0.882268</td>\n",
              "      <td>0.377955</td>\n",
              "      <td>0.817549</td>\n",
              "      <td>0.443662</td>\n",
              "    </tr>\n",
              "    <tr>\n",
              "      <th>70</th>\n",
              "      <td>0.0</td>\n",
              "      <td>0.471817</td>\n",
              "      <td>0.999282</td>\n",
              "      <td>0.416396</td>\n",
              "      <td>0.817549</td>\n",
              "      <td>0.492958</td>\n",
              "    </tr>\n",
              "    <tr>\n",
              "      <th>81</th>\n",
              "      <td>0.0</td>\n",
              "      <td>0.952089</td>\n",
              "      <td>0.724336</td>\n",
              "      <td>0.411964</td>\n",
              "      <td>0.780873</td>\n",
              "      <td>0.570423</td>\n",
              "    </tr>\n",
              "    <tr>\n",
              "      <th>11</th>\n",
              "      <td>0.0</td>\n",
              "      <td>0.531996</td>\n",
              "      <td>0.201723</td>\n",
              "      <td>0.007768</td>\n",
              "      <td>0.942433</td>\n",
              "      <td>0.077465</td>\n",
              "    </tr>\n",
              "    <tr>\n",
              "      <th>95</th>\n",
              "      <td>1.0</td>\n",
              "      <td>0.386936</td>\n",
              "      <td>0.518306</td>\n",
              "      <td>0.620386</td>\n",
              "      <td>0.590065</td>\n",
              "      <td>0.669014</td>\n",
              "    </tr>\n",
              "  </tbody>\n",
              "</table>\n",
              "<p>107 rows × 6 columns</p>\n",
              "</div>"
            ],
            "text/plain": [
              "    Holiday_Flag Temperature Fuel_Price       CPI Unemployment         X\n",
              "13           0.0    0.118866   0.041637  0.057657     1.000000  0.091549\n",
              "66           0.0    1.000000   0.839914  0.397511     0.780873  0.464789\n",
              "57           0.0    0.829741   0.850682  0.376688     0.817549  0.401408\n",
              "119          0.0    0.227619   0.461594  0.715343     0.411792  0.838028\n",
              "91           1.0    0.002818   0.364681  0.198351     0.862581  0.640845\n",
              "..           ...         ...        ...       ...          ...       ...\n",
              "63           0.0    0.604443   0.882268  0.377955     0.817549  0.443662\n",
              "70           0.0    0.471817   0.999282  0.416396     0.817549  0.492958\n",
              "81           0.0    0.952089   0.724336  0.411964     0.780873  0.570423\n",
              "11           0.0    0.531996   0.201723  0.007768     0.942433  0.077465\n",
              "95           1.0    0.386936   0.518306  0.620386     0.590065  0.669014\n",
              "\n",
              "[107 rows x 6 columns]"
            ]
          },
          "metadata": {
            "tags": []
          },
          "execution_count": 215
        }
      ]
    },
    {
      "cell_type": "code",
      "metadata": {
        "id": "GvHI72c7_sNo",
        "colab": {
          "base_uri": "https://localhost:8080/",
          "height": 50
        },
        "outputId": "a275d10c-0cb3-4f04-913b-66cbfc11d9b0"
      },
      "source": [
        "from sklearn import linear_model\n",
        "regr = linear_model.LinearRegression()\n",
        "\n",
        "regr.fit(X_train,y_train)\n",
        "print ('Coefficients: ', regr.coef_)\n",
        "print ('Intercept: ',regr.intercept_)"
      ],
      "execution_count": null,
      "outputs": [
        {
          "output_type": "stream",
          "text": [
            "Coefficients:  [[-0.00912821 -0.1214091  -0.1669598   0.22308807  0.25105693  0.10410555]]\n",
            "Intercept:  [-0.00417413]\n"
          ],
          "name": "stdout"
        }
      ]
    },
    {
      "cell_type": "code",
      "metadata": {
        "id": "LaPrz8ryktJF",
        "colab": {
          "base_uri": "https://localhost:8080/",
          "height": 34
        },
        "outputId": "ecd40376-bac6-4556-fa2a-0cba7f9881b7"
      },
      "source": [
        "regr.score(X_test,y_test)"
      ],
      "execution_count": null,
      "outputs": [
        {
          "output_type": "execute_result",
          "data": {
            "text/plain": [
              "0.19765146859907934"
            ]
          },
          "metadata": {
            "tags": []
          },
          "execution_count": 220
        }
      ]
    },
    {
      "cell_type": "code",
      "metadata": {
        "id": "-D1pUFsN_yDc",
        "colab": {
          "base_uri": "https://localhost:8080/",
          "height": 622
        },
        "outputId": "24238d88-3428-4086-d325-06ce95fd2c0c"
      },
      "source": [
        "y_pred = regr.predict(X_test)\n",
        "print(y_pred)"
      ],
      "execution_count": null,
      "outputs": [
        {
          "output_type": "stream",
          "text": [
            "[[0.15494146]\n",
            " [0.08113297]\n",
            " [0.18394675]\n",
            " [0.11059037]\n",
            " [0.17385837]\n",
            " [0.09623779]\n",
            " [0.25382389]\n",
            " [0.09979332]\n",
            " [0.16746518]\n",
            " [0.15909768]\n",
            " [0.14576748]\n",
            " [0.12231549]\n",
            " [0.1413583 ]\n",
            " [0.13983479]\n",
            " [0.1559182 ]\n",
            " [0.16434211]\n",
            " [0.08762547]\n",
            " [0.1862695 ]\n",
            " [0.21191626]\n",
            " [0.16871263]\n",
            " [0.16595593]\n",
            " [0.14669179]\n",
            " [0.19811744]\n",
            " [0.17184081]\n",
            " [0.18867008]\n",
            " [0.10714161]\n",
            " [0.2283994 ]\n",
            " [0.10699591]\n",
            " [0.26880383]\n",
            " [0.14762566]\n",
            " [0.15744633]\n",
            " [0.11726808]\n",
            " [0.14100424]\n",
            " [0.13312255]\n",
            " [0.07464815]\n",
            " [0.09939384]]\n"
          ],
          "name": "stdout"
        }
      ]
    },
    {
      "cell_type": "code",
      "metadata": {
        "id": "4BnBbTlzo2th"
      },
      "source": [
        ""
      ],
      "execution_count": null,
      "outputs": []
    }
  ]
}